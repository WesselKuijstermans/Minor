{
 "cells": [
  {
   "cell_type": "markdown",
   "metadata": {},
   "source": [
    "# First Deep Learning Model"
   ]
  },
  {
   "cell_type": "code",
   "execution_count": null,
   "metadata": {},
   "outputs": [],
   "source": [
    "import numpy as np\n",
    "%matplotlib inline\n",
    "import matplotlib.pyplot as plt\n",
    "from sklearn.datasets import make_circles\n",
    "\n",
    "# create artificial dataset\n",
    "X, y = make_circles(n_samples=1000,\n",
    "                    noise=0.1,\n",
    "                    factor=0.2,\n",
    "                    random_state=0)\n",
    "\n",
    "print(X.shape)\n",
    "X"
   ]
  },
  {
   "cell_type": "code",
   "execution_count": null,
   "metadata": {},
   "outputs": [],
   "source": [
    "# explore data\n",
    "plt.figure(figsize=(5, 5))\n",
    "plt.plot(X[y==0, 0], X[y==0, 1], 'ob', alpha=0.5)\n",
    "plt.plot(X[y==1, 0], X[y==1, 1], 'xr', alpha=0.5)\n",
    "plt.xlim(-1.5, 1.5)\n",
    "plt.ylim(-1.5, 1.5)\n",
    "plt.legend(['0', '1'])\n",
    "plt.title(\"Blue circles and Red crosses\")\n",
    "plt.show()"
   ]
  },
  {
   "cell_type": "code",
   "execution_count": null,
   "metadata": {},
   "outputs": [],
   "source": [
    "from tensorflow.keras.models import Sequential\n",
    "from tensorflow.keras.layers import Dense\n",
    "from tensorflow.keras.optimizers import SGD\n",
    "from tensorflow.keras.utils import plot_model\n",
    "\n",
    "# create model\n",
    "model = Sequential()\n",
    "model.add(Dense(4, input_shape=(2,), activation='tanh'))\n",
    "model.add(Dense(1, activation='sigmoid'))\n",
    "model.compile(SGD(learning_rate=0.5), 'binary_crossentropy', metrics=['accuracy'])\n",
    "\n",
    "# visualize model architecture\n",
    "plot_model(model, to_file='model_plot.png', show_shapes=True, show_layer_names=True, \n",
    "           show_layer_activations=True, rankdir=\"LR\", dpi=256)\n",
    "\n",
    "# train model\n",
    "model.fit(X, y, epochs=20)"
   ]
  },
  {
   "cell_type": "code",
   "execution_count": null,
   "metadata": {},
   "outputs": [],
   "source": [
    "# evaluate prediction performance\n",
    "hticks = np.linspace(-1.5, 1.5, 101)\n",
    "vticks = np.linspace(-1.5, 1.5, 101)\n",
    "aa, bb = np.meshgrid(hticks, vticks)\n",
    "print(aa.shape, bb.shape)\n",
    "ab = np.c_[aa.ravel(), bb.ravel()] # ravel() flattens to 1D; c_() concatenates along a new second axis; hence ab.shape (10201, 2)\n",
    "print(ab.shape)\n",
    "c = model.predict(ab)\n",
    "cc = c.reshape(aa.shape) # back to original shape of aa\n",
    "\n",
    "plt.figure(figsize=(5, 5))\n",
    "CS = plt.contourf(aa, bb, cc, cmap='bwr', alpha=0.2) # contourf() draws filled areas, whereas contour() draws lines; alpha is transparency\n",
    "plt.clabel(CS, inline=True, fontsize=12)\n",
    "plt.plot(X[y==0, 0], X[y==0, 1], 'ob', alpha=0.5) # alpha is transparency\n",
    "plt.plot(X[y==1, 0], X[y==1, 1], 'xr', alpha=0.5)\n",
    "plt.xlim(-1.5, 1.5)\n",
    "plt.ylim(-1.5, 1.5)\n",
    "plt.title(\"Decision boundary of model (default threshold is usually 0.5)\")\n",
    "plt.show()"
   ]
  },
  {
   "cell_type": "markdown",
   "metadata": {},
   "source": [
    "## Question\n",
    "\n",
    "Why the decision boundary is different every time we restart the jupyter notebook and rerun it?"
   ]
  },
  {
   "cell_type": "code",
   "execution_count": null,
   "metadata": {},
   "outputs": [],
   "source": [
    " "
   ]
  }
 ],
 "metadata": {
  "kernelspec": {
   "display_name": "Python 3 (ipykernel)",
   "language": "python",
   "name": "python3"
  },
  "language_info": {
   "codemirror_mode": {
    "name": "ipython",
    "version": 3
   },
   "file_extension": ".py",
   "mimetype": "text/x-python",
   "name": "python",
   "nbconvert_exporter": "python",
   "pygments_lexer": "ipython3",
   "version": "3.10.12"
  }
 },
 "nbformat": 4,
 "nbformat_minor": 2
}
