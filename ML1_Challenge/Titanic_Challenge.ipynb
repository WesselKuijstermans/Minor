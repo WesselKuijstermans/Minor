{
 "cells": [
  {
   "cell_type": "code",
   "execution_count": 527,
   "metadata": {},
   "outputs": [
    {
     "name": "stdout",
     "output_type": "stream",
     "text": [
      "714\n",
      "499 215\n"
     ]
    },
    {
     "data": {
      "text/html": [
       "<div>\n",
       "<style scoped>\n",
       "    .dataframe tbody tr th:only-of-type {\n",
       "        vertical-align: middle;\n",
       "    }\n",
       "\n",
       "    .dataframe tbody tr th {\n",
       "        vertical-align: top;\n",
       "    }\n",
       "\n",
       "    .dataframe thead th {\n",
       "        text-align: right;\n",
       "    }\n",
       "</style>\n",
       "<table border=\"1\" class=\"dataframe\">\n",
       "  <thead>\n",
       "    <tr style=\"text-align: right;\">\n",
       "      <th></th>\n",
       "      <th>PassengerId</th>\n",
       "      <th>Survived</th>\n",
       "      <th>Pclass</th>\n",
       "      <th>Name</th>\n",
       "      <th>Sex</th>\n",
       "      <th>Age</th>\n",
       "      <th>SibSp</th>\n",
       "      <th>Parch</th>\n",
       "      <th>Ticket</th>\n",
       "      <th>Fare</th>\n",
       "      <th>Cabin</th>\n",
       "      <th>Embarked</th>\n",
       "    </tr>\n",
       "  </thead>\n",
       "  <tbody>\n",
       "    <tr>\n",
       "      <th>865</th>\n",
       "      <td>866</td>\n",
       "      <td>1</td>\n",
       "      <td>2</td>\n",
       "      <td>Bystrom, Mrs. (Karolina)</td>\n",
       "      <td>female</td>\n",
       "      <td>42.0</td>\n",
       "      <td>0</td>\n",
       "      <td>0</td>\n",
       "      <td>236852</td>\n",
       "      <td>13.0000</td>\n",
       "      <td>NaN</td>\n",
       "      <td>S</td>\n",
       "    </tr>\n",
       "    <tr>\n",
       "      <th>73</th>\n",
       "      <td>74</td>\n",
       "      <td>0</td>\n",
       "      <td>3</td>\n",
       "      <td>Chronopoulos, Mr. Apostolos</td>\n",
       "      <td>male</td>\n",
       "      <td>26.0</td>\n",
       "      <td>1</td>\n",
       "      <td>0</td>\n",
       "      <td>2680</td>\n",
       "      <td>14.4542</td>\n",
       "      <td>NaN</td>\n",
       "      <td>C</td>\n",
       "    </tr>\n",
       "    <tr>\n",
       "      <th>210</th>\n",
       "      <td>211</td>\n",
       "      <td>0</td>\n",
       "      <td>3</td>\n",
       "      <td>Ali, Mr. Ahmed</td>\n",
       "      <td>male</td>\n",
       "      <td>24.0</td>\n",
       "      <td>0</td>\n",
       "      <td>0</td>\n",
       "      <td>SOTON/O.Q. 3101311</td>\n",
       "      <td>7.0500</td>\n",
       "      <td>NaN</td>\n",
       "      <td>S</td>\n",
       "    </tr>\n",
       "    <tr>\n",
       "      <th>591</th>\n",
       "      <td>592</td>\n",
       "      <td>1</td>\n",
       "      <td>1</td>\n",
       "      <td>Stephenson, Mrs. Walter Bertram (Martha Eustis)</td>\n",
       "      <td>female</td>\n",
       "      <td>52.0</td>\n",
       "      <td>1</td>\n",
       "      <td>0</td>\n",
       "      <td>36947</td>\n",
       "      <td>78.2667</td>\n",
       "      <td>D20</td>\n",
       "      <td>C</td>\n",
       "    </tr>\n",
       "    <tr>\n",
       "      <th>287</th>\n",
       "      <td>288</td>\n",
       "      <td>0</td>\n",
       "      <td>3</td>\n",
       "      <td>Naidenoff, Mr. Penko</td>\n",
       "      <td>male</td>\n",
       "      <td>22.0</td>\n",
       "      <td>0</td>\n",
       "      <td>0</td>\n",
       "      <td>349206</td>\n",
       "      <td>7.8958</td>\n",
       "      <td>NaN</td>\n",
       "      <td>S</td>\n",
       "    </tr>\n",
       "  </tbody>\n",
       "</table>\n",
       "</div>"
      ],
      "text/plain": [
       "     PassengerId  Survived  Pclass  \\\n",
       "865          866         1       2   \n",
       "73            74         0       3   \n",
       "210          211         0       3   \n",
       "591          592         1       1   \n",
       "287          288         0       3   \n",
       "\n",
       "                                                Name     Sex   Age  SibSp  \\\n",
       "865                         Bystrom, Mrs. (Karolina)  female  42.0      0   \n",
       "73                       Chronopoulos, Mr. Apostolos    male  26.0      1   \n",
       "210                                   Ali, Mr. Ahmed    male  24.0      0   \n",
       "591  Stephenson, Mrs. Walter Bertram (Martha Eustis)  female  52.0      1   \n",
       "287                             Naidenoff, Mr. Penko    male  22.0      0   \n",
       "\n",
       "     Parch              Ticket     Fare Cabin Embarked  \n",
       "865      0              236852  13.0000   NaN        S  \n",
       "73       0                2680  14.4542   NaN        C  \n",
       "210      0  SOTON/O.Q. 3101311   7.0500   NaN        S  \n",
       "591      0               36947  78.2667   D20        C  \n",
       "287      0              349206   7.8958   NaN        S  "
      ]
     },
     "execution_count": 527,
     "metadata": {},
     "output_type": "execute_result"
    }
   ],
   "source": [
    "import pandas as pd\n",
    "import numpy as np\n",
    "import matplotlib.pyplot as plt\n",
    "import seaborn as sns\n",
    "# import sklearn model for prediction of a boolean based on age and gender\n",
    "from sklearn import tree\n",
    "from sklearn.ensemble import RandomForestClassifier\n",
    "from sklearn import metrics\n",
    "from sklearn.model_selection import train_test_split\n",
    "\n",
    "\n",
    "data = pd.read_csv('data/train.csv')\n",
    "\n",
    "data = data.dropna(subset=['Age', 'Sex', 'Survived'])\n",
    "print(len(data))\n",
    "\n",
    "# train/test split\n",
    "train_data, test_data = train_test_split(data, test_size=0.3, stratify=data['Survived'], random_state=200)\n",
    "# make dummy data from sex column\n",
    "print(len(train_data), len(test_data))\n",
    "train_data.head()"
   ]
  },
  {
   "cell_type": "code",
   "execution_count": 528,
   "metadata": {},
   "outputs": [
    {
     "data": {
      "text/plain": [
       "<seaborn.axisgrid.FacetGrid at 0x1cb6a2f2a80>"
      ]
     },
     "execution_count": 528,
     "metadata": {},
     "output_type": "execute_result"
    },
    {
     "data": {
      "image/png": "[encoded data removed]",
      "text/plain": [
       "<Figure size 511.111x500 with 1 Axes>"
      ]
     },
     "metadata": {},
     "output_type": "display_data"
    }
   ],
   "source": [
    "sns.catplot(x=train_data['Pclass'], y=train_data['Survived'], kind='bar', data=train_data)"
   ]
  },
  {
   "cell_type": "markdown",
   "metadata": {},
   "source": [
    "It is clear to see that passenger class has an correlation with the survival rate. 1st class passengers tend to survive more often than not, 3rd class passengers tend to survive less than average and 2nd class passengars survive have a survival rate of about 50%. Because of this clear correlation i'm using Passenger Class as a feature for my ML model."
   ]
  },
  {
   "cell_type": "code",
   "execution_count": 529,
   "metadata": {},
   "outputs": [
    {
     "data": {
      "text/plain": [
       "<seaborn.axisgrid.FacetGrid at 0x1cb6a5e0890>"
      ]
     },
     "execution_count": 529,
     "metadata": {},
     "output_type": "execute_result"
    },
    {
     "data": {
      "image/png": "[encoded data removed]",
      "text/plain": [
       "<Figure size 511.111x500 with 1 Axes>"
      ]
     },
     "metadata": {},
     "output_type": "display_data"
    }
   ],
   "source": [
    "sns.catplot(x=train_data['Sex'], y=train_data['Survived'], kind='bar', data=train_data)"
   ]
  },
  {
   "cell_type": "markdown",
   "metadata": {},
   "source": [
    "As for Sex it is also clear to see that there is a huge difference in survival rate between men and women. with around 75% of women surviving compared to men's 20% survival rate. I will therefore be using Sex as a feature in my ML model"
   ]
  },
  {
   "cell_type": "code",
   "execution_count": 530,
   "metadata": {},
   "outputs": [
    {
     "data": {
      "text/plain": [
       "<seaborn.axisgrid.FacetGrid at 0x1cb5e012870>"
      ]
     },
     "execution_count": 530,
     "metadata": {},
     "output_type": "execute_result"
    },
    {
     "data": {
      "image/png": "[encoded data removed]",
      "text/plain": [
       "<Figure size 511.111x500 with 1 Axes>"
      ]
     },
     "metadata": {},
     "output_type": "display_data"
    }
   ],
   "source": [
    "sns.catplot(x=train_data['Parch'], y=train_data['Survived'], kind='bar', data=train_data)"
   ]
  },
  {
   "cell_type": "markdown",
   "metadata": {},
   "source": [
    "The correlation between the amount of parents or children a passenger had aboard and their survival is less clear, but we can still conclude that someone with no parents or children aboard had a below average sruvival rate. People with at least one parent or child aboard have a survival rate of around 50%, from which we can not conclude anything. However, because having a Parch value of 0 still correlates to a lower survival rate i will include it in my features."
   ]
  },
  {
   "cell_type": "code",
   "execution_count": 531,
   "metadata": {},
   "outputs": [
    {
     "data": {
      "text/plain": [
       "<seaborn.axisgrid.FacetGrid at 0x1cb6a592ea0>"
      ]
     },
     "execution_count": 531,
     "metadata": {},
     "output_type": "execute_result"
    },
    {
     "data": {
      "image/png": "[encoded data removed]",
      "text/plain": [
       "<Figure size 511.111x500 with 1 Axes>"
      ]
     },
     "metadata": {},
     "output_type": "display_data"
    }
   ],
   "source": [
    "sns.catplot(x=train_data['SibSp'], y=train_data['Survived'], kind='bar', data=train_data)"
   ]
  },
  {
   "cell_type": "markdown",
   "metadata": {},
   "source": [
    "The correlation between SibSp(the number of siblings and spouses aboard) and the survival rate is very vague because of the high confidence intervals. The only value that has a relatively low confidence interval is 0. The rest of the values are rendered useless, because of the high confidence interval. For this reason i will not use SibSp as a feature of my ML model."
   ]
  },
  {
   "cell_type": "code",
   "execution_count": 532,
   "metadata": {},
   "outputs": [
    {
     "data": {
      "text/html": [
       "<div>\n",
       "<style scoped>\n",
       "    .dataframe tbody tr th:only-of-type {\n",
       "        vertical-align: middle;\n",
       "    }\n",
       "\n",
       "    .dataframe tbody tr th {\n",
       "        vertical-align: top;\n",
       "    }\n",
       "\n",
       "    .dataframe thead th {\n",
       "        text-align: right;\n",
       "    }\n",
       "</style>\n",
       "<table border=\"1\" class=\"dataframe\">\n",
       "  <thead>\n",
       "    <tr style=\"text-align: right;\">\n",
       "      <th></th>\n",
       "      <th>PassengerId</th>\n",
       "      <th>Survived</th>\n",
       "      <th>Name</th>\n",
       "      <th>Age</th>\n",
       "      <th>SibSp</th>\n",
       "      <th>Parch</th>\n",
       "      <th>Ticket</th>\n",
       "      <th>Fare</th>\n",
       "      <th>Cabin</th>\n",
       "      <th>Embarked</th>\n",
       "      <th>Sex_female</th>\n",
       "      <th>Sex_male</th>\n",
       "      <th>Pclass_1</th>\n",
       "      <th>Pclass_2</th>\n",
       "      <th>Pclass_3</th>\n",
       "    </tr>\n",
       "  </thead>\n",
       "  <tbody>\n",
       "    <tr>\n",
       "      <th>865</th>\n",
       "      <td>866</td>\n",
       "      <td>1</td>\n",
       "      <td>Bystrom, Mrs. (Karolina)</td>\n",
       "      <td>42.0</td>\n",
       "      <td>0</td>\n",
       "      <td>False</td>\n",
       "      <td>236852</td>\n",
       "      <td>13.0000</td>\n",
       "      <td>NaN</td>\n",
       "      <td>S</td>\n",
       "      <td>True</td>\n",
       "      <td>False</td>\n",
       "      <td>False</td>\n",
       "      <td>True</td>\n",
       "      <td>False</td>\n",
       "    </tr>\n",
       "    <tr>\n",
       "      <th>73</th>\n",
       "      <td>74</td>\n",
       "      <td>0</td>\n",
       "      <td>Chronopoulos, Mr. Apostolos</td>\n",
       "      <td>26.0</td>\n",
       "      <td>1</td>\n",
       "      <td>False</td>\n",
       "      <td>2680</td>\n",
       "      <td>14.4542</td>\n",
       "      <td>NaN</td>\n",
       "      <td>C</td>\n",
       "      <td>False</td>\n",
       "      <td>True</td>\n",
       "      <td>False</td>\n",
       "      <td>False</td>\n",
       "      <td>True</td>\n",
       "    </tr>\n",
       "    <tr>\n",
       "      <th>210</th>\n",
       "      <td>211</td>\n",
       "      <td>0</td>\n",
       "      <td>Ali, Mr. Ahmed</td>\n",
       "      <td>24.0</td>\n",
       "      <td>0</td>\n",
       "      <td>False</td>\n",
       "      <td>SOTON/O.Q. 3101311</td>\n",
       "      <td>7.0500</td>\n",
       "      <td>NaN</td>\n",
       "      <td>S</td>\n",
       "      <td>False</td>\n",
       "      <td>True</td>\n",
       "      <td>False</td>\n",
       "      <td>False</td>\n",
       "      <td>True</td>\n",
       "    </tr>\n",
       "    <tr>\n",
       "      <th>591</th>\n",
       "      <td>592</td>\n",
       "      <td>1</td>\n",
       "      <td>Stephenson, Mrs. Walter Bertram (Martha Eustis)</td>\n",
       "      <td>52.0</td>\n",
       "      <td>1</td>\n",
       "      <td>False</td>\n",
       "      <td>36947</td>\n",
       "      <td>78.2667</td>\n",
       "      <td>D20</td>\n",
       "      <td>C</td>\n",
       "      <td>True</td>\n",
       "      <td>False</td>\n",
       "      <td>True</td>\n",
       "      <td>False</td>\n",
       "      <td>False</td>\n",
       "    </tr>\n",
       "    <tr>\n",
       "      <th>287</th>\n",
       "      <td>288</td>\n",
       "      <td>0</td>\n",
       "      <td>Naidenoff, Mr. Penko</td>\n",
       "      <td>22.0</td>\n",
       "      <td>0</td>\n",
       "      <td>False</td>\n",
       "      <td>349206</td>\n",
       "      <td>7.8958</td>\n",
       "      <td>NaN</td>\n",
       "      <td>S</td>\n",
       "      <td>False</td>\n",
       "      <td>True</td>\n",
       "      <td>False</td>\n",
       "      <td>False</td>\n",
       "      <td>True</td>\n",
       "    </tr>\n",
       "  </tbody>\n",
       "</table>\n",
       "</div>"
      ],
      "text/plain": [
       "     PassengerId  Survived                                             Name  \\\n",
       "865          866         1                         Bystrom, Mrs. (Karolina)   \n",
       "73            74         0                      Chronopoulos, Mr. Apostolos   \n",
       "210          211         0                                   Ali, Mr. Ahmed   \n",
       "591          592         1  Stephenson, Mrs. Walter Bertram (Martha Eustis)   \n",
       "287          288         0                             Naidenoff, Mr. Penko   \n",
       "\n",
       "      Age  SibSp  Parch              Ticket     Fare Cabin Embarked  \\\n",
       "865  42.0      0  False              236852  13.0000   NaN        S   \n",
       "73   26.0      1  False                2680  14.4542   NaN        C   \n",
       "210  24.0      0  False  SOTON/O.Q. 3101311   7.0500   NaN        S   \n",
       "591  52.0      1  False               36947  78.2667   D20        C   \n",
       "287  22.0      0  False              349206   7.8958   NaN        S   \n",
       "\n",
       "     Sex_female  Sex_male  Pclass_1  Pclass_2  Pclass_3  \n",
       "865        True     False     False      True     False  \n",
       "73        False      True     False     False      True  \n",
       "210       False      True     False     False      True  \n",
       "591        True     False      True     False     False  \n",
       "287       False      True     False     False      True  "
      ]
     },
     "execution_count": 532,
     "metadata": {},
     "output_type": "execute_result"
    }
   ],
   "source": [
    "train_data = pd.get_dummies(train_data, columns=['Sex', 'Pclass'])\n",
    "test_data = pd.get_dummies(test_data, columns=['Sex', 'Pclass'])\n",
    "# get_dummies for Parch and SibSp. Leave only the column for value 0\n",
    "train_data['Parch'] = (train_data['Parch'] > 0).astype(bool)\n",
    "test_data['Parch'] = (test_data['Parch'] > 0).astype(bool)\n",
    "train_data.head()"
   ]
  },
  {
   "cell_type": "code",
   "execution_count": 533,
   "metadata": {},
   "outputs": [
    {
     "name": "stdout",
     "output_type": "stream",
     "text": [
      "Train ROC per tree depth: [[1, 0.7612834509386234], [2, 0.766500798828385], [3, 0.8012581547064306], [4, 0.7976051790706964], [5, 0.8140726933830382], [6, 0.8396185594461456], [7, 0.8584076687524963], [8, 0.8862751298096126], [9, 0.9004210491279457]]\n",
      "Test ROC per tree depth: [[1, 0.7708333333333333], [2, 0.7600125718390804], [3, 0.7922054597701149], [4, 0.7636943247126438], [5, 0.7715068247126438], [6, 0.79058908045977], [7, 0.7728987068965517], [8, 0.7885237068965517], [9, 0.7882992097701149]]\n",
      "Best Train ROC is 0.9004210491279457 with depth 9\n",
      "Best Test ROC is 0.7922054597701149 with depth 3\n"
     ]
    }
   ],
   "source": [
    "features = train_data.drop(['PassengerId', 'Name', 'Ticket', 'Cabin', 'Embarked', 'SibSp'], axis=1)\n",
    "features_test = test_data.drop(['PassengerId', 'Name', 'Ticket', 'Cabin', 'Embarked', 'SibSp'], axis=1)\n",
    "train_rocs = []\n",
    "test_rocs = []\n",
    "for i in range(1, 10):\n",
    "    regr = tree.DecisionTreeClassifier(max_depth=i)\n",
    "    regr.fit(features.drop(['Survived'], axis=1), features['Survived'])\n",
    "    train_predictions = regr.predict(features.drop('Survived', axis=1))\n",
    "    train_rocs.append([i, metrics.roc_auc_score(features['Survived'], train_predictions)])\n",
    "    test_predictions = regr.predict(features_test.drop('Survived', axis=1))\n",
    "    test_rocs.append([i, metrics.roc_auc_score(features_test['Survived'], test_predictions)])\n",
    "print(f'Train ROC per tree depth: {train_rocs}')\n",
    "print(f'Test ROC per tree depth: {test_rocs}')\n",
    "best_depth = max(test_rocs, key=lambda x: x[1])[0]\n",
    "print(f'Best Train ROC is {max(train_rocs, key=lambda x: x[1])[1]} with depth {max(train_rocs, key=lambda x: x[1])[0]}')\n",
    "print(f'Best Test ROC is {max(test_rocs, key=lambda x: x[1])[1]} with depth {best_depth}')"
   ]
  },
  {
   "cell_type": "code",
   "execution_count": 534,
   "metadata": {},
   "outputs": [
    {
     "data": {
      "image/png": "[encoded data removed]",
      "text/plain": [
       "<Figure size 640x480 with 1 Axes>"
      ]
     },
     "metadata": {},
     "output_type": "display_data"
    }
   ],
   "source": [
    "test_rocs_plot = pd.DataFrame(test_rocs, columns=['Depth', 'ROC'])\n",
    "train_rocs_plot = pd.DataFrame(train_rocs, columns=['Depth', 'ROC'])\n",
    "plt.plot(test_rocs_plot['Depth'], test_rocs_plot['ROC'])\n",
    "plt.plot(train_rocs_plot['Depth'], train_rocs_plot['ROC'])\n",
    "plt.legend(['Test', 'Train'])\n",
    "plt.xlabel('Tree Depth')\n",
    "plt.ylabel('ROC')\n",
    "plt.title('ROC vs Tree Depth')\n",
    "plt.show()"
   ]
  },
  {
   "cell_type": "code",
   "execution_count": 535,
   "metadata": {},
   "outputs": [],
   "source": [
    "import graphviz\n",
    "\n",
    "def plot_tree(model, features):\n",
    "    # Generate plot data\n",
    "    dot_data = tree.export_graphviz(model, out_file=None, \n",
    "                          feature_names=features,  \n",
    "                          class_names=['Survived', 'Did not survive'],  \n",
    "                          filled=True, rounded=True,  \n",
    "                          special_characters=True)  \n",
    "\n",
    "    # Turn into graph using graphviz\n",
    "    graph = graphviz.Source(dot_data)  \n",
    "\n",
    "    # Write out a pdf\n",
    "    graph.render(\"decision_tree\")\n",
    "\n",
    "    # Display in the notebook\n",
    "    return graph "
   ]
  },
  {
   "cell_type": "code",
   "execution_count": 536,
   "metadata": {},
   "outputs": [
    {
     "data": {
      "image/svg+xml": [
       "<?xml version=\"1.0\" encoding=\"UTF-8\" standalone=\"no\"?>\n",
       "<!DOCTYPE svg PUBLIC \"-//W3C//DTD SVG 1.1//EN\"\n",
       " \"http://www.w3.org/Graphics/SVG/1.1/DTD/svg11.dtd\">\n",
       "<!-- Generated by graphviz version 2.50.0 (0)\n",
       " -->\n",
       "<!-- Title: Tree Pages: 1 -->\n",
       "<svg width=\"1194pt\" height=\"433pt\"\n",
       " viewBox=\"0.00 0.00 1194.00 433.00\" xmlns=\"http://www.w3.org/2000/svg\" xmlns:xlink=\"http://www.w3.org/1999/xlink\">\n",
       "<g id=\"graph0\" class=\"graph\" transform=\"scale(1 1) rotate(0) translate(4 429)\">\n",
       "<title>Tree</title>\n",
       "<polygon fill=\"white\" stroke=\"transparent\" points=\"-4,4 -4,-429 1190,-429 1190,4 -4,4\"/>\n",
       "<!-- 0 -->\n",
       "<g id=\"node1\" class=\"node\">\n",
       "<title>0</title>\n",
       "<path fill=\"#f7d7c1\" stroke=\"black\" d=\"M621.5,-425C621.5,-425 520.5,-425 520.5,-425 514.5,-425 508.5,-419 508.5,-413 508.5,-413 508.5,-354 508.5,-354 508.5,-348 514.5,-342 520.5,-342 520.5,-342 621.5,-342 621.5,-342 627.5,-342 633.5,-348 633.5,-354 633.5,-354 633.5,-413 633.5,-413 633.5,-419 627.5,-425 621.5,-425\"/>\n",
       "<text text-anchor=\"start\" x=\"518\" y=\"-409.8\" font-family=\"Helvetica,sans-Serif\" font-size=\"14.00\">Sex_female ≤ 0.5</text>\n",
       "<text text-anchor=\"start\" x=\"535.5\" y=\"-394.8\" font-family=\"Helvetica,sans-Serif\" font-size=\"14.00\">gini = 0.483</text>\n",
       "<text text-anchor=\"start\" x=\"526\" y=\"-379.8\" font-family=\"Helvetica,sans-Serif\" font-size=\"14.00\">samples = 499</text>\n",
       "<text text-anchor=\"start\" x=\"516.5\" y=\"-364.8\" font-family=\"Helvetica,sans-Serif\" font-size=\"14.00\">value = [296, 203]</text>\n",
       "<text text-anchor=\"start\" x=\"521\" y=\"-349.8\" font-family=\"Helvetica,sans-Serif\" font-size=\"14.00\">class = Survived</text>\n",
       "</g>\n",
       "<!-- 1 -->\n",
       "<g id=\"node2\" class=\"node\">\n",
       "<title>1</title>\n",
       "<path fill=\"#eca26c\" stroke=\"black\" d=\"M493,-306C493,-306 377,-306 377,-306 371,-306 365,-300 365,-294 365,-294 365,-235 365,-235 365,-229 371,-223 377,-223 377,-223 493,-223 493,-223 499,-223 505,-229 505,-235 505,-235 505,-294 505,-294 505,-300 499,-306 493,-306\"/>\n",
       "<text text-anchor=\"start\" x=\"406\" y=\"-290.8\" font-family=\"Helvetica,sans-Serif\" font-size=\"14.00\">Age ≤ 3.5</text>\n",
       "<text text-anchor=\"start\" x=\"399.5\" y=\"-275.8\" font-family=\"Helvetica,sans-Serif\" font-size=\"14.00\">gini = 0.326</text>\n",
       "<text text-anchor=\"start\" x=\"390\" y=\"-260.8\" font-family=\"Helvetica,sans-Serif\" font-size=\"14.00\">samples = 312</text>\n",
       "<text text-anchor=\"start\" x=\"373\" y=\"-245.8\" font-family=\"Helvetica,sans-Serif\" font-size=\"14.00\">value = [248.0, 64.0]</text>\n",
       "<text text-anchor=\"start\" x=\"385\" y=\"-230.8\" font-family=\"Helvetica,sans-Serif\" font-size=\"14.00\">class = Survived</text>\n",
       "</g>\n",
       "<!-- 0&#45;&gt;1 -->\n",
       "<g id=\"edge1\" class=\"edge\">\n",
       "<title>0&#45;&gt;1</title>\n",
       "<path fill=\"none\" stroke=\"black\" d=\"M523.82,-341.91C512.84,-332.47 501.07,-322.34 489.81,-312.65\"/>\n",
       "<polygon fill=\"black\" stroke=\"black\" points=\"491.96,-309.89 482.1,-306.02 487.4,-315.2 491.96,-309.89\"/>\n",
       "<text text-anchor=\"middle\" x=\"483.97\" y=\"-327.25\" font-family=\"Helvetica,sans-Serif\" font-size=\"14.00\">True</text>\n",
       "</g>\n",
       "<!-- 8 -->\n",
       "<g id=\"node9\" class=\"node\">\n",
       "<title>8</title>\n",
       "<path fill=\"#7dbfee\" stroke=\"black\" d=\"M794,-306C794,-306 666,-306 666,-306 660,-306 654,-300 654,-294 654,-294 654,-235 654,-235 654,-229 660,-223 666,-223 666,-223 794,-223 794,-223 800,-223 806,-229 806,-235 806,-235 806,-294 806,-294 806,-300 800,-306 794,-306\"/>\n",
       "<text text-anchor=\"start\" x=\"685.5\" y=\"-290.8\" font-family=\"Helvetica,sans-Serif\" font-size=\"14.00\">Pclass_3 ≤ 0.5</text>\n",
       "<text text-anchor=\"start\" x=\"694.5\" y=\"-275.8\" font-family=\"Helvetica,sans-Serif\" font-size=\"14.00\">gini = 0.382</text>\n",
       "<text text-anchor=\"start\" x=\"685\" y=\"-260.8\" font-family=\"Helvetica,sans-Serif\" font-size=\"14.00\">samples = 187</text>\n",
       "<text text-anchor=\"start\" x=\"668\" y=\"-245.8\" font-family=\"Helvetica,sans-Serif\" font-size=\"14.00\">value = [48.0, 139.0]</text>\n",
       "<text text-anchor=\"start\" x=\"662\" y=\"-230.8\" font-family=\"Helvetica,sans-Serif\" font-size=\"14.00\">class = Did not survive</text>\n",
       "</g>\n",
       "<!-- 0&#45;&gt;8 -->\n",
       "<g id=\"edge8\" class=\"edge\">\n",
       "<title>0&#45;&gt;8</title>\n",
       "<path fill=\"none\" stroke=\"black\" d=\"M626.16,-341.91C639.24,-332.29 653.28,-321.95 666.68,-312.09\"/>\n",
       "<polygon fill=\"black\" stroke=\"black\" points=\"668.95,-314.77 674.93,-306.02 664.8,-309.13 668.95,-314.77\"/>\n",
       "<text text-anchor=\"middle\" x=\"671.17\" y=\"-327.04\" font-family=\"Helvetica,sans-Serif\" font-size=\"14.00\">False</text>\n",
       "</g>\n",
       "<!-- 2 -->\n",
       "<g id=\"node3\" class=\"node\">\n",
       "<title>2</title>\n",
       "<path fill=\"#4da7e8\" stroke=\"black\" d=\"M292,-187C292,-187 164,-187 164,-187 158,-187 152,-181 152,-175 152,-175 152,-116 152,-116 152,-110 158,-104 164,-104 164,-104 292,-104 292,-104 298,-104 304,-110 304,-116 304,-116 304,-175 304,-175 304,-181 298,-187 292,-187\"/>\n",
       "<text text-anchor=\"start\" x=\"185.5\" y=\"-171.8\" font-family=\"Helvetica,sans-Serif\" font-size=\"14.00\">Fare ≤ 39.344</text>\n",
       "<text text-anchor=\"start\" x=\"192.5\" y=\"-156.8\" font-family=\"Helvetica,sans-Serif\" font-size=\"14.00\">gini = 0.165</text>\n",
       "<text text-anchor=\"start\" x=\"187\" y=\"-141.8\" font-family=\"Helvetica,sans-Serif\" font-size=\"14.00\">samples = 11</text>\n",
       "<text text-anchor=\"start\" x=\"185\" y=\"-126.8\" font-family=\"Helvetica,sans-Serif\" font-size=\"14.00\">value = [1, 10]</text>\n",
       "<text text-anchor=\"start\" x=\"160\" y=\"-111.8\" font-family=\"Helvetica,sans-Serif\" font-size=\"14.00\">class = Did not survive</text>\n",
       "</g>\n",
       "<!-- 1&#45;&gt;2 -->\n",
       "<g id=\"edge2\" class=\"edge\">\n",
       "<title>1&#45;&gt;2</title>\n",
       "<path fill=\"none\" stroke=\"black\" d=\"M364.92,-223.89C346.79,-213.64 327.14,-202.53 308.53,-192.01\"/>\n",
       "<polygon fill=\"black\" stroke=\"black\" points=\"310.2,-188.94 299.77,-187.07 306.76,-195.03 310.2,-188.94\"/>\n",
       "</g>\n",
       "<!-- 5 -->\n",
       "<g id=\"node6\" class=\"node\">\n",
       "<title>5</title>\n",
       "<path fill=\"#eb9d64\" stroke=\"black\" d=\"M481.5,-187C481.5,-187 388.5,-187 388.5,-187 382.5,-187 376.5,-181 376.5,-175 376.5,-175 376.5,-116 376.5,-116 376.5,-110 382.5,-104 388.5,-104 388.5,-104 481.5,-104 481.5,-104 487.5,-104 493.5,-110 493.5,-116 493.5,-116 493.5,-175 493.5,-175 493.5,-181 487.5,-187 481.5,-187\"/>\n",
       "<text text-anchor=\"start\" x=\"390.5\" y=\"-171.8\" font-family=\"Helvetica,sans-Serif\" font-size=\"14.00\">Pclass_1 ≤ 0.5</text>\n",
       "<text text-anchor=\"start\" x=\"399.5\" y=\"-156.8\" font-family=\"Helvetica,sans-Serif\" font-size=\"14.00\">gini = 0.294</text>\n",
       "<text text-anchor=\"start\" x=\"390\" y=\"-141.8\" font-family=\"Helvetica,sans-Serif\" font-size=\"14.00\">samples = 301</text>\n",
       "<text text-anchor=\"start\" x=\"384.5\" y=\"-126.8\" font-family=\"Helvetica,sans-Serif\" font-size=\"14.00\">value = [247, 54]</text>\n",
       "<text text-anchor=\"start\" x=\"385\" y=\"-111.8\" font-family=\"Helvetica,sans-Serif\" font-size=\"14.00\">class = Survived</text>\n",
       "</g>\n",
       "<!-- 1&#45;&gt;5 -->\n",
       "<g id=\"edge5\" class=\"edge\">\n",
       "<title>1&#45;&gt;5</title>\n",
       "<path fill=\"none\" stroke=\"black\" d=\"M435,-222.91C435,-214.65 435,-205.86 435,-197.3\"/>\n",
       "<polygon fill=\"black\" stroke=\"black\" points=\"438.5,-197.02 435,-187.02 431.5,-197.02 438.5,-197.02\"/>\n",
       "</g>\n",
       "<!-- 3 -->\n",
       "<g id=\"node4\" class=\"node\">\n",
       "<title>3</title>\n",
       "<path fill=\"#399de5\" stroke=\"black\" d=\"M140,-68C140,-68 12,-68 12,-68 6,-68 0,-62 0,-56 0,-56 0,-12 0,-12 0,-6 6,0 12,0 12,0 140,0 140,0 146,0 152,-6 152,-12 152,-12 152,-56 152,-56 152,-62 146,-68 140,-68\"/>\n",
       "<text text-anchor=\"start\" x=\"48\" y=\"-52.8\" font-family=\"Helvetica,sans-Serif\" font-size=\"14.00\">gini = 0.0</text>\n",
       "<text text-anchor=\"start\" x=\"38.5\" y=\"-37.8\" font-family=\"Helvetica,sans-Serif\" font-size=\"14.00\">samples = 9</text>\n",
       "<text text-anchor=\"start\" x=\"36.5\" y=\"-22.8\" font-family=\"Helvetica,sans-Serif\" font-size=\"14.00\">value = [0, 9]</text>\n",
       "<text text-anchor=\"start\" x=\"8\" y=\"-7.8\" font-family=\"Helvetica,sans-Serif\" font-size=\"14.00\">class = Did not survive</text>\n",
       "</g>\n",
       "<!-- 2&#45;&gt;3 -->\n",
       "<g id=\"edge3\" class=\"edge\">\n",
       "<title>2&#45;&gt;3</title>\n",
       "<path fill=\"none\" stroke=\"black\" d=\"M171.4,-103.73C157.98,-94.06 143.69,-83.77 130.38,-74.17\"/>\n",
       "<polygon fill=\"black\" stroke=\"black\" points=\"132.38,-71.3 122.22,-68.3 128.29,-76.98 132.38,-71.3\"/>\n",
       "</g>\n",
       "<!-- 4 -->\n",
       "<g id=\"node5\" class=\"node\">\n",
       "<title>4</title>\n",
       "<path fill=\"#ffffff\" stroke=\"black\" d=\"M274,-68C274,-68 182,-68 182,-68 176,-68 170,-62 170,-56 170,-56 170,-12 170,-12 170,-6 176,0 182,0 182,0 274,0 274,0 280,0 286,-6 286,-12 286,-12 286,-56 286,-56 286,-62 280,-68 274,-68\"/>\n",
       "<text text-anchor=\"start\" x=\"200\" y=\"-52.8\" font-family=\"Helvetica,sans-Serif\" font-size=\"14.00\">gini = 0.5</text>\n",
       "<text text-anchor=\"start\" x=\"190.5\" y=\"-37.8\" font-family=\"Helvetica,sans-Serif\" font-size=\"14.00\">samples = 2</text>\n",
       "<text text-anchor=\"start\" x=\"188.5\" y=\"-22.8\" font-family=\"Helvetica,sans-Serif\" font-size=\"14.00\">value = [1, 1]</text>\n",
       "<text text-anchor=\"start\" x=\"178\" y=\"-7.8\" font-family=\"Helvetica,sans-Serif\" font-size=\"14.00\">class = Survived</text>\n",
       "</g>\n",
       "<!-- 2&#45;&gt;4 -->\n",
       "<g id=\"edge4\" class=\"edge\">\n",
       "<title>2&#45;&gt;4</title>\n",
       "<path fill=\"none\" stroke=\"black\" d=\"M228,-103.73C228,-95.52 228,-86.86 228,-78.56\"/>\n",
       "<polygon fill=\"black\" stroke=\"black\" points=\"231.5,-78.3 228,-68.3 224.5,-78.3 231.5,-78.3\"/>\n",
       "</g>\n",
       "<!-- 6 -->\n",
       "<g id=\"node7\" class=\"node\">\n",
       "<title>6</title>\n",
       "<path fill=\"#e99456\" stroke=\"black\" d=\"M432,-68C432,-68 316,-68 316,-68 310,-68 304,-62 304,-56 304,-56 304,-12 304,-12 304,-6 310,0 316,0 316,0 432,0 432,0 438,0 444,-6 444,-12 444,-12 444,-56 444,-56 444,-62 438,-68 432,-68\"/>\n",
       "<text text-anchor=\"start\" x=\"338.5\" y=\"-52.8\" font-family=\"Helvetica,sans-Serif\" font-size=\"14.00\">gini = 0.224</text>\n",
       "<text text-anchor=\"start\" x=\"329\" y=\"-37.8\" font-family=\"Helvetica,sans-Serif\" font-size=\"14.00\">samples = 234</text>\n",
       "<text text-anchor=\"start\" x=\"312\" y=\"-22.8\" font-family=\"Helvetica,sans-Serif\" font-size=\"14.00\">value = [204.0, 30.0]</text>\n",
       "<text text-anchor=\"start\" x=\"324\" y=\"-7.8\" font-family=\"Helvetica,sans-Serif\" font-size=\"14.00\">class = Survived</text>\n",
       "</g>\n",
       "<!-- 5&#45;&gt;6 -->\n",
       "<g id=\"edge6\" class=\"edge\">\n",
       "<title>5&#45;&gt;6</title>\n",
       "<path fill=\"none\" stroke=\"black\" d=\"M412.29,-103.73C407.46,-95.06 402.35,-85.9 397.5,-77.18\"/>\n",
       "<polygon fill=\"black\" stroke=\"black\" points=\"400.47,-75.33 392.55,-68.3 394.36,-78.74 400.47,-75.33\"/>\n",
       "</g>\n",
       "<!-- 7 -->\n",
       "<g id=\"node8\" class=\"node\">\n",
       "<title>7</title>\n",
       "<path fill=\"#f4c7a8\" stroke=\"black\" d=\"M566,-68C566,-68 474,-68 474,-68 468,-68 462,-62 462,-56 462,-56 462,-12 462,-12 462,-6 468,0 474,0 474,0 566,0 566,0 572,0 578,-6 578,-12 578,-12 578,-56 578,-56 578,-62 572,-68 566,-68\"/>\n",
       "<text text-anchor=\"start\" x=\"488\" y=\"-52.8\" font-family=\"Helvetica,sans-Serif\" font-size=\"14.00\">gini = 0.46</text>\n",
       "<text text-anchor=\"start\" x=\"479\" y=\"-37.8\" font-family=\"Helvetica,sans-Serif\" font-size=\"14.00\">samples = 67</text>\n",
       "<text text-anchor=\"start\" x=\"473\" y=\"-22.8\" font-family=\"Helvetica,sans-Serif\" font-size=\"14.00\">value = [43, 24]</text>\n",
       "<text text-anchor=\"start\" x=\"470\" y=\"-7.8\" font-family=\"Helvetica,sans-Serif\" font-size=\"14.00\">class = Survived</text>\n",
       "</g>\n",
       "<!-- 5&#45;&gt;7 -->\n",
       "<g id=\"edge7\" class=\"edge\">\n",
       "<title>5&#45;&gt;7</title>\n",
       "<path fill=\"none\" stroke=\"black\" d=\"M466.65,-103.73C473.59,-94.79 480.94,-85.32 487.9,-76.36\"/>\n",
       "<polygon fill=\"black\" stroke=\"black\" points=\"490.78,-78.35 494.15,-68.3 485.25,-74.05 490.78,-78.35\"/>\n",
       "</g>\n",
       "<!-- 9 -->\n",
       "<g id=\"node10\" class=\"node\">\n",
       "<title>9</title>\n",
       "<path fill=\"#45a3e7\" stroke=\"black\" d=\"M794,-187C794,-187 666,-187 666,-187 660,-187 654,-181 654,-175 654,-175 654,-116 654,-116 654,-110 660,-104 666,-104 666,-104 794,-104 794,-104 800,-104 806,-110 806,-116 806,-116 806,-175 806,-175 806,-181 800,-187 794,-187\"/>\n",
       "<text text-anchor=\"start\" x=\"701\" y=\"-171.8\" font-family=\"Helvetica,sans-Serif\" font-size=\"14.00\">Age ≤ 2.5</text>\n",
       "<text text-anchor=\"start\" x=\"694.5\" y=\"-156.8\" font-family=\"Helvetica,sans-Serif\" font-size=\"14.00\">gini = 0.104</text>\n",
       "<text text-anchor=\"start\" x=\"685\" y=\"-141.8\" font-family=\"Helvetica,sans-Serif\" font-size=\"14.00\">samples = 109</text>\n",
       "<text text-anchor=\"start\" x=\"683\" y=\"-126.8\" font-family=\"Helvetica,sans-Serif\" font-size=\"14.00\">value = [6, 103]</text>\n",
       "<text text-anchor=\"start\" x=\"662\" y=\"-111.8\" font-family=\"Helvetica,sans-Serif\" font-size=\"14.00\">class = Did not survive</text>\n",
       "</g>\n",
       "<!-- 8&#45;&gt;9 -->\n",
       "<g id=\"edge9\" class=\"edge\">\n",
       "<title>8&#45;&gt;9</title>\n",
       "<path fill=\"none\" stroke=\"black\" d=\"M730,-222.91C730,-214.65 730,-205.86 730,-197.3\"/>\n",
       "<polygon fill=\"black\" stroke=\"black\" points=\"733.5,-197.02 730,-187.02 726.5,-197.02 733.5,-197.02\"/>\n",
       "</g>\n",
       "<!-- 12 -->\n",
       "<g id=\"node13\" class=\"node\">\n",
       "<title>12</title>\n",
       "<path fill=\"#fbede3\" stroke=\"black\" d=\"M1022,-187C1022,-187 930,-187 930,-187 924,-187 918,-181 918,-175 918,-175 918,-116 918,-116 918,-110 924,-104 930,-104 930,-104 1022,-104 1022,-104 1028,-104 1034,-110 1034,-116 1034,-116 1034,-175 1034,-175 1034,-181 1028,-187 1022,-187\"/>\n",
       "<text text-anchor=\"start\" x=\"933.5\" y=\"-171.8\" font-family=\"Helvetica,sans-Serif\" font-size=\"14.00\">Fare ≤ 23.087</text>\n",
       "<text text-anchor=\"start\" x=\"940.5\" y=\"-156.8\" font-family=\"Helvetica,sans-Serif\" font-size=\"14.00\">gini = 0.497</text>\n",
       "<text text-anchor=\"start\" x=\"935\" y=\"-141.8\" font-family=\"Helvetica,sans-Serif\" font-size=\"14.00\">samples = 78</text>\n",
       "<text text-anchor=\"start\" x=\"929\" y=\"-126.8\" font-family=\"Helvetica,sans-Serif\" font-size=\"14.00\">value = [42, 36]</text>\n",
       "<text text-anchor=\"start\" x=\"926\" y=\"-111.8\" font-family=\"Helvetica,sans-Serif\" font-size=\"14.00\">class = Survived</text>\n",
       "</g>\n",
       "<!-- 8&#45;&gt;12 -->\n",
       "<g id=\"edge12\" class=\"edge\">\n",
       "<title>8&#45;&gt;12</title>\n",
       "<path fill=\"none\" stroke=\"black\" d=\"M806.15,-227.28C838.9,-211.71 876.86,-193.65 908.58,-178.57\"/>\n",
       "<polygon fill=\"black\" stroke=\"black\" points=\"910.25,-181.65 917.78,-174.19 907.24,-175.33 910.25,-181.65\"/>\n",
       "</g>\n",
       "<!-- 10 -->\n",
       "<g id=\"node11\" class=\"node\">\n",
       "<title>10</title>\n",
       "<path fill=\"#e58139\" stroke=\"black\" d=\"M700,-68C700,-68 608,-68 608,-68 602,-68 596,-62 596,-56 596,-56 596,-12 596,-12 596,-6 602,0 608,0 608,0 700,0 700,0 706,0 712,-6 712,-12 712,-12 712,-56 712,-56 712,-62 706,-68 700,-68\"/>\n",
       "<text text-anchor=\"start\" x=\"626\" y=\"-52.8\" font-family=\"Helvetica,sans-Serif\" font-size=\"14.00\">gini = 0.0</text>\n",
       "<text text-anchor=\"start\" x=\"616.5\" y=\"-37.8\" font-family=\"Helvetica,sans-Serif\" font-size=\"14.00\">samples = 1</text>\n",
       "<text text-anchor=\"start\" x=\"614.5\" y=\"-22.8\" font-family=\"Helvetica,sans-Serif\" font-size=\"14.00\">value = [1, 0]</text>\n",
       "<text text-anchor=\"start\" x=\"604\" y=\"-7.8\" font-family=\"Helvetica,sans-Serif\" font-size=\"14.00\">class = Survived</text>\n",
       "</g>\n",
       "<!-- 9&#45;&gt;10 -->\n",
       "<g id=\"edge10\" class=\"edge\">\n",
       "<title>9&#45;&gt;10</title>\n",
       "<path fill=\"none\" stroke=\"black\" d=\"M701.7,-103.73C695.56,-94.88 689.06,-85.51 682.89,-76.63\"/>\n",
       "<polygon fill=\"black\" stroke=\"black\" points=\"685.69,-74.52 677.11,-68.3 679.94,-78.51 685.69,-74.52\"/>\n",
       "</g>\n",
       "<!-- 11 -->\n",
       "<g id=\"node12\" class=\"node\">\n",
       "<title>11</title>\n",
       "<path fill=\"#43a2e6\" stroke=\"black\" d=\"M870,-68C870,-68 742,-68 742,-68 736,-68 730,-62 730,-56 730,-56 730,-12 730,-12 730,-6 736,0 742,0 742,0 870,0 870,0 876,0 882,-6 882,-12 882,-12 882,-56 882,-56 882,-62 876,-68 870,-68\"/>\n",
       "<text text-anchor=\"start\" x=\"770.5\" y=\"-52.8\" font-family=\"Helvetica,sans-Serif\" font-size=\"14.00\">gini = 0.088</text>\n",
       "<text text-anchor=\"start\" x=\"761\" y=\"-37.8\" font-family=\"Helvetica,sans-Serif\" font-size=\"14.00\">samples = 108</text>\n",
       "<text text-anchor=\"start\" x=\"759\" y=\"-22.8\" font-family=\"Helvetica,sans-Serif\" font-size=\"14.00\">value = [5, 103]</text>\n",
       "<text text-anchor=\"start\" x=\"738\" y=\"-7.8\" font-family=\"Helvetica,sans-Serif\" font-size=\"14.00\">class = Did not survive</text>\n",
       "</g>\n",
       "<!-- 9&#45;&gt;11 -->\n",
       "<g id=\"edge11\" class=\"edge\">\n",
       "<title>9&#45;&gt;11</title>\n",
       "<path fill=\"none\" stroke=\"black\" d=\"M758.3,-103.73C764.44,-94.88 770.94,-85.51 777.11,-76.63\"/>\n",
       "<polygon fill=\"black\" stroke=\"black\" points=\"780.06,-78.51 782.89,-68.3 774.31,-74.52 780.06,-78.51\"/>\n",
       "</g>\n",
       "<!-- 13 -->\n",
       "<g id=\"node14\" class=\"node\">\n",
       "<title>13</title>\n",
       "<path fill=\"#e8f4fc\" stroke=\"black\" d=\"M1040,-68C1040,-68 912,-68 912,-68 906,-68 900,-62 900,-56 900,-56 900,-12 900,-12 900,-6 906,0 912,0 912,0 1040,0 1040,0 1046,0 1052,-6 1052,-12 1052,-12 1052,-56 1052,-56 1052,-62 1046,-68 1040,-68\"/>\n",
       "<text text-anchor=\"start\" x=\"940.5\" y=\"-52.8\" font-family=\"Helvetica,sans-Serif\" font-size=\"14.00\">gini = 0.498</text>\n",
       "<text text-anchor=\"start\" x=\"935\" y=\"-37.8\" font-family=\"Helvetica,sans-Serif\" font-size=\"14.00\">samples = 66</text>\n",
       "<text text-anchor=\"start\" x=\"929\" y=\"-22.8\" font-family=\"Helvetica,sans-Serif\" font-size=\"14.00\">value = [31, 35]</text>\n",
       "<text text-anchor=\"start\" x=\"908\" y=\"-7.8\" font-family=\"Helvetica,sans-Serif\" font-size=\"14.00\">class = Did not survive</text>\n",
       "</g>\n",
       "<!-- 12&#45;&gt;13 -->\n",
       "<g id=\"edge13\" class=\"edge\">\n",
       "<title>12&#45;&gt;13</title>\n",
       "<path fill=\"none\" stroke=\"black\" d=\"M976,-103.73C976,-95.52 976,-86.86 976,-78.56\"/>\n",
       "<polygon fill=\"black\" stroke=\"black\" points=\"979.5,-78.3 976,-68.3 972.5,-78.3 979.5,-78.3\"/>\n",
       "</g>\n",
       "<!-- 14 -->\n",
       "<g id=\"node15\" class=\"node\">\n",
       "<title>14</title>\n",
       "<path fill=\"#e78c4b\" stroke=\"black\" d=\"M1174,-68C1174,-68 1082,-68 1082,-68 1076,-68 1070,-62 1070,-56 1070,-56 1070,-12 1070,-12 1070,-6 1076,0 1082,0 1082,0 1174,0 1174,0 1180,0 1186,-6 1186,-12 1186,-12 1186,-56 1186,-56 1186,-62 1180,-68 1174,-68\"/>\n",
       "<text text-anchor=\"start\" x=\"1092.5\" y=\"-52.8\" font-family=\"Helvetica,sans-Serif\" font-size=\"14.00\">gini = 0.153</text>\n",
       "<text text-anchor=\"start\" x=\"1087\" y=\"-37.8\" font-family=\"Helvetica,sans-Serif\" font-size=\"14.00\">samples = 12</text>\n",
       "<text text-anchor=\"start\" x=\"1085.5\" y=\"-22.8\" font-family=\"Helvetica,sans-Serif\" font-size=\"14.00\">value = [11, 1]</text>\n",
       "<text text-anchor=\"start\" x=\"1078\" y=\"-7.8\" font-family=\"Helvetica,sans-Serif\" font-size=\"14.00\">class = Survived</text>\n",
       "</g>\n",
       "<!-- 12&#45;&gt;14 -->\n",
       "<g id=\"edge14\" class=\"edge\">\n",
       "<title>12&#45;&gt;14</title>\n",
       "<path fill=\"none\" stroke=\"black\" d=\"M1032.6,-103.73C1046.02,-94.06 1060.31,-83.77 1073.62,-74.17\"/>\n",
       "<polygon fill=\"black\" stroke=\"black\" points=\"1075.71,-76.98 1081.78,-68.3 1071.62,-71.3 1075.71,-76.98\"/>\n",
       "</g>\n",
       "</g>\n",
       "</svg>\n"
      ],
      "text/plain": [
       "<graphviz.sources.Source at 0x1cb5e0843e0>"
      ]
     },
     "execution_count": 536,
     "metadata": {},
     "output_type": "execute_result"
    }
   ],
   "source": [
    "regr = tree.DecisionTreeClassifier(max_depth=best_depth)\n",
    "featuresModel1 = features.drop(['Survived'], axis=1).columns\n",
    "regr.fit(features.drop(['Survived'], axis=1), features['Survived'])\n",
    "plot_tree(regr, features.drop(['Survived'], axis=1).columns)"
   ]
  },
  {
   "cell_type": "code",
   "execution_count": 537,
   "metadata": {},
   "outputs": [
    {
     "data": {
      "image/png": "[encoded data removed]",
      "text/plain": [
       "<Figure size 640x480 with 1 Axes>"
      ]
     },
     "metadata": {},
     "output_type": "display_data"
    }
   ],
   "source": [
    "# plot feature importance\n",
    "importances = regr.feature_importances_\n",
    "indices = np.argsort(importances)[::-1]\n",
    "plt.figure()\n",
    "plt.title(\"Feature importances\")\n",
    "plt.bar(range(features.drop(['Survived'], axis=1).shape[1]), importances[indices],\n",
    "       color=\"r\", align=\"center\")\n",
    "plt.xticks(range(features.drop(['Survived'], axis=1).shape[1]), features.drop(['Survived'], axis=1).columns[indices], rotation=90)\n",
    "plt.xlim([-1, features.drop(['Survived'], axis=1).shape[1]])\n",
    "plt.show()"
   ]
  },
  {
   "cell_type": "code",
   "execution_count": null,
   "metadata": {},
   "outputs": [],
   "source": []
  }
 ],
 "metadata": {
  "kernelspec": {
   "display_name": "tensorenv",
   "language": "python",
   "name": "python3"
  },
  "language_info": {
   "codemirror_mode": {
    "name": "ipython",
    "version": 3
   },
   "file_extension": ".py",
   "mimetype": "text/x-python",
   "name": "python",
   "nbconvert_exporter": "python",
   "pygments_lexer": "ipython3",
   "version": "3.12.4"
  }
 },
 "nbformat": 4,
 "nbformat_minor": 2
}
