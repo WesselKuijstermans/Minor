{
 "cells": [
  {
   "cell_type": "markdown",
   "metadata": {},
   "source": [
    "# Intro for programmers: python, anaconda, linear algebra, numpy, pandas\n",
    "\n",
    "Python has been created by the Dutchman Guido van Rossum and the first release was in 1991. Tiobe index of August 2024 and Stack Overflow Developer Survey 2024:\n",
    "\n",
    "<img src=\"tiobeIndexAug2024.png\" alt=\"drawing\" width=\"1200\"/>\n",
    "<img src=\"stackOverflowDeveloperSurvey2024.png\" alt=\"drawing\" width=\"600\"/>\n",
    "\n",
    "We will only use a small part of python. So be careful where you spend your time on when learning python. Besides plain python, we use the libraries Numpy, Pandas, Matplotlib, Seaborn (and also many others). This Jupyter Notebook contains about all python constructs that you need to learn about for the minor AI.\n",
    "\n",
    "**Python tutorials**\n",
    "\n",
    "* [DataCamp - normally paid, but we've got free access](https://learn.datacamp.com/courses). See Teams for more info. Use your Avans email account with '@student.avans.nl' to avoid running into a pay wall. \n",
    "* [w3schools](https://www.w3schools.com/python/default.asp)\n",
    "* [Kaggle Learn](https://www.kaggle.com/learn/overview)\n",
    "\n",
    "**Create an anaconda environment**\n",
    "\n",
    "* install anaconda from [this link](https://www.anaconda.com/download)\n",
    "* open an anaconda powershell or command prompt\n",
    "* anaconda prompt> conda create -n py312 python=3.12 numpy matplotlib pandas seaborn jupyter notebook -c conda-forge\n",
    "* anaconda prompt> conda activate py312\n",
    "* anaconda prompt> jupyter notebook\n",
    "\n",
    "Avoid working in the `base` environment. Alternative is the Anaconda graphical launcher, but is harder to control the environments.\n",
    "\n",
    "**Python is an interpreted language**\n",
    "\n",
    "Python statements are executed directly when read from a file. This means:\n",
    "* Python can be run using an Anaconda command prompt. Let's try this.\n",
    "* A function definition must appear in a python program before the function is used.\n",
    "* You can re-execute a part of a program, e.g. a cell from a jupyter notebook. Variables created in earlier cells remain in memory. This is called REPL (Read, Evaluate, Print, Loop) and is VERY handy during development.\n",
    "* Python is slow. Libraries like Pytorch run computationally intensive tasks in C++ and on the GPU.\n",
    "\n",
    "**Python is design to be readable**\n",
    "\n",
    "* No need to use semicolumns to end a statement, although you can do it.\n",
    "* Relies on whitespace indentation to delimit blocks (e.g. for-loop, if-statement, function definition). Use 4 spaces, although any number of spaces will work, as long as you're consistent. Example:\n",
    "```\n",
    "for i in range(10):\n",
    "    print(i)\n",
    "```\n",
    "* Single line comment: `# your comment`.\n",
    "* Multi-line comment: `\"\"\" your multi-line comment \"\"\"` or `''' your multi-line comment '''`. Handy to comment out a block of code.\n",
    "* Document your code using `python docstring` (more info [here](https://realpython.com/documenting-python-code/)):\n",
    "<img src=\"docstring.png\" alt=\"drawing\" width=\"800\"/>\n",
    "\n",
    "**Naming conventions**\n",
    "\n",
    "The PyCharm IDE will highlight errors.\n",
    "* Function or method: `my_function`\n",
    "* Variable:\t`my_variable`\n",
    "* Class: `MyClass`\n",
    "* Constant: `MY_CONSTANT`\n",
    "* Module (a single Python file): `my_module.py`\n",
    "* Package (a directory with Python modules; it contains an additional `__init__.py` file): `mypackage`"
   ]
  },
  {
   "cell_type": "markdown",
   "metadata": {},
   "source": [
    "# Collection data types\n",
    "\n",
    "There are four collection data types in the Python programming language:\n",
    "* List is a collection which is ordered and changeable. Allows duplicate members.\n",
    "* Tuple is a collection which is ordered and unchangeable. Allows duplicate members.\n",
    "* Set is a collection which is unordered and unindexed. No duplicate members allowed.\n",
    "* Dictionary is a collection which is unordered, changeable and indexed. No duplicate members allowed."
   ]
  },
  {
   "cell_type": "code",
   "execution_count": null,
   "metadata": {},
   "outputs": [],
   "source": [
    "my_list = [\"apple\", \"banana\", 1]\n",
    "my_tuple = (\"apple\", \"banana\", \"cherry\")\n",
    "my_set = {\"apple\", \"banana\", \"cherry\"}\n",
    "my_dictionary = {\"brand\": \"Ford\", \"model\": \"Mustang\", \"year\": 1964}"
   ]
  },
  {
   "cell_type": "markdown",
   "metadata": {},
   "source": [
    "Note that we can mix the types of the values stored in a collection. Python is strongly, dynamically typed:\n",
    "* Strongly typed: the type of a value can only change due to explicit conversion.\n",
    "* Dynamically typed: type checking is only done at runtime (statically typed: type checking is done at compile time). \n",
    "\n",
    "If you're used to statically typed languages like Java or C#, a dynamically type language can be a source of errors. Examples:"
   ]
  },
  {
   "cell_type": "code",
   "execution_count": null,
   "metadata": {},
   "outputs": [],
   "source": [
    "# the type of a variable can change during its lifetime\n",
    "thing = 3\n",
    "print('thing:', thing)\n",
    "print(type(thing))\n",
    "thing = \"apple\"\n",
    "print('thing:', thing)\n",
    "print(type(thing))\n",
    "\n",
    "# dynamically typed\n",
    "if False:\n",
    "     print(1 + \"two\")  # this line never runs, so no type error is raised\n",
    "else:\n",
    "     print(1 + 2)\n",
    "\n",
    "\n",
    "# strongly typed: types are being checked and an error is thrown\n",
    "import sys\n",
    "try:\n",
    "    print(1 + \"two\")\n",
    "except TypeError:\n",
    "    print(sys.exc_info())"
   ]
  },
  {
   "cell_type": "code",
   "execution_count": null,
   "metadata": {},
   "outputs": [],
   "source": [
    "# iterate collections\n",
    "\n",
    "# iterate list/tuple/set\n",
    "for i in my_list:\n",
    "    print(i)\n",
    "    \n",
    "# iterate dictionary\n",
    "for key in my_dictionary:\n",
    "    print(key)\n",
    "    \n",
    "for key in my_dictionary.keys():\n",
    "    print(key)\n",
    "\n",
    "for value in my_dictionary.values():\n",
    "    print(value)\n",
    "        \n",
    "for key, value in my_dictionary.items():\n",
    "    print(key, ' -> ', value)\n",
    "    \n",
    "# iterate list using a list comprehension, a more pythonic way of writing python\n",
    "[print(i) for i in my_list]"
   ]
  },
  {
   "cell_type": "markdown",
   "metadata": {},
   "source": [
    "**YOU**: print the key/value pairs of a dictionary using a list comprehension"
   ]
  },
  {
   "cell_type": "markdown",
   "metadata": {},
   "source": [
    "# Numpy\n",
    "\n",
    "Numpy is a python library very useful for dealing with vectors and matrices in python.\n",
    "\n",
    "![scalar-vector-matrix-tensor](https://hadrienj.github.io/assets/images/2.1/scalar-vector-matrix-tensor.png)"
   ]
  },
  {
   "cell_type": "code",
   "execution_count": null,
   "metadata": {},
   "outputs": [],
   "source": [
    "# scalar\n",
    "z = 3\n",
    "print('type(z):', type(z))\n",
    "\n",
    "# vector\n",
    "import numpy as np\n",
    "y = np.array([10, 20])\n",
    "print('y.shape:', y.shape)\n",
    "print('type(y):', type(y))\n",
    "\n",
    "# matrix of dimension 2 x 3 (#rows times #columns)\n",
    "X = np.array([[4, 5, 6], [7, 8, 9]])\n",
    "print('X.shape', X.shape)"
   ]
  },
  {
   "cell_type": "markdown",
   "metadata": {},
   "source": [
    "**YOU**: create and print a matrix of dimension 4 x 10 containing zeros, using the np.zeros() method."
   ]
  },
  {
   "cell_type": "markdown",
   "metadata": {},
   "source": [
    "Vectors are often used in physics to represent a 2-D or 3-D position or velocity.\n",
    "\n",
    "In data science, the training data is typically stored in a matrix. Each **row** is a **training sample** containing a number of **features**. So the **columns** are the features. This is an example:\n",
    "\n",
    "![](https://www.cdn.geeksforgeeks.org/wp-content/uploads/creating_dataframe1.png)\n",
    "\n",
    "In the code (not the image) above, our training data consists of 2 training samples each containing 3 features.\n",
    "\n",
    "In supervised learning, the ML algorithm is trained by feeding it the training data and also the correct answers. The correct answers are typically called the **labels**.\n",
    "\n",
    "Some naming conventions:\n",
    "* the matrix with the training samples (without labels) is usually called `X`, upper case to denote that it's a matrix (pandas: matrix with training samples is usually called `df`, which is short for DataFrame)\n",
    "* the number of training samples is usually called `m`\n",
    "* the number of features is usually called `n`\n",
    "* so the dimensions of X are `m x n`\n",
    "* the vector with the labels (the correct answers) is usally called `y`, small caps to denote that it's a vector. Dimension is `m`.\n",
    "\n",
    "**Tuples**\n",
    "\n",
    "What about the trailing comma in the tuple `(2,)`?? It's to denote that it's a tuple:\n",
    "* `3 * (2 + 1)`  # the number 2 (the parentheses are wrapping the expression `2 + 1`)\n",
    "* `(2,)` # a 1-tuple holding a number 2\n",
    "\n",
    "In all cases, except for the empty tuple, the comma makes it a tuple. Parentheses are only required when required for other syntactic reasons: to distinguish a tuple from a set of function arguments, operator precedence, or to allow line breaks.\n",
    "\n",
    "For more than one item, it is no longer necessary since it is perfectly clear it is a tuple. However, the trailing comma is allowed to make defining them using multiple lines easier:\n",
    "big_tuple = (\n",
    "                   0,\n",
    "                   1,\n",
    "                   2,\n",
    "                   3,\n",
    "                   4,\n",
    "                   5,\n",
    "                   6,\n",
    "                   7,\n",
    "                   8,\n",
    "                   9,\n",
    "                   10,\n",
    "               ).\n",
    "Note that this applies to other collections (e.g. lists and dictionaries) too and not just tuples."
   ]
  },
  {
   "cell_type": "markdown",
   "metadata": {},
   "source": [
    "# Functions, vectorization and dot product"
   ]
  },
  {
   "cell_type": "code",
   "execution_count": null,
   "metadata": {},
   "outputs": [],
   "source": [
    "# definition of a function\n",
    "def h(x):\n",
    "    theta_0 = 0.7\n",
    "    theta_1 = 2.2\n",
    "    return theta_0 + theta_1 * x\n",
    "\n",
    "# usage\n",
    "x = 3\n",
    "y = h(x)\n",
    "print(f'y is {y}') # note the alternative (and preferred!) way of printing"
   ]
  },
  {
   "cell_type": "markdown",
   "metadata": {},
   "source": [
    "The function definition above only takes single values (scalars) as input. Let's modify the function to take a vector as input (and consequently also returns a vector as output."
   ]
  },
  {
   "cell_type": "code",
   "execution_count": null,
   "metadata": {},
   "outputs": [],
   "source": [
    " def h(x):\n",
    "    theta_0 = 0.7\n",
    "    theta_1 = 2.2\n",
    "    hh = []\n",
    "    for i in x:\n",
    "        hh.append(theta_0 + theta_1 * i)\n",
    "    return hh"
   ]
  },
  {
   "cell_type": "markdown",
   "metadata": {},
   "source": [
    "**YOU**: make a graph of this function for range 0 to 9:\n",
    "* use `import matplotlib.pyplot as plt` to get access to plotting method `plt.plot(x, y)`\n",
    "* use `range(10)` to create a vector `x` of length 10 with the values 0 to 9\n",
    "* create vector `y` using the function `h`\n",
    "* use `plt.plot(x, y)` to create the graph\n",
    "* use `plt.show()` to actually render"
   ]
  },
  {
   "cell_type": "markdown",
   "metadata": {},
   "source": [
    "Let's change the function in a more pythonic way by using a list comprehension."
   ]
  },
  {
   "cell_type": "code",
   "execution_count": null,
   "metadata": {},
   "outputs": [],
   "source": [
    " def h(x):\n",
    "    theta_0 = 0.7\n",
    "    theta_1 = 2.2\n",
    "    return [theta_0 + theta_1 * i for i in x]  # called a list comprehension (for-loop within a list)\n",
    "\n",
    "# usage\n",
    "x = range(10)\n",
    "y = h(x)  # y is also a vector!\n",
    "import matplotlib.pyplot as plt\n",
    "plt.plot(x, y)\n",
    "plt.show()"
   ]
  },
  {
   "cell_type": "markdown",
   "metadata": {},
   "source": [
    "Typically, a training sample has more features than just 1. So what is calculated for each training sample:\n",
    "theta_0 + theta_1 * x_1 + theta_2 * x_2 + ...\n",
    "\n",
    "**YOU**: take the function definition of `h(x)` from the beginning of this section (the one that can handle only 1 training sample with 1 feature), and change it to allow handling an **arbitrary** number of features:\n",
    "* This means that input `x` becomes a vector with all the features of the training sample and `theta` also becomes a vector and is also input of the function. \n",
    "* Do `x` and `theta` have the same length? No, so a trick to remove this complication is to prepend `x` with a dummy feature x_0 which always has value 1. Now, `x` and `theta` have the same length and the calculation to perform becomes: theta_0 * x_0 + theta_1 * x_1 + theta_2 * x_2 + ... . \n",
    "* The python built-in function `zip()` can be used to simultaneously loop through `x` and `theta`, by returning tuples of the form `(theta_0, x_0)`."
   ]
  },
  {
   "cell_type": "markdown",
   "metadata": {},
   "source": [
    "Until now we've performed 2 modifications to our initial function. First we've changed it to allow handling multiple data samples. Then we started with the initial function and we've changed it to allow handling multiple features. This will of course become a function with two for-loops. We can try to do this with for-loops, but this will give ugly, complex code. Moreover, for-loops are very inefficient to run. So let's do it without for-loops! This is called **vectorization** and is a very important concept in python programming. We use the **dot product** matrix operator.\n",
    "![](https://miro.medium.com/max/1716/1*-zwv5fz41tWLpUaY9SBQew.png)\n",
    "\n",
    "The dot product of `X` and `theta`, so $X \\cdot \\Theta$, is exactly what we want:\n",
    "<img src=\"dotProduct.png\" alt=\"drawing\" width=\"800\"/>\n",
    "\n",
    "\n",
    "So let's change the function definition as shown below:\n",
    "* `X` is not a vector any more but a matrix with dimensions `m x n`.\n",
    "* As we don't know the number of features, `theta` has become an argument of the function. `theta` is a vector of dimension `n`.\n",
    "* We define `x_0` having always the value 1, then we don't need to treat `theta_0` in special way. The number of columns of `X` and the length of `theta` are now the same."
   ]
  },
  {
   "cell_type": "code",
   "execution_count": null,
   "metadata": {},
   "outputs": [],
   "source": [
    "def h(X, theta):\n",
    "    return X @ theta\n",
    "\n",
    "X = np.array([[4, 5, 6], [2, 3, 4], [8, 9, 10], [7, 6, 3], [-1, -6, -3]])  # 5 training samples with each 3 features\n",
    "print(f'shape of X is {X.shape}')\n",
    "m = 5  # number of training samples\n",
    "ones = np.ones((m, 1))  # matrix of shape (5,1) with only 1's\n",
    "X = np.hstack((ones, X))  # adding the x_0 column, so shape will be (5,4)\n",
    "print(f'shape of X is {X.shape}')\n",
    "\n",
    "theta = np.array([0.7, 2.2, 5.1, 6.7])  # 3 features\n",
    "print(f'shape of theta is {theta.shape}')\n",
    "theta = theta[:, np.newaxis]  # from vector of length n to matrix of dimension n x 1 (not needed, for clarity)\n",
    "print(f'shape of theta is {theta.shape}')\n",
    "\n",
    "y = h(X, theta)\n",
    "print(y)"
   ]
  },
  {
   "cell_type": "code",
   "execution_count": null,
   "metadata": {},
   "outputs": [],
   "source": [
    "print(type(X))\n",
    "print(type(theta))"
   ]
  },
  {
   "cell_type": "markdown",
   "metadata": {},
   "source": [
    "For a dot product the dimensions must fit. In `X @ theta`, the dimension should be `m x n` for `X` and `n x 1` for `theta`. The dimension of the result `y` will be `m x 1`.\n",
    "\n",
    "Alternative ways of writing the dot product: `X.dot(theta)` or `np.dot(X, theta)`."
   ]
  },
  {
   "cell_type": "markdown",
   "metadata": {},
   "source": [
    "# Pandas\n",
    "\n",
    "Pandas is a library for data manipulation in python. Very often the same task can be done in numpy as well as in pandas. It is a matter of programmer's preference which one to use. \n",
    "\n",
    "Pandas resembles Excel. The main data type is the **DataFrame**. A DataFrame is composed of three different components, the **index**, the **columns**, and the data. The data is also known as the values. \n",
    "\n",
    "![](https://www.cdn.geeksforgeeks.org/wp-content/uploads/creating_dataframe1.png)\n",
    "\n",
    "Please use this [very good article](https://medium.com/dunder-data/selecting-subsets-of-data-in-pandas-6fcd0170be9c) about pandas to learn about it."
   ]
  },
  {
   "cell_type": "code",
   "execution_count": null,
   "metadata": {},
   "outputs": [],
   "source": [
    "import pandas as pd\n",
    "\n",
    "df = pd.read_csv('trainingdata.csv', sep=',', header=None)\n",
    "df.head()  # view first few rows of the data"
   ]
  },
  {
   "cell_type": "code",
   "execution_count": null,
   "metadata": {},
   "outputs": [],
   "source": [
    "X = df.iloc[:, 0:2]  # read the features (the first two columns) into X\n",
    "y = df.iloc[:, 2]  # read the labels (the third column) into y\n",
    "m = len(y)  # number of training samples\n",
    "\n",
    "print(X.head())\n",
    "print(y.head())"
   ]
  },
  {
   "cell_type": "markdown",
   "metadata": {},
   "source": [
    "Python's slice notation:\n",
    "* `a[start:stop]`  # items start through stop-1, so including start and excluding stop\n",
    "* `a[start:]`      # items start through the rest of the array\n",
    "* `a[:stop]`       # items from the beginning through stop-1\n",
    "* `a[:]`           # a copy of the whole array\n",
    "* `a[-3:-1]`       # items from the 4th item counting from the end until the item one before the end"
   ]
  },
  {
   "cell_type": "code",
   "execution_count": null,
   "metadata": {},
   "outputs": [],
   "source": [
    "# some examples\n",
    "a = 'the minor AI is ...!!'\n",
    "print(a[4:])\n",
    "print(a[-3:-1])"
   ]
  },
  {
   "cell_type": "code",
   "execution_count": null,
   "metadata": {},
   "outputs": [],
   "source": [
    "# pandas can be confusing\n",
    "print(df.iloc[:, 0:2].head()) # exclusive! 0:2 are *indices*; normal python slicing\n",
    "print(df.loc[:, 0:2].head()) # inclusive! 0:2 are *labels*"
   ]
  },
  {
   "cell_type": "markdown",
   "metadata": {},
   "source": [
    "# Miscellaneous\n",
    "\n",
    "## convert vector to matrix\n",
    "\n",
    "Assume `X` is a vector with 3 training samples with each 1 feature. Many numpy operations need matrices as parameter. So often we need to convert a vector of dimension `m` to a matrix of dimension `m x 1`."
   ]
  },
  {
   "cell_type": "code",
   "execution_count": null,
   "metadata": {},
   "outputs": [],
   "source": [
    "X = np.array([1, 5, 7])\n",
    "print('X.shape', X.shape)\n",
    "X = X[:, np.newaxis]  # convert from shape (3,) to (3,1), so from vector to matrix\n",
    "print('X.shape', X.shape)"
   ]
  },
  {
   "cell_type": "markdown",
   "metadata": {},
   "source": [
    "## add a column to the front of a matrix\n",
    "\n",
    "In earlier code, we've added a column x_0 to a matrix with always value 1 to allow usage of the dot product operator. A handy way to do this:"
   ]
  },
  {
   "cell_type": "code",
   "execution_count": null,
   "metadata": {},
   "outputs": [],
   "source": [
    "m = 3\n",
    "ones = np.ones((m, 1))  # matrix of shape (3,1) with only 1's\n",
    "X = np.hstack((ones, X))  # adding the x_0 column, so shape will be (3,2)\n",
    "print('X.shape', X.shape)"
   ]
  },
  {
   "cell_type": "markdown",
   "metadata": {},
   "source": [
    "## flatten and reshape\n",
    "\n",
    "You will see this often in examples, so better getting acquinted with it right a way. With `flatten()` you reduce the dimension of an ndarray to 1. With reshape you can restore it to its original dimensions."
   ]
  },
  {
   "cell_type": "code",
   "execution_count": null,
   "metadata": {},
   "outputs": [],
   "source": [
    "a = np.array([[1,2], [3,4], [5,6]])  # dimension 3 x 2\n",
    "print('a:', a)\n",
    "print(a.shape)\n",
    "\n",
    "b = a.flatten()\n",
    "print('b:', b)\n",
    "print(b.shape)\n",
    "\n",
    "c = b.reshape(3, 2)\n",
    "print('c:', c)\n",
    "print(c.shape)"
   ]
  },
  {
   "cell_type": "markdown",
   "metadata": {},
   "source": [
    "# Python development\n",
    "\n",
    "## Anaconda\n",
    "\n",
    "Anaconda is a package and environment manager for python that is often used for data science projects. It can be found [here](https://www.anaconda.com/products/individual).\n",
    "\n",
    "Installing a package:\n",
    "* `conda install <package name>` for example `conda install tensorflow`\n",
    "\n",
    "A conda virtual environment has a certain set of library versions. You can have multiple conda virtual environments each having its own set of library versions. Unfortunately, quite some probability that you'll bump into library compatibility issues during your Capstone project. The term 'library' is loosely defined in python. It can refer to modules or packages.\n",
    "\n",
    "* view available virtual environments: `conda env list`\n",
    "* create a new virtual environment: `conda create -n <myenv>`\n",
    "* create a new virtual environment with a certain python version and numpy: `conda create -n <myenv> python=3.6 numpy`\n",
    "* activate a virtual environment: `conda activate <myenv>`\n",
    "* view packages and its versions: `conda list`\n",
    "\n",
    "## Using pip with Anaconda\n",
    "\n",
    "Sometimes a package you need is not available as conda distribution, then also `pip install <package name>` works. However this can easily lead to a messed-up virtual environment. The correct way of using pip with anaconda:\n",
    "* always create a new environment, to not mess up the base environment: `conda create -n <myenv> python=<python version>`\n",
    "* first try conda install: `conda install <your package>`\n",
    "* if this doesn't work, try the conda forge channel: `conda install -c conda-forge <your package>`\n",
    "* if this doesn't work, try pip in the following way:\n",
    "  * `conda install pip`\n",
    "  * `<location of anaconda>\\\\anaconda\\\\envs\\\\<your env>\\\\Scripts\\\\pip install <your package>` in order to be sure to use the correct pip binary\n",
    "* how to check the location of pip:\n",
    "  * `which pip` (linux)\n",
    "  * `where pip` (windows cmd)\n",
    "  * `Get-Command pip` (windows powershell)\n",
    " \n",
    "\n",
    "## IDE: Visual Studio Code with Github Copilot or PyCharm\n",
    "\n",
    "We will often use a Jupyter Notebook for our python code. You can also use an IDE like Visual Studio Code with Github Copilot or PyCharm.\n",
    "\n",
    "If you use an IDE, you need to get it to use your conda environments, instead of having it create its own environments. More information can be found [here (Visual Studio)](https://code.visualstudio.com/docs/python/environments) and [here (PyCharm)](https://www.jetbrains.com/help/pycharm/conda-support-creating-conda-virtual-environment.html).\n",
    "\n",
    "Free access to Github Copilot can be requested [here](https://docs.github.com/en/copilot/managing-copilot/managing-copilot-as-an-individual-subscriber/managing-your-copilot-subscription/getting-free-access-to-copilot-as-a-student-teacher-or-maintainer). [This video](https://www.youtube.com/watch?v=jXp5D5ZnxGM) gives an overview of the possibilities of Github Copilot.\n",
    "\n",
    "Avans has an academic license for the Professional Edition of the PyCharm IDE. To use this academic license sign up with your @student.avans.nl email account. PyCharm can be downloaded [here](https://www.jetbrains.com/products/#type=ide).\n",
    "\n",
    "\n",
    "## Virtualenv, Pipenv and miniconda\n",
    "\n",
    "Conda and pip are so-called package managers. They're used to install packages.\n",
    "\n",
    "Anaconda is also an environment manager that manages dependencies between packages. Other popular environment managers are virtualenv (quite old by now) and pipenv. Anaconda is often used for data science projects as it comes with a lot of packages used often for data science.\n",
    "\n",
    "Anaconda comes with a lot of packages preinstalled, especially packages well-suited for data science. This is handy, but also big/slow. Miniconda is a stripped-down version of Anaconda."
   ]
  },
  {
   "cell_type": "markdown",
   "metadata": {},
   "source": [
    "## Some solutions to the questions."
   ]
  },
  {
   "cell_type": "code",
   "execution_count": null,
   "metadata": {},
   "outputs": [],
   "source": [
    "# iterate of dictionary using a list comprehension; not that 'key, value' is actually a tuple being returned\n",
    "my_dictionary = {\"brand\": \"Ford\", \"model\": \"Mustang\", \"year\": 1964}\n",
    "[print(key, ' -> ', value) for key, value in my_dictionary.items()]\n",
    "\n",
    "\n",
    "#  create matrix of dimension 4 x 10 containing zeros, using the np.zeros() method\n",
    "mm = np.zeros((4, 10))  # note the double parentheses; this is because we pass a tuple to the np.zeros() method\n",
    "\n",
    "\n",
    "# make a graph of this function for range 0 to 9\n",
    "def h(x):\n",
    "    theta_0 = 0.7\n",
    "    theta_1 = 2.2\n",
    "    hh = []\n",
    "    for i in x:\n",
    "        hh.append(theta_0 + theta_1 * i)\n",
    "    return hh\n",
    "#\n",
    "import matplotlib.pyplot as plt\n",
    "x = range(10)\n",
    "y = h(x)\n",
    "plt.plot(x, y)\n",
    "plt.show()\n",
    "\n",
    "\n",
    "# modify the function to handle 1 training sample with an aribitrary number of features\n",
    "def h(x, theta):\n",
    "    hh = 0\n",
    "    for x_i, theta_i in zip(x, theta):\n",
    "        hh += x_i * theta_i\n",
    "    return hh\n",
    "# usage\n",
    "x = [3, 4, 5]  # 3 features\n",
    "theta = [1, 2, 3, 4]  # 3 features\n",
    "x.insert(0, 1)  # prepend 1 in order for x and theta to be the same length; you could also put this inside the function definition\n",
    "y = h(x, theta)\n",
    "print('y:', y)"
   ]
  },
  {
   "cell_type": "code",
   "execution_count": null,
   "metadata": {},
   "outputs": [],
   "source": []
  }
 ],
 "metadata": {
  "kernelspec": {
   "display_name": "Python 3 (ipykernel)",
   "language": "python",
   "name": "python3"
  },
  "language_info": {
   "codemirror_mode": {
    "name": "ipython",
    "version": 3
   },
   "file_extension": ".py",
   "mimetype": "text/x-python",
   "name": "python",
   "nbconvert_exporter": "python",
   "pygments_lexer": "ipython3",
   "version": "3.9.7"
  }
 },
 "nbformat": 4,
 "nbformat_minor": 4
}
