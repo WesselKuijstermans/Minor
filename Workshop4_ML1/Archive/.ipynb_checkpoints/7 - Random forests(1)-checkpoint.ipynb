{
 "cells": [
  {
   "cell_type": "markdown",
   "metadata": {},
   "source": [
    "# Random Forest\n",
    "\n",
    "Now let's grow a forest out of our trees. \n",
    "\n",
    "In this notebook we'll cover the following topics.\n",
    "- The problem of overfitting\n",
    "- Pruning\n",
    "- From a tree to a forest\n",
    "- A voting forest"
   ]
  },
  {
   "cell_type": "markdown",
   "metadata": {},
   "source": [
    "### Pruning\n",
    "\n",
    "We've seen the problem of overfitting in the previous notebook. There is a way to reverse overfitting (**regularization**) called **pruning**. Let's go through the steps of pruning a tree. (Pruning a tree is actually a horticultural expression used for cutting off branches to make the plant grow better in the future.)\n",
    "\n",
    "You need to have separated your data set into three parts for this. A **training set**, a **validation set**, and a **test set**. Once you have learned a tree on the training set you take the validation set and start cutting away at the tree: for example removing some of the leaf nodes. You then use the validation set to make sure that the tree does *not* lose any predictive power when cutting away these branches. If it does decrease an accurate prediction you're cutting away a crucial branch, so better put it back!\n",
    "\n",
    "Finally you can apply the tree to the test set for the final check that you have a model that is not overfitted."
   ]
  },
  {
   "cell_type": "markdown",
   "metadata": {},
   "source": [
    "### Forest\n",
    "\n",
    "A forest is also a method of **regularization**. Instead of cutting away branches that were overfitted you keep the overfitted tree, but simply generate lots of trees. Each tree is trained on a randomly sampled subset of the training data, so each tree is slightly different.\n",
    "\n",
    "And what do you call a set of many trees.... a **random forest**!\n",
    "\n",
    "When a prediction has to be made each tree is asked to go through its nodes and determine the outcome. This outcome is then cast as a vote by each tree. The forest looks at all the votes and sticks with the majority. The idea being that each tree will be overfitted differently than all the others, but the general trend is learned in all trees! Some trees will cast some ridiculous vote, but as long as they are in the minority the forest as a whole predicts correctly."
   ]
  },
  {
   "cell_type": "markdown",
   "metadata": {},
   "source": [
    "### Training a Forest\n",
    "\n",
    "We'll start by importing the required modules and doing the same preprocessing of the data as in the previous notebook."
   ]
  },
  {
   "cell_type": "code",
   "execution_count": null,
   "metadata": {},
   "outputs": [],
   "source": [
    "import pandas as pd\n",
    "import seaborn as sns\n",
    "from sklearn.model_selection import train_test_split"
   ]
  },
  {
   "cell_type": "code",
   "execution_count": null,
   "metadata": {},
   "outputs": [],
   "source": [
    "df = sns.load_dataset('titanic')\n",
    "df.sort_values(by=list(df.columns), axis=0, inplace=True)\n",
    "df.fillna(method='bfill', inplace=True)\n",
    "df.fillna(df.mean(), inplace=True)\n",
    "df = pd.get_dummies(df)\n",
    "df_train, df_test = train_test_split(df, test_size=0.5, random_state=42)\n",
    "X_train = df_train.drop(columns=['survived', 'alive_no', 'alive_yes'])\n",
    "y_train = df_train['survived']\n",
    "X_test = df_test.drop(columns=['survived', 'alive_no', 'alive_yes'])\n",
    "y_test = df_test['survived']"
   ]
  },
  {
   "cell_type": "markdown",
   "metadata": {},
   "source": [
    "The forest classifier is imported from the ensemble submodule of Scikit. Each tree is a separate model and we're combining their output through voting. This is called an **ensemble** of models."
   ]
  },
  {
   "cell_type": "code",
   "execution_count": null,
   "metadata": {},
   "outputs": [],
   "source": [
    "from sklearn.ensemble import RandomForestClassifier"
   ]
  },
  {
   "cell_type": "markdown",
   "metadata": {},
   "source": [
    "Here you can see the power of Scikit. The syntax when training a different model is almost identical!\n",
    "\n",
    "Let this inspire you to try other models available in Scikit: the interface to use them is very easy."
   ]
  },
  {
   "cell_type": "code",
   "execution_count": null,
   "metadata": {},
   "outputs": [],
   "source": [
    "forest = RandomForestClassifier(n_estimators=50)\n",
    "forest.fit(X_train, y_train)"
   ]
  },
  {
   "cell_type": "markdown",
   "metadata": {},
   "source": [
    "We'll use our trusty error to determine how this model did."
   ]
  },
  {
   "cell_type": "code",
   "execution_count": null,
   "metadata": {},
   "outputs": [],
   "source": [
    "def compute_error(truth, prediction):\n",
    "    diff = 0\n",
    "    \n",
    "    for truth_i, prediction_i in zip(truth, prediction):\n",
    "        diff += (truth_i - prediction_i)**2\n",
    "        \n",
    "    return diff"
   ]
  },
  {
   "cell_type": "code",
   "execution_count": null,
   "metadata": {},
   "outputs": [],
   "source": [
    "pred_test = forest.predict(X_test)\n",
    "pred_train = forest.predict(X_train)\n",
    "err_test = compute_error(y_test, pred_test)\n",
    "err_train = compute_error(y_train, pred_train)\n",
    "err_test, err_train"
   ]
  },
  {
   "cell_type": "markdown",
   "metadata": {},
   "source": [
    "Hmm... it doesn't improve much on this small data set, one tree is actually enough.\n",
    "\n",
    "But I challenge you to try it on the much larger Fraude Detection set! I bet you will see a change!\n",
    "\n",
    "---\n",
    "#### Exercise\n",
    "Did you try rerunning training the forest? Each time you train and test it you can get a slightly different number of mistakes. Can you explain why this is?\n",
    "\n",
    "---\n",
    "\n",
    "So far we have made precise predictions with both the decision tree and the random forest. Some models actually allow for giving a probability of being in each class. Let's try this for the random forest."
   ]
  },
  {
   "cell_type": "code",
   "execution_count": null,
   "metadata": {},
   "outputs": [],
   "source": [
    "forest.predict_proba(X_test)"
   ]
  },
  {
   "cell_type": "markdown",
   "metadata": {},
   "source": [
    "Now we get two columns as prediction. The first column is the estimated probability that this passenger deceased, while the second is the probability that the passenger survived. You can also check that both probabilities sum to 1 for each passenger, since a passenger has either survived or not, there is no other outcome.\n",
    "\n",
    "When measuring the performance of a model giving probabilities can work in your advantage. It works well with the ROC curve measurement for example, hint hint... ;)"
   ]
  },
  {
   "cell_type": "code",
   "execution_count": null,
   "metadata": {},
   "outputs": [],
   "source": []
  }
 ],
 "metadata": {
  "kernelspec": {
   "display_name": "Python 3",
   "language": "python",
   "name": "python3"
  },
  "language_info": {
   "codemirror_mode": {
    "name": "ipython",
    "version": 3
   },
   "file_extension": ".py",
   "mimetype": "text/x-python",
   "name": "python",
   "nbconvert_exporter": "python",
   "pygments_lexer": "ipython3",
   "version": "3.7.4"
  }
 },
 "nbformat": 4,
 "nbformat_minor": 2
}
