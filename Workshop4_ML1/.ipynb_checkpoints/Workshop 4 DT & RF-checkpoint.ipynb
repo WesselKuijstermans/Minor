{
 "cells": [
  {
   "cell_type": "markdown",
   "metadata": {},
   "source": [
    "# Workshop 5 Decision trees & random forests"
   ]
  },
  {
   "cell_type": "markdown",
   "metadata": {},
   "source": [
    "Interesting sources: \n",
    "- https://learn.datacamp.com/courses/machine-learning-with-tree-based-models-in-python\n",
    "- https://www.datacamp.com/community/tutorials/decision-tree-classification-python\n",
    "- https://www.datacamp.com/community/tutorials/random-forests-classifier-python"
   ]
  },
  {
   "cell_type": "markdown",
   "metadata": {},
   "source": [
    "![](https://docs.microsoft.com/en-us/azure/machine-learning/team-data-science-process/media/overview/tdsp-lifecycle2.png \"Data Science Lifecycle\")"
   ]
  },
  {
   "cell_type": "markdown",
   "metadata": {},
   "source": [
    "We have seen that we can uncover correlations by using bivariate analyis. This also raises the question: If we extract information from multiple columns (Multivariate analysis), could we use these correlations to calculate/predict the value of a column for rows that do not yet have a value?\n",
    "\n",
    "For example:\n",
    "- Can we calculate if a customer will churn (= We lose the customer)?\n",
    "- Can we calculate if a customer would use a certain product? (Product recommendation)\n",
    "- Can we calculate if a mail is spam or not?\n",
    "- Can we calculate if a financial transaction is fraudulent or not?\n",
    "- Can we calculate if a customer will be able to pay back their loan or not?\n",
    "- Can we calculate the price people are willing to pay for a house?\n",
    "- Can we calculate the salary a student will earn in the future?\n",
    "- ...\n",
    "\n",
    "Just as we used math/statistics to support to explore the data one column at a time (Univariate) and per combination of two columns (Bivariate analysis), we will use machine learning algorithms to extract information across multiple columns (Multivariate analysis) and to build data products. \n",
    "\n",
    "Machine learning is:\n",
    "- Machine learning is a method of data analysis that automates analytical model building. It is a branch of artificial intelligence based on the idea that systems can learn from data, identify patterns and make decisions with minimal human intervention. (https://www.sas.com/en_us/insights/analytics/machine-learning.html#:~:text=Machine%20learning%20is%20a%20method,decisions%20with%20minimal%20human%20intervention.)\n",
    "- Machine learning (ML) is the study of computer algorithms that improve automatically through experience.[1] It is seen as a part of artificial intelligence. Machine learning algorithms build a model based on sample data, known as \"training data\", in order to make predictions or decisions without being explicitly programmed to do so.[2] Machine learning algorithms are used in a wide variety of applications, such as email filtering and computer vision, where it is difficult or unfeasible to develop conventional algorithms to perform the needed tasks. (https://en.wikipedia.org/wiki/Machine_learning)\n",
    "\n",
    "Examples of data products could include:\n",
    "- A product recommender\n",
    "- A customer churn predictor\n",
    "- A mail labeler (Primary, promotion, social, spam, etc.)\n",
    "- Sentiment analyser for social media messages\n",
    "- ..."
   ]
  },
  {
   "cell_type": "code",
   "execution_count": null,
   "metadata": {},
   "outputs": [],
   "source": []
  },
  {
   "cell_type": "markdown",
   "metadata": {},
   "source": [
    "![](https://miro.medium.com/max/1204/1*qYoU2VTBsORAfhkfiluURQ.png)"
   ]
  },
  {
   "cell_type": "code",
   "execution_count": 1,
   "metadata": {},
   "outputs": [
    {
     "data": {
      "text/html": [
       "<div>\n",
       "<style scoped>\n",
       "    .dataframe tbody tr th:only-of-type {\n",
       "        vertical-align: middle;\n",
       "    }\n",
       "\n",
       "    .dataframe tbody tr th {\n",
       "        vertical-align: top;\n",
       "    }\n",
       "\n",
       "    .dataframe thead th {\n",
       "        text-align: right;\n",
       "    }\n",
       "</style>\n",
       "<table border=\"1\" class=\"dataframe\">\n",
       "  <thead>\n",
       "    <tr style=\"text-align: right;\">\n",
       "      <th></th>\n",
       "      <th>klantnr</th>\n",
       "      <th>huidig_contractduur</th>\n",
       "      <th>VERBRUIKGAS</th>\n",
       "      <th>VERBRUIKEL</th>\n",
       "      <th>VERBRUIKHOOG</th>\n",
       "      <th>VERBRUIKLAAG</th>\n",
       "      <th>nieuwsbrief</th>\n",
       "      <th>wervingskanaal</th>\n",
       "      <th>vast_variabel</th>\n",
       "      <th>grijs_groen</th>\n",
       "      <th>startlevering</th>\n",
       "      <th>eindlevering</th>\n",
       "      <th>contract_verlengd</th>\n",
       "      <th>welstand</th>\n",
       "      <th>levensfase</th>\n",
       "      <th>bouwjaar</th>\n",
       "      <th>soort_woning</th>\n",
       "      <th>inkomen</th>\n",
       "      <th>opleiding</th>\n",
       "    </tr>\n",
       "  </thead>\n",
       "  <tbody>\n",
       "    <tr>\n",
       "      <th>0</th>\n",
       "      <td>10135</td>\n",
       "      <td>12</td>\n",
       "      <td>0</td>\n",
       "      <td>3047</td>\n",
       "      <td>0</td>\n",
       "      <td>0</td>\n",
       "      <td>Y</td>\n",
       "      <td>Online</td>\n",
       "      <td>vaste prijs</td>\n",
       "      <td>grijze stroom</td>\n",
       "      <td>11-10-2002</td>\n",
       "      <td>3-11-2004</td>\n",
       "      <td>niet verlengd</td>\n",
       "      <td>Laag</td>\n",
       "      <td>Alleenstaand</td>\n",
       "      <td>1940 tot 1969</td>\n",
       "      <td>Hoge flat</td>\n",
       "      <td>tussen modaal en 2 keer modaal keer modaal of ...</td>\n",
       "      <td>Midden</td>\n",
       "    </tr>\n",
       "    <tr>\n",
       "      <th>1</th>\n",
       "      <td>10150</td>\n",
       "      <td>12</td>\n",
       "      <td>0</td>\n",
       "      <td>0</td>\n",
       "      <td>3247</td>\n",
       "      <td>3257</td>\n",
       "      <td>Y</td>\n",
       "      <td>Online</td>\n",
       "      <td>vaste prijs</td>\n",
       "      <td>grijze stroom</td>\n",
       "      <td>11-10-2002</td>\n",
       "      <td>11-10-2005</td>\n",
       "      <td>niet verlengd</td>\n",
       "      <td>Hoog</td>\n",
       "      <td>Paar met kinderen</td>\n",
       "      <td>1970 tot 1989</td>\n",
       "      <td>Rijtjeshuis</td>\n",
       "      <td>modaal</td>\n",
       "      <td>Hoog</td>\n",
       "    </tr>\n",
       "    <tr>\n",
       "      <th>2</th>\n",
       "      <td>10159</td>\n",
       "      <td>12</td>\n",
       "      <td>0</td>\n",
       "      <td>2426</td>\n",
       "      <td>0</td>\n",
       "      <td>0</td>\n",
       "      <td>N</td>\n",
       "      <td>Online</td>\n",
       "      <td>vaste prijs</td>\n",
       "      <td>grijze stroom</td>\n",
       "      <td>11-10-2002</td>\n",
       "      <td>5-1-2007</td>\n",
       "      <td>niet verlengd</td>\n",
       "      <td>Midden</td>\n",
       "      <td>Paar met kinderen</td>\n",
       "      <td>Voor 1899</td>\n",
       "      <td>Rijtjeshuis</td>\n",
       "      <td>tussen modaal en 2 keer modaal</td>\n",
       "      <td>Hoog</td>\n",
       "    </tr>\n",
       "    <tr>\n",
       "      <th>3</th>\n",
       "      <td>10193</td>\n",
       "      <td>36</td>\n",
       "      <td>1616</td>\n",
       "      <td>2092</td>\n",
       "      <td>0</td>\n",
       "      <td>0</td>\n",
       "      <td>Y</td>\n",
       "      <td>Inbound</td>\n",
       "      <td>variabele prijs</td>\n",
       "      <td>groene stroom</td>\n",
       "      <td>17-10-2002</td>\n",
       "      <td>26-3-2012</td>\n",
       "      <td>niet verlengd</td>\n",
       "      <td>Laag</td>\n",
       "      <td>Paar met kinderen</td>\n",
       "      <td>Voor 1899</td>\n",
       "      <td>Lage flat</td>\n",
       "      <td>modaal</td>\n",
       "      <td>Laag</td>\n",
       "    </tr>\n",
       "    <tr>\n",
       "      <th>4</th>\n",
       "      <td>10206</td>\n",
       "      <td>12</td>\n",
       "      <td>0</td>\n",
       "      <td>2787</td>\n",
       "      <td>0</td>\n",
       "      <td>0</td>\n",
       "      <td>Y</td>\n",
       "      <td>Online</td>\n",
       "      <td>vaste prijs</td>\n",
       "      <td>groene stroom</td>\n",
       "      <td>11-10-2002</td>\n",
       "      <td>5-2-2009</td>\n",
       "      <td>niet verlengd</td>\n",
       "      <td>Hoog</td>\n",
       "      <td>Paar met kinderen</td>\n",
       "      <td>Voor 1899</td>\n",
       "      <td>Rijtjeshuis</td>\n",
       "      <td>modaal</td>\n",
       "      <td>Midden</td>\n",
       "    </tr>\n",
       "  </tbody>\n",
       "</table>\n",
       "</div>"
      ],
      "text/plain": [
       "   klantnr  huidig_contractduur  VERBRUIKGAS VERBRUIKEL  VERBRUIKHOOG  \\\n",
       "0    10135                   12            0       3047             0   \n",
       "1    10150                   12            0          0          3247   \n",
       "2    10159                   12            0       2426             0   \n",
       "3    10193                   36         1616       2092             0   \n",
       "4    10206                   12            0       2787             0   \n",
       "\n",
       "   VERBRUIKLAAG nieuwsbrief wervingskanaal    vast_variabel    grijs_groen  \\\n",
       "0             0           Y         Online      vaste prijs  grijze stroom   \n",
       "1          3257           Y         Online      vaste prijs  grijze stroom   \n",
       "2             0           N         Online      vaste prijs  grijze stroom   \n",
       "3             0           Y        Inbound  variabele prijs  groene stroom   \n",
       "4             0           Y         Online      vaste prijs  groene stroom   \n",
       "\n",
       "  startlevering eindlevering contract_verlengd welstand         levensfase  \\\n",
       "0    11-10-2002    3-11-2004     niet verlengd     Laag       Alleenstaand   \n",
       "1    11-10-2002   11-10-2005     niet verlengd     Hoog  Paar met kinderen   \n",
       "2    11-10-2002     5-1-2007     niet verlengd   Midden  Paar met kinderen   \n",
       "3    17-10-2002    26-3-2012     niet verlengd     Laag  Paar met kinderen   \n",
       "4    11-10-2002     5-2-2009     niet verlengd     Hoog  Paar met kinderen   \n",
       "\n",
       "        bouwjaar soort_woning  \\\n",
       "0  1940 tot 1969    Hoge flat   \n",
       "1  1970 tot 1989  Rijtjeshuis   \n",
       "2      Voor 1899  Rijtjeshuis   \n",
       "3      Voor 1899    Lage flat   \n",
       "4      Voor 1899  Rijtjeshuis   \n",
       "\n",
       "                                             inkomen opleiding  \n",
       "0  tussen modaal en 2 keer modaal keer modaal of ...    Midden  \n",
       "1                                             modaal      Hoog  \n",
       "2                     tussen modaal en 2 keer modaal      Hoog  \n",
       "3                                             modaal      Laag  \n",
       "4                                             modaal    Midden  "
      ]
     },
     "execution_count": 1,
     "metadata": {},
     "output_type": "execute_result"
    }
   ],
   "source": [
    "import pandas as pd\n",
    "df = pd.read_csv('data/EnergyCorp.csv', sep=';')\n",
    "df.head()"
   ]
  },
  {
   "cell_type": "markdown",
   "metadata": {},
   "source": [
    "## Feature Engineering"
   ]
  },
  {
   "cell_type": "code",
   "execution_count": 2,
   "metadata": {},
   "outputs": [
    {
     "data": {
      "text/plain": [
       "<AxesSubplot:>"
      ]
     },
     "execution_count": 2,
     "metadata": {},
     "output_type": "execute_result"
    },
    {
     "data": {
      "image/png": "[encoded data removed]",
      "text/plain": [
       "<Figure size 432x288 with 1 Axes>"
      ]
     },
     "metadata": {
      "needs_background": "light"
     },
     "output_type": "display_data"
    }
   ],
   "source": [
    "df['contract_verlengd'].value_counts().plot(kind='bar')"
   ]
  },
  {
   "cell_type": "code",
   "execution_count": 3,
   "metadata": {},
   "outputs": [
    {
     "data": {
      "text/plain": [
       "0"
      ]
     },
     "execution_count": 3,
     "metadata": {},
     "output_type": "execute_result"
    }
   ],
   "source": [
    "df['contract_verlengd'].isna().sum()"
   ]
  },
  {
   "cell_type": "code",
   "execution_count": 4,
   "metadata": {},
   "outputs": [],
   "source": [
    "def convert_contract_verlengd(contractVerlengd):\n",
    "    if(contractVerlengd == 'verlengd'):\n",
    "        return 0\n",
    "    else:\n",
    "        return 1"
   ]
  },
  {
   "cell_type": "code",
   "execution_count": 5,
   "metadata": {},
   "outputs": [
    {
     "name": "stdout",
     "output_type": "stream",
     "text": [
      "0\n",
      "1\n"
     ]
    }
   ],
   "source": [
    "print(convert_contract_verlengd('verlengd'))\n",
    "print(convert_contract_verlengd('niet verlengd'))"
   ]
  },
  {
   "cell_type": "code",
   "execution_count": 6,
   "metadata": {},
   "outputs": [],
   "source": [
    "df['churned'] = df['contract_verlengd'].apply(convert_contract_verlengd)"
   ]
  },
  {
   "cell_type": "code",
   "execution_count": 7,
   "metadata": {},
   "outputs": [],
   "source": [
    "df['churned'] = df['contract_verlengd'].apply(convert_contract_verlengd)"
   ]
  },
  {
   "cell_type": "code",
   "execution_count": 8,
   "metadata": {},
   "outputs": [
    {
     "data": {
      "text/plain": [
       "0.4110071435758125"
      ]
     },
     "execution_count": 8,
     "metadata": {},
     "output_type": "execute_result"
    }
   ],
   "source": [
    "df['churned'].mean()"
   ]
  },
  {
   "cell_type": "code",
   "execution_count": 9,
   "metadata": {},
   "outputs": [
    {
     "data": {
      "image/png": "[encoded data removed]",
      "text/plain": [
       "<Figure size 360x360 with 1 Axes>"
      ]
     },
     "metadata": {
      "needs_background": "light"
     },
     "output_type": "display_data"
    }
   ],
   "source": [
    "import seaborn as sns\n",
    "sns.catplot(y=\"churned\", x=\"huidig_contractduur\", kind=\"bar\", data=df);"
   ]
  },
  {
   "cell_type": "code",
   "execution_count": 10,
   "metadata": {},
   "outputs": [
    {
     "data": {
      "text/plain": [
       "<seaborn.axisgrid.FacetGrid at 0x2c147c5feb0>"
      ]
     },
     "execution_count": 10,
     "metadata": {},
     "output_type": "execute_result"
    },
    {
     "data": {
      "image/png": "[encoded data removed]",
      "text/plain": [
       "<Figure size 360x360 with 1 Axes>"
      ]
     },
     "metadata": {
      "needs_background": "light"
     },
     "output_type": "display_data"
    }
   ],
   "source": [
    "import seaborn as sns\n",
    "sns.catplot(x=\"churned\", y=\"wervingskanaal\", kind=\"bar\", data=df)"
   ]
  },
  {
   "cell_type": "markdown",
   "metadata": {},
   "source": [
    "Most machine learning algorithms in Python can not handle categorical data directly. We will need to convert categorical data into numeric values. We can do so by creating **dummy variables**."
   ]
  },
  {
   "cell_type": "code",
   "execution_count": 11,
   "metadata": {},
   "outputs": [
    {
     "data": {
      "text/html": [
       "<div>\n",
       "<style scoped>\n",
       "    .dataframe tbody tr th:only-of-type {\n",
       "        vertical-align: middle;\n",
       "    }\n",
       "\n",
       "    .dataframe tbody tr th {\n",
       "        vertical-align: top;\n",
       "    }\n",
       "\n",
       "    .dataframe thead th {\n",
       "        text-align: right;\n",
       "    }\n",
       "</style>\n",
       "<table border=\"1\" class=\"dataframe\">\n",
       "  <thead>\n",
       "    <tr style=\"text-align: right;\">\n",
       "      <th></th>\n",
       "      <th>Door 2 Door</th>\n",
       "      <th>Inbound</th>\n",
       "      <th>Online</th>\n",
       "      <th>Prijsvergelijker</th>\n",
       "      <th>Speciale sales acties</th>\n",
       "      <th>Telemarketing</th>\n",
       "    </tr>\n",
       "  </thead>\n",
       "  <tbody>\n",
       "    <tr>\n",
       "      <th>0</th>\n",
       "      <td>0</td>\n",
       "      <td>0</td>\n",
       "      <td>1</td>\n",
       "      <td>0</td>\n",
       "      <td>0</td>\n",
       "      <td>0</td>\n",
       "    </tr>\n",
       "    <tr>\n",
       "      <th>1</th>\n",
       "      <td>0</td>\n",
       "      <td>0</td>\n",
       "      <td>1</td>\n",
       "      <td>0</td>\n",
       "      <td>0</td>\n",
       "      <td>0</td>\n",
       "    </tr>\n",
       "    <tr>\n",
       "      <th>2</th>\n",
       "      <td>0</td>\n",
       "      <td>0</td>\n",
       "      <td>1</td>\n",
       "      <td>0</td>\n",
       "      <td>0</td>\n",
       "      <td>0</td>\n",
       "    </tr>\n",
       "    <tr>\n",
       "      <th>3</th>\n",
       "      <td>0</td>\n",
       "      <td>1</td>\n",
       "      <td>0</td>\n",
       "      <td>0</td>\n",
       "      <td>0</td>\n",
       "      <td>0</td>\n",
       "    </tr>\n",
       "    <tr>\n",
       "      <th>4</th>\n",
       "      <td>0</td>\n",
       "      <td>0</td>\n",
       "      <td>1</td>\n",
       "      <td>0</td>\n",
       "      <td>0</td>\n",
       "      <td>0</td>\n",
       "    </tr>\n",
       "  </tbody>\n",
       "</table>\n",
       "</div>"
      ],
      "text/plain": [
       "   Door 2 Door  Inbound  Online  Prijsvergelijker  Speciale sales acties  \\\n",
       "0            0        0       1                 0                      0   \n",
       "1            0        0       1                 0                      0   \n",
       "2            0        0       1                 0                      0   \n",
       "3            0        1       0                 0                      0   \n",
       "4            0        0       1                 0                      0   \n",
       "\n",
       "   Telemarketing  \n",
       "0              0  \n",
       "1              0  \n",
       "2              0  \n",
       "3              0  \n",
       "4              0  "
      ]
     },
     "execution_count": 11,
     "metadata": {},
     "output_type": "execute_result"
    }
   ],
   "source": [
    "wervingskanaal_dummies = pd.get_dummies(df['wervingskanaal'])\n",
    "wervingskanaal_dummies.head()"
   ]
  },
  {
   "cell_type": "code",
   "execution_count": 12,
   "metadata": {},
   "outputs": [
    {
     "data": {
      "text/plain": [
       "<seaborn.axisgrid.FacetGrid at 0x2c148e43580>"
      ]
     },
     "execution_count": 12,
     "metadata": {},
     "output_type": "execute_result"
    },
    {
     "data": {
      "image/png": "[encoded data removed]",
      "text/plain": [
       "<Figure size 360x360 with 1 Axes>"
      ]
     },
     "metadata": {
      "needs_background": "light"
     },
     "output_type": "display_data"
    }
   ],
   "source": [
    "import seaborn as sns\n",
    "sns.catplot(x=\"churned\", y=\"vast_variabel\", kind=\"bar\", data=df)"
   ]
  },
  {
   "cell_type": "code",
   "execution_count": 13,
   "metadata": {},
   "outputs": [
    {
     "data": {
      "text/plain": [
       "<seaborn.axisgrid.FacetGrid at 0x2c148ebfeb0>"
      ]
     },
     "execution_count": 13,
     "metadata": {},
     "output_type": "execute_result"
    },
    {
     "data": {
      "image/png": "[encoded data removed]",
      "text/plain": [
       "<Figure size 360x360 with 1 Axes>"
      ]
     },
     "metadata": {
      "needs_background": "light"
     },
     "output_type": "display_data"
    }
   ],
   "source": [
    "import seaborn as sns\n",
    "sns.catplot(x=\"churned\", y=\"grijs_groen\", kind=\"bar\", data=df)"
   ]
  },
  {
   "cell_type": "code",
   "execution_count": 14,
   "metadata": {},
   "outputs": [],
   "source": [
    "df_prepped = df.join(wervingskanaal_dummies)\n",
    "df_prepped['vaste_prijs'] = df['vast_variabel'] == 'vaste prijs'\n",
    "df_prepped['groene_stroom'] = df['grijs_groen'] == 'groene stroom'"
   ]
  },
  {
   "cell_type": "code",
   "execution_count": 15,
   "metadata": {},
   "outputs": [
    {
     "data": {
      "text/html": [
       "<div>\n",
       "<style scoped>\n",
       "    .dataframe tbody tr th:only-of-type {\n",
       "        vertical-align: middle;\n",
       "    }\n",
       "\n",
       "    .dataframe tbody tr th {\n",
       "        vertical-align: top;\n",
       "    }\n",
       "\n",
       "    .dataframe thead th {\n",
       "        text-align: right;\n",
       "    }\n",
       "</style>\n",
       "<table border=\"1\" class=\"dataframe\">\n",
       "  <thead>\n",
       "    <tr style=\"text-align: right;\">\n",
       "      <th></th>\n",
       "      <th>klantnr</th>\n",
       "      <th>huidig_contractduur</th>\n",
       "      <th>VERBRUIKGAS</th>\n",
       "      <th>VERBRUIKEL</th>\n",
       "      <th>VERBRUIKHOOG</th>\n",
       "      <th>VERBRUIKLAAG</th>\n",
       "      <th>nieuwsbrief</th>\n",
       "      <th>wervingskanaal</th>\n",
       "      <th>vast_variabel</th>\n",
       "      <th>grijs_groen</th>\n",
       "      <th>...</th>\n",
       "      <th>opleiding</th>\n",
       "      <th>churned</th>\n",
       "      <th>Door 2 Door</th>\n",
       "      <th>Inbound</th>\n",
       "      <th>Online</th>\n",
       "      <th>Prijsvergelijker</th>\n",
       "      <th>Speciale sales acties</th>\n",
       "      <th>Telemarketing</th>\n",
       "      <th>vaste_prijs</th>\n",
       "      <th>groene_stroom</th>\n",
       "    </tr>\n",
       "  </thead>\n",
       "  <tbody>\n",
       "    <tr>\n",
       "      <th>0</th>\n",
       "      <td>10135</td>\n",
       "      <td>12</td>\n",
       "      <td>0</td>\n",
       "      <td>3047</td>\n",
       "      <td>0</td>\n",
       "      <td>0</td>\n",
       "      <td>Y</td>\n",
       "      <td>Online</td>\n",
       "      <td>vaste prijs</td>\n",
       "      <td>grijze stroom</td>\n",
       "      <td>...</td>\n",
       "      <td>Midden</td>\n",
       "      <td>1</td>\n",
       "      <td>0</td>\n",
       "      <td>0</td>\n",
       "      <td>1</td>\n",
       "      <td>0</td>\n",
       "      <td>0</td>\n",
       "      <td>0</td>\n",
       "      <td>True</td>\n",
       "      <td>False</td>\n",
       "    </tr>\n",
       "    <tr>\n",
       "      <th>1</th>\n",
       "      <td>10150</td>\n",
       "      <td>12</td>\n",
       "      <td>0</td>\n",
       "      <td>0</td>\n",
       "      <td>3247</td>\n",
       "      <td>3257</td>\n",
       "      <td>Y</td>\n",
       "      <td>Online</td>\n",
       "      <td>vaste prijs</td>\n",
       "      <td>grijze stroom</td>\n",
       "      <td>...</td>\n",
       "      <td>Hoog</td>\n",
       "      <td>1</td>\n",
       "      <td>0</td>\n",
       "      <td>0</td>\n",
       "      <td>1</td>\n",
       "      <td>0</td>\n",
       "      <td>0</td>\n",
       "      <td>0</td>\n",
       "      <td>True</td>\n",
       "      <td>False</td>\n",
       "    </tr>\n",
       "    <tr>\n",
       "      <th>2</th>\n",
       "      <td>10159</td>\n",
       "      <td>12</td>\n",
       "      <td>0</td>\n",
       "      <td>2426</td>\n",
       "      <td>0</td>\n",
       "      <td>0</td>\n",
       "      <td>N</td>\n",
       "      <td>Online</td>\n",
       "      <td>vaste prijs</td>\n",
       "      <td>grijze stroom</td>\n",
       "      <td>...</td>\n",
       "      <td>Hoog</td>\n",
       "      <td>1</td>\n",
       "      <td>0</td>\n",
       "      <td>0</td>\n",
       "      <td>1</td>\n",
       "      <td>0</td>\n",
       "      <td>0</td>\n",
       "      <td>0</td>\n",
       "      <td>True</td>\n",
       "      <td>False</td>\n",
       "    </tr>\n",
       "    <tr>\n",
       "      <th>3</th>\n",
       "      <td>10193</td>\n",
       "      <td>36</td>\n",
       "      <td>1616</td>\n",
       "      <td>2092</td>\n",
       "      <td>0</td>\n",
       "      <td>0</td>\n",
       "      <td>Y</td>\n",
       "      <td>Inbound</td>\n",
       "      <td>variabele prijs</td>\n",
       "      <td>groene stroom</td>\n",
       "      <td>...</td>\n",
       "      <td>Laag</td>\n",
       "      <td>1</td>\n",
       "      <td>0</td>\n",
       "      <td>1</td>\n",
       "      <td>0</td>\n",
       "      <td>0</td>\n",
       "      <td>0</td>\n",
       "      <td>0</td>\n",
       "      <td>False</td>\n",
       "      <td>True</td>\n",
       "    </tr>\n",
       "    <tr>\n",
       "      <th>4</th>\n",
       "      <td>10206</td>\n",
       "      <td>12</td>\n",
       "      <td>0</td>\n",
       "      <td>2787</td>\n",
       "      <td>0</td>\n",
       "      <td>0</td>\n",
       "      <td>Y</td>\n",
       "      <td>Online</td>\n",
       "      <td>vaste prijs</td>\n",
       "      <td>groene stroom</td>\n",
       "      <td>...</td>\n",
       "      <td>Midden</td>\n",
       "      <td>1</td>\n",
       "      <td>0</td>\n",
       "      <td>0</td>\n",
       "      <td>1</td>\n",
       "      <td>0</td>\n",
       "      <td>0</td>\n",
       "      <td>0</td>\n",
       "      <td>True</td>\n",
       "      <td>True</td>\n",
       "    </tr>\n",
       "  </tbody>\n",
       "</table>\n",
       "<p>5 rows × 28 columns</p>\n",
       "</div>"
      ],
      "text/plain": [
       "   klantnr  huidig_contractduur  VERBRUIKGAS VERBRUIKEL  VERBRUIKHOOG  \\\n",
       "0    10135                   12            0       3047             0   \n",
       "1    10150                   12            0          0          3247   \n",
       "2    10159                   12            0       2426             0   \n",
       "3    10193                   36         1616       2092             0   \n",
       "4    10206                   12            0       2787             0   \n",
       "\n",
       "   VERBRUIKLAAG nieuwsbrief wervingskanaal    vast_variabel    grijs_groen  \\\n",
       "0             0           Y         Online      vaste prijs  grijze stroom   \n",
       "1          3257           Y         Online      vaste prijs  grijze stroom   \n",
       "2             0           N         Online      vaste prijs  grijze stroom   \n",
       "3             0           Y        Inbound  variabele prijs  groene stroom   \n",
       "4             0           Y         Online      vaste prijs  groene stroom   \n",
       "\n",
       "   ... opleiding churned Door 2 Door Inbound Online Prijsvergelijker  \\\n",
       "0  ...    Midden       1           0       0      1                0   \n",
       "1  ...      Hoog       1           0       0      1                0   \n",
       "2  ...      Hoog       1           0       0      1                0   \n",
       "3  ...      Laag       1           0       1      0                0   \n",
       "4  ...    Midden       1           0       0      1                0   \n",
       "\n",
       "  Speciale sales acties Telemarketing vaste_prijs  groene_stroom  \n",
       "0                     0             0        True          False  \n",
       "1                     0             0        True          False  \n",
       "2                     0             0        True          False  \n",
       "3                     0             0       False           True  \n",
       "4                     0             0        True           True  \n",
       "\n",
       "[5 rows x 28 columns]"
      ]
     },
     "execution_count": 15,
     "metadata": {},
     "output_type": "execute_result"
    }
   ],
   "source": [
    "df_prepped.head()"
   ]
  },
  {
   "cell_type": "markdown",
   "metadata": {},
   "source": [
    "## Regression or classification?\n",
    "### Regression\n",
    "When the target variable is a numerical variable then we refer to this task as a regression task.\n",
    "\n",
    "Examples of regression tasks:\n",
    "- Predict the price people are willing to pay for a house.\n",
    "- Predict the salary a student will earn in the future.\n",
    "\n",
    "Examples of machine learning algorithms that we could use for regression:\n",
    "- Decision trees\n",
    "- Random forests\n",
    "- Linear regression\n",
    "- Neural networks\n",
    "\n",
    "### Classification\n",
    "When the target variable is a categorical variable then we refer to this task as a classification task.\n",
    "\n",
    "Examples of classification tasks:\n",
    "- Predict if a customer will churn. \n",
    "- Predict if a customer will use a specific product.\n",
    "- Label mails as spam.\n",
    "- Label financial transactions as fraudulent.\n",
    "- Label a social media message as positive, neutral or negative.\n",
    "- Predict if a customer of the bank will be able to pay back the loan.\n",
    "\n",
    "Examples of machine learning algorithms that we could use for classification:\n",
    "- Decision trees\n",
    "- Random forests\n",
    "- Logistic regression\n",
    "- Neural networks\n",
    "- Naive bayes"
   ]
  },
  {
   "cell_type": "markdown",
   "metadata": {},
   "source": [
    "## Training and Testing\n",
    "\n",
    "We not only have to train our decision tree model, we should also verify that it works. However, we just have one dataset available to us...\n",
    "\n",
    "With this verification we make sure that we don't **overfit** the model. We could learn to output exactly the right answer of our data set, but we might not get any new data correct. We'll dive into this deeper later in the notebook. The [wikipedia](https://en.wikipedia.org/wiki/Overfitting) page on overfitting is also a good resource to learn more on overfitting.\n",
    "\n",
    "A standard solution to this problem is dividing up the data you have available into a **training set** and a **test set**. We train the model on the training set and verify that we didn't overfit on the test set. \n",
    "\n",
    "Let's split our data set!"
   ]
  },
  {
   "cell_type": "code",
   "execution_count": 16,
   "metadata": {},
   "outputs": [],
   "source": [
    "from sklearn.model_selection import train_test_split"
   ]
  },
  {
   "cell_type": "code",
   "execution_count": 17,
   "metadata": {},
   "outputs": [
    {
     "name": "stdout",
     "output_type": "stream",
     "text": [
      "(6957, 28) (2982, 28)\n"
     ]
    }
   ],
   "source": [
    "df_train, df_test = train_test_split(df_prepped, test_size=0.3, stratify=df['churned'], random_state=42)\n",
    "print(df_train.shape, df_test.shape)"
   ]
  },
  {
   "cell_type": "code",
   "execution_count": 18,
   "metadata": {},
   "outputs": [
    {
     "name": "stdout",
     "output_type": "stream",
     "text": [
      "0.41095299698145754\n",
      "0.41113346747149565\n"
     ]
    }
   ],
   "source": [
    "print(df_train['churned'].mean())\n",
    "print(df_test['churned'].mean())"
   ]
  },
  {
   "cell_type": "markdown",
   "metadata": {},
   "source": [
    "## Evaluation\n",
    "One very important step in your data science flow is to choose an appropriate evaluation metric for your problem.\n",
    "\n",
    "Regression\n",
    "- Root Mean Squared Error (RMSE)\n",
    "- Mean Absolute Error (MAE)\n",
    "- Mean Absolute Percentage Error (MAPE)\n",
    "- ..."
   ]
  },
  {
   "cell_type": "markdown",
   "metadata": {},
   "source": [
    "![](https://miro.medium.com/max/966/1*lqDsPkfXPGen32Uem1PTNg.png \"RMSE\")"
   ]
  },
  {
   "cell_type": "markdown",
   "metadata": {},
   "source": [
    "Classification\n",
    "- True positive rate & False positive rate\n",
    "- Area under the ROC curve (AUROC)\n",
    "-  ...\n",
    "\n",
    "**Avoid ussing accuracy as your evaluation metric**. Accuracy does not distinguish between type 1 and type 2 error.\n",
    "![](https://mk0abtastybwtpirqi5t.kinstacdn.com/wp-content/uploads/type-1-2-errors.png)\n",
    "This results in the following two important downsides:\n",
    "- Accuracy alone doesn't provide you with any insight about whether your model has learned anything and whether it is useful. For example let's say that we want to predict whether a person has COVID and let's say that 0.1% of the population has COVID. If we use a trivial model that always predicts that a person does not have COVID then that model has an accuracy of 99.9%.\n",
    "- In many cases a type 1 error and type 2 error have different severities. For example compare the impact of labeling a person with COVID incorrectly as healthy to the impact of labeling a healthy person incorrectly as having COVID."
   ]
  },
  {
   "cell_type": "code",
   "execution_count": 19,
   "metadata": {},
   "outputs": [],
   "source": [
    "def plot_auroc(truth, predictions):\n",
    "    fpr, tpr, threshold = metrics.roc_curve(truth, predictions)\n",
    "    roc_auc = metrics.auc(fpr, tpr)\n",
    "\n",
    "    # method I: plt\n",
    "    import matplotlib.pyplot as plt\n",
    "    plt.title('Receiver Operating Characteristic')\n",
    "    plt.gca().spines['top'].set_visible(False)\n",
    "    plt.gca().spines['right'].set_visible(False)\n",
    "    plt.plot(fpr, tpr, 'b', label = 'AUC = %0.2f' % roc_auc)\n",
    "    plt.legend(loc = 'lower right')\n",
    "    plt.plot([0, 1], [0, 1],'r--')\n",
    "    plt.xlim([0, 1])\n",
    "    plt.ylim([0, 1])\n",
    "    plt.ylabel('True Positive Rate')\n",
    "    plt.xlabel('False Positive Rate')\n",
    "    plt.show()"
   ]
  },
  {
   "cell_type": "code",
   "execution_count": 20,
   "metadata": {},
   "outputs": [],
   "source": [
    "alwaysChurn = pd.Series([1]).repeat(len(df_test))\n",
    "neverChurn = pd.Series([0]).repeat(len(df_test))\n",
    "meanChurn = pd.Series(df_test['churned'].mean()).repeat(len(df_test))"
   ]
  },
  {
   "cell_type": "code",
   "execution_count": 21,
   "metadata": {},
   "outputs": [
    {
     "name": "stdout",
     "output_type": "stream",
     "text": [
      "fpr: [0. 1.]\n",
      "tpr: [0. 1.]\n",
      "AUC: 0.5\n"
     ]
    }
   ],
   "source": [
    "import numpy as np\n",
    "from sklearn import metrics\n",
    "\n",
    "# Assuming you have your true labels (ground truth) and predicted probabilities\n",
    "truth = df_test['churned']  # True labels (0 for negative, 1 for positive)\n",
    "prediction = alwaysChurn  # Predicted probabilities of belonging to the positive class\n",
    "\n",
    "# Calculate the AUC using the formula\n",
    "fpr, tpr, thresholds = metrics.roc_curve(truth, prediction, pos_label=1)\n",
    "auc_score = 0.0\n",
    "\n",
    "# Using the trapezoidal rule to calculate AUC\n",
    "for i in range(1, len(fpr)):\n",
    "    auc_score += abs((tpr[i] + tpr[i - 1]) * (fpr[i - 1] - fpr[i])) / 2\n",
    "\n",
    "\n",
    "print(\"fpr:\", fpr)\n",
    "print(\"tpr:\", tpr)\n",
    "print(\"AUC:\", abs(auc_score))\n"
   ]
  },
  {
   "cell_type": "code",
   "execution_count": 22,
   "metadata": {},
   "outputs": [],
   "source": [
    "def compute_auroc(truth, prediction):\n",
    "    fpr, tpr, thresholds = metrics.roc_curve(truth, prediction, pos_label=1)\n",
    "    return metrics.auc(fpr, tpr)"
   ]
  },
  {
   "cell_type": "code",
   "execution_count": 23,
   "metadata": {},
   "outputs": [
    {
     "name": "stdout",
     "output_type": "stream",
     "text": [
      "1.0\n"
     ]
    },
    {
     "data": {
      "image/png": "[encoded data removed]",
      "text/plain": [
       "<Figure size 432x288 with 1 Axes>"
      ]
     },
     "metadata": {
      "needs_background": "light"
     },
     "output_type": "display_data"
    },
    {
     "name": "stdout",
     "output_type": "stream",
     "text": [
      "0.5\n"
     ]
    },
    {
     "data": {
      "image/png": "[encoded data removed]",
      "text/plain": [
       "<Figure size 432x288 with 1 Axes>"
      ]
     },
     "metadata": {
      "needs_background": "light"
     },
     "output_type": "display_data"
    },
    {
     "name": "stdout",
     "output_type": "stream",
     "text": [
      "0.5\n"
     ]
    },
    {
     "data": {
      "image/png": "[encoded data removed]",
      "text/plain": [
       "<Figure size 432x288 with 1 Axes>"
      ]
     },
     "metadata": {
      "needs_background": "light"
     },
     "output_type": "display_data"
    },
    {
     "name": "stdout",
     "output_type": "stream",
     "text": [
      "0.5\n"
     ]
    },
    {
     "data": {
      "image/png": "[encoded data removed]",
      "text/plain": [
       "<Figure size 432x288 with 1 Axes>"
      ]
     },
     "metadata": {
      "needs_background": "light"
     },
     "output_type": "display_data"
    }
   ],
   "source": [
    "print(compute_auroc(df_test['churned'], df_test['churned']))\n",
    "plot_auroc(df_test['churned'], df_test['churned'])\n",
    "print(compute_auroc(df_test['churned'], alwaysChurn )) # Auroc if we always predict churn\n",
    "plot_auroc(df_test['churned'], alwaysChurn )\n",
    "print(compute_auroc(df_test['churned'], neverChurn)) # Auroc if we never predict churn\n",
    "plot_auroc(df_test['churned'], neverChurn)\n",
    "print(compute_auroc(df_test['churned'], meanChurn)) # Auroc if we predict the mean as probability of churning\n",
    "plot_auroc(df_test['churned'], meanChurn)"
   ]
  },
  {
   "cell_type": "markdown",
   "metadata": {},
   "source": [
    "The blue line means that the **proportion** of **correctly** classified churned samples is the same as the **proportion** of **incorrectly** classified samples which are not churned. \n",
    "https://youtu.be/4jRBRDbJemM?feature=shared&t=244\n"
   ]
  },
  {
   "cell_type": "markdown",
   "metadata": {},
   "source": [
    "## Decision trees"
   ]
  },
  {
   "cell_type": "markdown",
   "metadata": {},
   "source": [
    "One way to understand decision trees is by first manually creating a decision tree ourselves."
   ]
  },
  {
   "cell_type": "code",
   "execution_count": 24,
   "metadata": {},
   "outputs": [
    {
     "data": {
      "text/plain": [
       "huidig_contractduur\n",
       "12    0.504228\n",
       "24    0.686469\n",
       "36    0.388289\n",
       "60    0.000000\n",
       "99    0.000000\n",
       "Name: churned, dtype: float64"
      ]
     },
     "execution_count": 24,
     "metadata": {},
     "output_type": "execute_result"
    }
   ],
   "source": [
    "df_train.groupby(\"huidig_contractduur\")['churned'].mean()"
   ]
  },
  {
   "cell_type": "code",
   "execution_count": 25,
   "metadata": {},
   "outputs": [],
   "source": [
    "def model1(row):\n",
    "    if row.huidig_contractduur == 12:\n",
    "        return 0.504228\n",
    "    elif row.huidig_contractduur == 24:\n",
    "        return 0.686469\n",
    "    elif row.huidig_contractduur == 36:\n",
    "        return 0.388289\n",
    "    elif row.huidig_contractduur >=60:\n",
    "        return 0\n",
    "    else:\n",
    "        return 0.410952 # Mean value across the whole dataset."
   ]
  },
  {
   "cell_type": "code",
   "execution_count": 26,
   "metadata": {},
   "outputs": [
    {
     "data": {
      "text/plain": [
       "9098    0.504228\n",
       "6899    0.504228\n",
       "6961    0.504228\n",
       "4411    0.388289\n",
       "6574    0.504228\n",
       "dtype: float64"
      ]
     },
     "execution_count": 26,
     "metadata": {},
     "output_type": "execute_result"
    }
   ],
   "source": [
    "predictions1 = df_test.apply(model1, axis=1)\n",
    "predictions1.head()"
   ]
  },
  {
   "cell_type": "code",
   "execution_count": 27,
   "metadata": {},
   "outputs": [
    {
     "data": {
      "text/plain": [
       "0.504228    1664\n",
       "0.388289     755\n",
       "0.000000     442\n",
       "0.686469     121\n",
       "dtype: int64"
      ]
     },
     "execution_count": 27,
     "metadata": {},
     "output_type": "execute_result"
    }
   ],
   "source": [
    "predictions1.value_counts()"
   ]
  },
  {
   "cell_type": "code",
   "execution_count": 28,
   "metadata": {},
   "outputs": [
    {
     "data": {
      "image/png": "[encoded data removed]",
      "text/plain": [
       "<Figure size 432x288 with 1 Axes>"
      ]
     },
     "metadata": {
      "needs_background": "light"
     },
     "output_type": "display_data"
    },
    {
     "data": {
      "text/plain": [
       "0.6746380157335186"
      ]
     },
     "execution_count": 28,
     "metadata": {},
     "output_type": "execute_result"
    }
   ],
   "source": [
    "plot_auroc(df_test['churned'], predictions1)\n",
    "compute_auroc(df_test['churned'], predictions1)"
   ]
  },
  {
   "cell_type": "markdown",
   "metadata": {},
   "source": [
    "The AUC represents the degree or measure of separability. It tells how much the model is capable of distinguishing between classes.\n",
    "\n",
    "An AUC of 0.67 would actually mean that lets say we take two data points belonging to separate classes then there is 67% chance model would be able to segregate them or rank order them correctly i.e positive point has a higher prediction probability than the negative class. AUC measures how well a model is able to distinguish between classes"
   ]
  },
  {
   "cell_type": "markdown",
   "metadata": {},
   "source": [
    "Let's use the sklearn package:"
   ]
  },
  {
   "cell_type": "code",
   "execution_count": 29,
   "metadata": {},
   "outputs": [],
   "source": [
    "featuresModel1 = ['huidig_contractduur'] "
   ]
  },
  {
   "cell_type": "code",
   "execution_count": 30,
   "metadata": {},
   "outputs": [
    {
     "data": {
      "text/plain": [
       "DecisionTreeClassifier(max_depth=5)"
      ]
     },
     "execution_count": 30,
     "metadata": {},
     "output_type": "execute_result"
    }
   ],
   "source": [
    "from sklearn.tree import DecisionTreeClassifier\n",
    "dt = DecisionTreeClassifier(max_depth=5)\n",
    "dt.fit(df_train[featuresModel1], df_train['churned'])"
   ]
  },
  {
   "cell_type": "code",
   "execution_count": 31,
   "metadata": {},
   "outputs": [],
   "source": [
    "def apply_model(model, features, validation_function = compute_auroc, print_to_screen = True, show_auroc = False):\n",
    "    pred_tree_train = model.predict_proba(df_train[features])\n",
    "    pred_tree_test = model.predict_proba(df_test[features])\n",
    "    \n",
    "    pred_churn_tree_train = pd.Series(map(lambda x: x[1], pred_tree_train))\n",
    "    pred_churn_tree_test = pd.Series(map(lambda x: x[1], pred_tree_test))\n",
    "    \n",
    "    validation_result_train = validation_function(df_train['churned'], pred_churn_tree_train) \n",
    "    validation_result_test = validation_function(df_test['churned'], pred_churn_tree_test)\n",
    "    \n",
    "    if(print_to_screen):\n",
    "        print( \"Result on trainset:\" )\n",
    "        print( validation_result_train )\n",
    "        print()\n",
    "        print( \"Result on testset:\" )\n",
    "        print( validation_result_test )\n",
    "    if(show_auroc):\n",
    "        plot_auroc(df_test['churned'], pred_churn_tree_test)\n",
    "    \n",
    "    return (validation_result_train, validation_result_test)"
   ]
  },
  {
   "cell_type": "code",
   "execution_count": 32,
   "metadata": {},
   "outputs": [
    {
     "name": "stdout",
     "output_type": "stream",
     "text": [
      "Result on trainset:\n",
      "0.670982919179644\n",
      "\n",
      "Result on testset:\n",
      "0.6746380157335186\n"
     ]
    },
    {
     "data": {
      "image/png": "[encoded data removed]",
      "text/plain": [
       "<Figure size 432x288 with 1 Axes>"
      ]
     },
     "metadata": {
      "needs_background": "light"
     },
     "output_type": "display_data"
    },
    {
     "data": {
      "text/plain": [
       "(0.670982919179644, 0.6746380157335186)"
      ]
     },
     "execution_count": 32,
     "metadata": {},
     "output_type": "execute_result"
    }
   ],
   "source": [
    "apply_model(dt, featuresModel1, show_auroc=True)"
   ]
  },
  {
   "cell_type": "code",
   "execution_count": 33,
   "metadata": {},
   "outputs": [
    {
     "data": {
      "image/png": "[encoded data removed]",
      "text/plain": [
       "<Figure size 1440x864 with 1 Axes>"
      ]
     },
     "metadata": {
      "needs_background": "light"
     },
     "output_type": "display_data"
    }
   ],
   "source": [
    "import matplotlib.pyplot as plt\n",
    "from sklearn.tree import plot_tree\n",
    "plt.figure(figsize=(20,12))\n",
    "plot_tree(dt)\n",
    "plt.show()"
   ]
  },
  {
   "cell_type": "markdown",
   "metadata": {},
   "source": [
    "We can also make a much prettier version! If you want to do this you'll need to install Graphviz. It can be installed through Anaconda with \n",
    "`conda install -c anaconda graphviz`  \n",
    "`conda install -c anaconda python-graphviz`  \n",
    "`conda install -c anaconda pydot`  \n",
    "in the Anaconda prompt. If the code below still does not work, install from here: (https://graphviz.org/download/).\n",
    "\n",
    "The code below plots the tree, but with column names instead of indices. You can also see what the prediction will be at each **leaf** (lowest nodes on the tree).\n",
    "In this way you can really understand what the model has learned about the data set!\n",
    "\n",
    "(It also stores a pdf with the full tree in the same directory as the notebook, called 'decision_tree.pdf'.)"
   ]
  },
  {
   "cell_type": "code",
   "execution_count": 34,
   "metadata": {},
   "outputs": [],
   "source": [
    "from sklearn import tree\n",
    "import graphviz\n",
    "\n",
    "def plot_tree(model, features):\n",
    "    # Generate plot data\n",
    "    dot_data = tree.export_graphviz(model, out_file=None, \n",
    "                          feature_names=features,  \n",
    "                          class_names=['churned', 'not churned'],  \n",
    "                          filled=True, rounded=True,  \n",
    "                          special_characters=True)  \n",
    "\n",
    "    # Turn into graph using graphviz\n",
    "    graph = graphviz.Source(dot_data)  \n",
    "\n",
    "    # Write out a pdf\n",
    "    graph.render(\"decision_tree\")\n",
    "\n",
    "    # Display in the notebook\n",
    "    return graph "
   ]
  },
  {
   "cell_type": "code",
   "execution_count": 35,
   "metadata": {},
   "outputs": [
    {
     "data": {
      "image/svg+xml": [
       "<?xml version=\"1.0\" encoding=\"UTF-8\" standalone=\"no\"?>\n",
       "<!DOCTYPE svg PUBLIC \"-//W3C//DTD SVG 1.1//EN\"\n",
       " \"http://www.w3.org/Graphics/SVG/1.1/DTD/svg11.dtd\">\n",
       "<!-- Generated by graphviz version 2.50.0 (0)\n",
       " -->\n",
       "<!-- Title: Tree Pages: 1 -->\n",
       "<svg width=\"459pt\" height=\"433pt\"\n",
       " viewBox=\"0.00 0.00 459.00 433.00\" xmlns=\"http://www.w3.org/2000/svg\" xmlns:xlink=\"http://www.w3.org/1999/xlink\">\n",
       "<g id=\"graph0\" class=\"graph\" transform=\"scale(1 1) rotate(0) translate(4 429)\">\n",
       "<title>Tree</title>\n",
       "<polygon fill=\"white\" stroke=\"transparent\" points=\"-4,4 -4,-429 455,-429 455,4 -4,4\"/>\n",
       "<!-- 0 -->\n",
       "<g id=\"node1\" class=\"node\">\n",
       "<title>0</title>\n",
       "<path fill=\"#f7d9c3\" stroke=\"black\" d=\"M390,-425C390,-425 238,-425 238,-425 232,-425 226,-419 226,-413 226,-413 226,-354 226,-354 226,-348 232,-342 238,-342 238,-342 390,-342 390,-342 396,-342 402,-348 402,-354 402,-354 402,-413 402,-413 402,-419 396,-425 390,-425\"/>\n",
       "<text text-anchor=\"start\" x=\"234\" y=\"-409.8\" font-family=\"Helvetica,sans-Serif\" font-size=\"14.00\">huidig_contractduur ≤ 48.0</text>\n",
       "<text text-anchor=\"start\" x=\"278.5\" y=\"-394.8\" font-family=\"Helvetica,sans-Serif\" font-size=\"14.00\">gini = 0.484</text>\n",
       "<text text-anchor=\"start\" x=\"265.5\" y=\"-379.8\" font-family=\"Helvetica,sans-Serif\" font-size=\"14.00\">samples = 6957</text>\n",
       "<text text-anchor=\"start\" x=\"252\" y=\"-364.8\" font-family=\"Helvetica,sans-Serif\" font-size=\"14.00\">value = [4098, 2859]</text>\n",
       "<text text-anchor=\"start\" x=\"266\" y=\"-349.8\" font-family=\"Helvetica,sans-Serif\" font-size=\"14.00\">class = churned</text>\n",
       "</g>\n",
       "<!-- 1 -->\n",
       "<g id=\"node2\" class=\"node\">\n",
       "<title>1</title>\n",
       "<path fill=\"#fdf5ef\" stroke=\"black\" d=\"M309,-306C309,-306 157,-306 157,-306 151,-306 145,-300 145,-294 145,-294 145,-235 145,-235 145,-229 151,-223 157,-223 157,-223 309,-223 309,-223 315,-223 321,-229 321,-235 321,-235 321,-294 321,-294 321,-300 315,-306 309,-306\"/>\n",
       "<text text-anchor=\"start\" x=\"153\" y=\"-290.8\" font-family=\"Helvetica,sans-Serif\" font-size=\"14.00\">huidig_contractduur ≤ 30.0</text>\n",
       "<text text-anchor=\"start\" x=\"197.5\" y=\"-275.8\" font-family=\"Helvetica,sans-Serif\" font-size=\"14.00\">gini = 0.499</text>\n",
       "<text text-anchor=\"start\" x=\"184.5\" y=\"-260.8\" font-family=\"Helvetica,sans-Serif\" font-size=\"14.00\">samples = 5965</text>\n",
       "<text text-anchor=\"start\" x=\"171\" y=\"-245.8\" font-family=\"Helvetica,sans-Serif\" font-size=\"14.00\">value = [3106, 2859]</text>\n",
       "<text text-anchor=\"start\" x=\"185\" y=\"-230.8\" font-family=\"Helvetica,sans-Serif\" font-size=\"14.00\">class = churned</text>\n",
       "</g>\n",
       "<!-- 0&#45;&gt;1 -->\n",
       "<g id=\"edge1\" class=\"edge\">\n",
       "<title>0&#45;&gt;1</title>\n",
       "<path fill=\"none\" stroke=\"black\" d=\"M285.9,-341.91C279.74,-333.01 273.16,-323.51 266.81,-314.33\"/>\n",
       "<polygon fill=\"black\" stroke=\"black\" points=\"269.62,-312.25 261.05,-306.02 263.87,-316.24 269.62,-312.25\"/>\n",
       "<text text-anchor=\"middle\" x=\"256.58\" y=\"-326.92\" font-family=\"Helvetica,sans-Serif\" font-size=\"14.00\">True</text>\n",
       "</g>\n",
       "<!-- 6 -->\n",
       "<g id=\"node7\" class=\"node\">\n",
       "<title>6</title>\n",
       "<path fill=\"#e58139\" stroke=\"black\" d=\"M439,-298.5C439,-298.5 351,-298.5 351,-298.5 345,-298.5 339,-292.5 339,-286.5 339,-286.5 339,-242.5 339,-242.5 339,-236.5 345,-230.5 351,-230.5 351,-230.5 439,-230.5 439,-230.5 445,-230.5 451,-236.5 451,-242.5 451,-242.5 451,-286.5 451,-286.5 451,-292.5 445,-298.5 439,-298.5\"/>\n",
       "<text text-anchor=\"start\" x=\"367\" y=\"-283.3\" font-family=\"Helvetica,sans-Serif\" font-size=\"14.00\">gini = 0.0</text>\n",
       "<text text-anchor=\"start\" x=\"350\" y=\"-268.3\" font-family=\"Helvetica,sans-Serif\" font-size=\"14.00\">samples = 992</text>\n",
       "<text text-anchor=\"start\" x=\"348\" y=\"-253.3\" font-family=\"Helvetica,sans-Serif\" font-size=\"14.00\">value = [992, 0]</text>\n",
       "<text text-anchor=\"start\" x=\"347\" y=\"-238.3\" font-family=\"Helvetica,sans-Serif\" font-size=\"14.00\">class = churned</text>\n",
       "</g>\n",
       "<!-- 0&#45;&gt;6 -->\n",
       "<g id=\"edge6\" class=\"edge\">\n",
       "<title>0&#45;&gt;6</title>\n",
       "<path fill=\"none\" stroke=\"black\" d=\"M342.1,-341.91C349.89,-330.65 358.36,-318.42 366.2,-307.11\"/>\n",
       "<polygon fill=\"black\" stroke=\"black\" points=\"369.22,-308.88 372.04,-298.67 363.47,-304.9 369.22,-308.88\"/>\n",
       "<text text-anchor=\"middle\" x=\"376.51\" y=\"-319.56\" font-family=\"Helvetica,sans-Serif\" font-size=\"14.00\">False</text>\n",
       "</g>\n",
       "<!-- 2 -->\n",
       "<g id=\"node3\" class=\"node\">\n",
       "<title>2</title>\n",
       "<path fill=\"#f2f8fd\" stroke=\"black\" d=\"M223,-187C223,-187 71,-187 71,-187 65,-187 59,-181 59,-175 59,-175 59,-116 59,-116 59,-110 65,-104 71,-104 71,-104 223,-104 223,-104 229,-104 235,-110 235,-116 235,-116 235,-175 235,-175 235,-181 229,-187 223,-187\"/>\n",
       "<text text-anchor=\"start\" x=\"67\" y=\"-171.8\" font-family=\"Helvetica,sans-Serif\" font-size=\"14.00\">huidig_contractduur ≤ 18.0</text>\n",
       "<text text-anchor=\"start\" x=\"111.5\" y=\"-156.8\" font-family=\"Helvetica,sans-Serif\" font-size=\"14.00\">gini = 0.499</text>\n",
       "<text text-anchor=\"start\" x=\"98.5\" y=\"-141.8\" font-family=\"Helvetica,sans-Serif\" font-size=\"14.00\">samples = 4206</text>\n",
       "<text text-anchor=\"start\" x=\"85\" y=\"-126.8\" font-family=\"Helvetica,sans-Serif\" font-size=\"14.00\">value = [2030, 2176]</text>\n",
       "<text text-anchor=\"start\" x=\"88\" y=\"-111.8\" font-family=\"Helvetica,sans-Serif\" font-size=\"14.00\">class = not churned</text>\n",
       "</g>\n",
       "<!-- 1&#45;&gt;2 -->\n",
       "<g id=\"edge2\" class=\"edge\">\n",
       "<title>1&#45;&gt;2</title>\n",
       "<path fill=\"none\" stroke=\"black\" d=\"M203.16,-222.91C196.63,-214.01 189.64,-204.51 182.89,-195.33\"/>\n",
       "<polygon fill=\"black\" stroke=\"black\" points=\"185.53,-193.01 176.78,-187.02 179.89,-197.15 185.53,-193.01\"/>\n",
       "</g>\n",
       "<!-- 5 -->\n",
       "<g id=\"node6\" class=\"node\">\n",
       "<title>5</title>\n",
       "<path fill=\"#f6d1b7\" stroke=\"black\" d=\"M373,-179.5C373,-179.5 265,-179.5 265,-179.5 259,-179.5 253,-173.5 253,-167.5 253,-167.5 253,-123.5 253,-123.5 253,-117.5 259,-111.5 265,-111.5 265,-111.5 373,-111.5 373,-111.5 379,-111.5 385,-117.5 385,-123.5 385,-123.5 385,-167.5 385,-167.5 385,-173.5 379,-179.5 373,-179.5\"/>\n",
       "<text text-anchor=\"start\" x=\"283.5\" y=\"-164.3\" font-family=\"Helvetica,sans-Serif\" font-size=\"14.00\">gini = 0.475</text>\n",
       "<text text-anchor=\"start\" x=\"270.5\" y=\"-149.3\" font-family=\"Helvetica,sans-Serif\" font-size=\"14.00\">samples = 1759</text>\n",
       "<text text-anchor=\"start\" x=\"261\" y=\"-134.3\" font-family=\"Helvetica,sans-Serif\" font-size=\"14.00\">value = [1076, 683]</text>\n",
       "<text text-anchor=\"start\" x=\"271\" y=\"-119.3\" font-family=\"Helvetica,sans-Serif\" font-size=\"14.00\">class = churned</text>\n",
       "</g>\n",
       "<!-- 1&#45;&gt;5 -->\n",
       "<g id=\"edge5\" class=\"edge\">\n",
       "<title>1&#45;&gt;5</title>\n",
       "<path fill=\"none\" stroke=\"black\" d=\"M262.84,-222.91C271.19,-211.54 280.28,-199.18 288.66,-187.77\"/>\n",
       "<polygon fill=\"black\" stroke=\"black\" points=\"291.52,-189.8 294.62,-179.67 285.88,-185.65 291.52,-189.8\"/>\n",
       "</g>\n",
       "<!-- 3 -->\n",
       "<g id=\"node4\" class=\"node\">\n",
       "<title>3</title>\n",
       "<path fill=\"#fcfdff\" stroke=\"black\" d=\"M128,-68C128,-68 12,-68 12,-68 6,-68 0,-62 0,-56 0,-56 0,-12 0,-12 0,-6 6,0 12,0 12,0 128,0 128,0 134,0 140,-6 140,-12 140,-12 140,-56 140,-56 140,-62 134,-68 128,-68\"/>\n",
       "<text text-anchor=\"start\" x=\"42\" y=\"-52.8\" font-family=\"Helvetica,sans-Serif\" font-size=\"14.00\">gini = 0.5</text>\n",
       "<text text-anchor=\"start\" x=\"21.5\" y=\"-37.8\" font-family=\"Helvetica,sans-Serif\" font-size=\"14.00\">samples = 3903</text>\n",
       "<text text-anchor=\"start\" x=\"8\" y=\"-22.8\" font-family=\"Helvetica,sans-Serif\" font-size=\"14.00\">value = [1935, 1968]</text>\n",
       "<text text-anchor=\"start\" x=\"11\" y=\"-7.8\" font-family=\"Helvetica,sans-Serif\" font-size=\"14.00\">class = not churned</text>\n",
       "</g>\n",
       "<!-- 2&#45;&gt;3 -->\n",
       "<g id=\"edge3\" class=\"edge\">\n",
       "<title>2&#45;&gt;3</title>\n",
       "<path fill=\"none\" stroke=\"black\" d=\"M118.33,-103.73C112.11,-94.88 105.52,-85.51 99.27,-76.63\"/>\n",
       "<polygon fill=\"black\" stroke=\"black\" points=\"102.03,-74.47 93.42,-68.3 96.31,-78.49 102.03,-74.47\"/>\n",
       "</g>\n",
       "<!-- 4 -->\n",
       "<g id=\"node5\" class=\"node\">\n",
       "<title>4</title>\n",
       "<path fill=\"#93caf1\" stroke=\"black\" d=\"M280,-68C280,-68 170,-68 170,-68 164,-68 158,-62 158,-56 158,-56 158,-12 158,-12 158,-6 164,0 170,0 170,0 280,0 280,0 286,0 292,-6 292,-12 292,-12 292,-56 292,-56 292,-62 286,-68 280,-68\"/>\n",
       "<text text-anchor=\"start\" x=\"193\" y=\"-52.8\" font-family=\"Helvetica,sans-Serif\" font-size=\"14.00\">gini = 0.43</text>\n",
       "<text text-anchor=\"start\" x=\"180\" y=\"-37.8\" font-family=\"Helvetica,sans-Serif\" font-size=\"14.00\">samples = 303</text>\n",
       "<text text-anchor=\"start\" x=\"174.5\" y=\"-22.8\" font-family=\"Helvetica,sans-Serif\" font-size=\"14.00\">value = [95, 208]</text>\n",
       "<text text-anchor=\"start\" x=\"166\" y=\"-7.8\" font-family=\"Helvetica,sans-Serif\" font-size=\"14.00\">class = not churned</text>\n",
       "</g>\n",
       "<!-- 2&#45;&gt;4 -->\n",
       "<g id=\"edge4\" class=\"edge\">\n",
       "<title>2&#45;&gt;4</title>\n",
       "<path fill=\"none\" stroke=\"black\" d=\"M176.04,-103.73C182.35,-94.88 189.02,-85.51 195.35,-76.63\"/>\n",
       "<polygon fill=\"black\" stroke=\"black\" points=\"198.33,-78.48 201.28,-68.3 192.63,-74.41 198.33,-78.48\"/>\n",
       "</g>\n",
       "</g>\n",
       "</svg>\n"
      ],
      "text/plain": [
       "<graphviz.sources.Source at 0x2c14adf75b0>"
      ]
     },
     "execution_count": 35,
     "metadata": {},
     "output_type": "execute_result"
    }
   ],
   "source": [
    "plot_tree(dt, featuresModel1)"
   ]
  },
  {
   "cell_type": "markdown",
   "metadata": {},
   "source": [
    "## Overfitting"
   ]
  },
  {
   "cell_type": "code",
   "execution_count": 36,
   "metadata": {},
   "outputs": [
    {
     "data": {
      "text/plain": [
       "DecisionTreeClassifier()"
      ]
     },
     "execution_count": 36,
     "metadata": {},
     "output_type": "execute_result"
    }
   ],
   "source": [
    "featuresModel2 = ['huidig_contractduur', 'VERBRUIKGAS']\n",
    "dt2 = DecisionTreeClassifier()\n",
    "dt2.fit(df_train[featuresModel2], df_train['churned'])"
   ]
  },
  {
   "cell_type": "code",
   "execution_count": 37,
   "metadata": {},
   "outputs": [
    {
     "name": "stdout",
     "output_type": "stream",
     "text": [
      "Result on trainset:\n",
      "0.9619908601624658\n",
      "\n",
      "Result on testset:\n",
      "0.6035570888159728\n"
     ]
    },
    {
     "data": {
      "text/plain": [
       "(0.9619908601624658, 0.6035570888159728)"
      ]
     },
     "execution_count": 37,
     "metadata": {},
     "output_type": "execute_result"
    }
   ],
   "source": [
    "apply_model(dt2, featuresModel2)"
   ]
  },
  {
   "cell_type": "code",
   "execution_count": 38,
   "metadata": {},
   "outputs": [],
   "source": [
    "# It's best not to plot this tree because it's very big and takes a long time to plot.\n",
    "# plot_tree(dt2, featuresModel2)"
   ]
  },
  {
   "cell_type": "code",
   "execution_count": 39,
   "metadata": {},
   "outputs": [
    {
     "data": {
      "image/png": "[encoded data removed]",
      "text/plain": [
       "<Figure size 432x288 with 1 Axes>"
      ]
     },
     "metadata": {
      "needs_background": "light"
     },
     "output_type": "display_data"
    }
   ],
   "source": [
    "err_train = []\n",
    "err_test = []\n",
    "depths = range(1, 15)\n",
    "\n",
    "for depth in depths:\n",
    "    dt = DecisionTreeClassifier(max_depth=depth)\n",
    "    dt.fit(df_train[featuresModel2], df_train['churned'])\n",
    "    err_train_i, err_test_i = apply_model(dt, featuresModel2, print_to_screen=False)\n",
    "    err_train.append(err_train_i)\n",
    "    err_test.append(err_test_i)\n",
    "    \n",
    "plt.plot(depths, err_train, label='train')\n",
    "plt.plot(depths, err_test, label='test')\n",
    "plt.legend()\n",
    "plt.xlabel('maximum depth')\n",
    "plt.ylabel('AUC-score')\n",
    "plt.show()"
   ]
  },
  {
   "cell_type": "code",
   "execution_count": 40,
   "metadata": {},
   "outputs": [
    {
     "data": {
      "text/plain": [
       "DecisionTreeClassifier(max_depth=6)"
      ]
     },
     "execution_count": 40,
     "metadata": {},
     "output_type": "execute_result"
    }
   ],
   "source": [
    "dt3 = DecisionTreeClassifier(max_depth=6)\n",
    "dt3.fit(df_train[featuresModel2], df_train['churned'])"
   ]
  },
  {
   "cell_type": "code",
   "execution_count": 41,
   "metadata": {},
   "outputs": [
    {
     "name": "stdout",
     "output_type": "stream",
     "text": [
      "Result on trainset:\n",
      "0.7069653748977269\n",
      "\n",
      "Result on testset:\n",
      "0.7045866049563928\n"
     ]
    },
    {
     "data": {
      "text/plain": [
       "(0.7069653748977269, 0.7045866049563928)"
      ]
     },
     "execution_count": 41,
     "metadata": {},
     "output_type": "execute_result"
    }
   ],
   "source": [
    "apply_model(dt3, featuresModel2)"
   ]
  },
  {
   "cell_type": "code",
   "execution_count": 42,
   "metadata": {},
   "outputs": [
    {
     "data": {
      "image/svg+xml": [
       "<?xml version=\"1.0\" encoding=\"UTF-8\" standalone=\"no\"?>\n",
       "<!DOCTYPE svg PUBLIC \"-//W3C//DTD SVG 1.1//EN\"\n",
       " \"http://www.w3.org/Graphics/SVG/1.1/DTD/svg11.dtd\">\n",
       "<!-- Generated by graphviz version 2.50.0 (0)\n",
       " -->\n",
       "<!-- Title: Tree Pages: 1 -->\n",
       "<svg width=\"2866pt\" height=\"790pt\"\n",
       " viewBox=\"0.00 0.00 2865.50 790.00\" xmlns=\"http://www.w3.org/2000/svg\" xmlns:xlink=\"http://www.w3.org/1999/xlink\">\n",
       "<g id=\"graph0\" class=\"graph\" transform=\"scale(1 1) rotate(0) translate(4 786)\">\n",
       "<title>Tree</title>\n",
       "<polygon fill=\"white\" stroke=\"transparent\" points=\"-4,4 -4,-786 2861.5,-786 2861.5,4 -4,4\"/>\n",
       "<!-- 0 -->\n",
       "<g id=\"node1\" class=\"node\">\n",
       "<title>0</title>\n",
       "<path fill=\"#f7d9c3\" stroke=\"black\" d=\"M1681,-782C1681,-782 1529,-782 1529,-782 1523,-782 1517,-776 1517,-770 1517,-770 1517,-711 1517,-711 1517,-705 1523,-699 1529,-699 1529,-699 1681,-699 1681,-699 1687,-699 1693,-705 1693,-711 1693,-711 1693,-770 1693,-770 1693,-776 1687,-782 1681,-782\"/>\n",
       "<text text-anchor=\"start\" x=\"1525\" y=\"-766.8\" font-family=\"Helvetica,sans-Serif\" font-size=\"14.00\">huidig_contractduur ≤ 48.0</text>\n",
       "<text text-anchor=\"start\" x=\"1569.5\" y=\"-751.8\" font-family=\"Helvetica,sans-Serif\" font-size=\"14.00\">gini = 0.484</text>\n",
       "<text text-anchor=\"start\" x=\"1556.5\" y=\"-736.8\" font-family=\"Helvetica,sans-Serif\" font-size=\"14.00\">samples = 6957</text>\n",
       "<text text-anchor=\"start\" x=\"1543\" y=\"-721.8\" font-family=\"Helvetica,sans-Serif\" font-size=\"14.00\">value = [4098, 2859]</text>\n",
       "<text text-anchor=\"start\" x=\"1557\" y=\"-706.8\" font-family=\"Helvetica,sans-Serif\" font-size=\"14.00\">class = churned</text>\n",
       "</g>\n",
       "<!-- 1 -->\n",
       "<g id=\"node2\" class=\"node\">\n",
       "<title>1</title>\n",
       "<path fill=\"#fdf5ef\" stroke=\"black\" d=\"M1600,-663C1600,-663 1448,-663 1448,-663 1442,-663 1436,-657 1436,-651 1436,-651 1436,-592 1436,-592 1436,-586 1442,-580 1448,-580 1448,-580 1600,-580 1600,-580 1606,-580 1612,-586 1612,-592 1612,-592 1612,-651 1612,-651 1612,-657 1606,-663 1600,-663\"/>\n",
       "<text text-anchor=\"start\" x=\"1444\" y=\"-647.8\" font-family=\"Helvetica,sans-Serif\" font-size=\"14.00\">huidig_contractduur ≤ 30.0</text>\n",
       "<text text-anchor=\"start\" x=\"1488.5\" y=\"-632.8\" font-family=\"Helvetica,sans-Serif\" font-size=\"14.00\">gini = 0.499</text>\n",
       "<text text-anchor=\"start\" x=\"1475.5\" y=\"-617.8\" font-family=\"Helvetica,sans-Serif\" font-size=\"14.00\">samples = 5965</text>\n",
       "<text text-anchor=\"start\" x=\"1462\" y=\"-602.8\" font-family=\"Helvetica,sans-Serif\" font-size=\"14.00\">value = [3106, 2859]</text>\n",
       "<text text-anchor=\"start\" x=\"1476\" y=\"-587.8\" font-family=\"Helvetica,sans-Serif\" font-size=\"14.00\">class = churned</text>\n",
       "</g>\n",
       "<!-- 0&#45;&gt;1 -->\n",
       "<g id=\"edge1\" class=\"edge\">\n",
       "<title>0&#45;&gt;1</title>\n",
       "<path fill=\"none\" stroke=\"black\" d=\"M1576.9,-698.91C1570.74,-690.01 1564.16,-680.51 1557.81,-671.33\"/>\n",
       "<polygon fill=\"black\" stroke=\"black\" points=\"1560.62,-669.25 1552.05,-663.02 1554.87,-673.24 1560.62,-669.25\"/>\n",
       "<text text-anchor=\"middle\" x=\"1547.58\" y=\"-683.92\" font-family=\"Helvetica,sans-Serif\" font-size=\"14.00\">True</text>\n",
       "</g>\n",
       "<!-- 44 -->\n",
       "<g id=\"node45\" class=\"node\">\n",
       "<title>44</title>\n",
       "<path fill=\"#e58139\" stroke=\"black\" d=\"M1730,-655.5C1730,-655.5 1642,-655.5 1642,-655.5 1636,-655.5 1630,-649.5 1630,-643.5 1630,-643.5 1630,-599.5 1630,-599.5 1630,-593.5 1636,-587.5 1642,-587.5 1642,-587.5 1730,-587.5 1730,-587.5 1736,-587.5 1742,-593.5 1742,-599.5 1742,-599.5 1742,-643.5 1742,-643.5 1742,-649.5 1736,-655.5 1730,-655.5\"/>\n",
       "<text text-anchor=\"start\" x=\"1658\" y=\"-640.3\" font-family=\"Helvetica,sans-Serif\" font-size=\"14.00\">gini = 0.0</text>\n",
       "<text text-anchor=\"start\" x=\"1641\" y=\"-625.3\" font-family=\"Helvetica,sans-Serif\" font-size=\"14.00\">samples = 992</text>\n",
       "<text text-anchor=\"start\" x=\"1639\" y=\"-610.3\" font-family=\"Helvetica,sans-Serif\" font-size=\"14.00\">value = [992, 0]</text>\n",
       "<text text-anchor=\"start\" x=\"1638\" y=\"-595.3\" font-family=\"Helvetica,sans-Serif\" font-size=\"14.00\">class = churned</text>\n",
       "</g>\n",
       "<!-- 0&#45;&gt;44 -->\n",
       "<g id=\"edge44\" class=\"edge\">\n",
       "<title>0&#45;&gt;44</title>\n",
       "<path fill=\"none\" stroke=\"black\" d=\"M1633.1,-698.91C1640.89,-687.65 1649.36,-675.42 1657.2,-664.11\"/>\n",
       "<polygon fill=\"black\" stroke=\"black\" points=\"1660.22,-665.88 1663.04,-655.67 1654.47,-661.9 1660.22,-665.88\"/>\n",
       "<text text-anchor=\"middle\" x=\"1667.51\" y=\"-676.56\" font-family=\"Helvetica,sans-Serif\" font-size=\"14.00\">False</text>\n",
       "</g>\n",
       "<!-- 2 -->\n",
       "<g id=\"node3\" class=\"node\">\n",
       "<title>2</title>\n",
       "<path fill=\"#f2f8fd\" stroke=\"black\" d=\"M1176.5,-544C1176.5,-544 1051.5,-544 1051.5,-544 1045.5,-544 1039.5,-538 1039.5,-532 1039.5,-532 1039.5,-473 1039.5,-473 1039.5,-467 1045.5,-461 1051.5,-461 1051.5,-461 1176.5,-461 1176.5,-461 1182.5,-461 1188.5,-467 1188.5,-473 1188.5,-473 1188.5,-532 1188.5,-532 1188.5,-538 1182.5,-544 1176.5,-544\"/>\n",
       "<text text-anchor=\"start\" x=\"1047.5\" y=\"-528.8\" font-family=\"Helvetica,sans-Serif\" font-size=\"14.00\">VERBRUIKGAS ≤ 5.5</text>\n",
       "<text text-anchor=\"start\" x=\"1078.5\" y=\"-513.8\" font-family=\"Helvetica,sans-Serif\" font-size=\"14.00\">gini = 0.499</text>\n",
       "<text text-anchor=\"start\" x=\"1065.5\" y=\"-498.8\" font-family=\"Helvetica,sans-Serif\" font-size=\"14.00\">samples = 4206</text>\n",
       "<text text-anchor=\"start\" x=\"1052\" y=\"-483.8\" font-family=\"Helvetica,sans-Serif\" font-size=\"14.00\">value = [2030, 2176]</text>\n",
       "<text text-anchor=\"start\" x=\"1055\" y=\"-468.8\" font-family=\"Helvetica,sans-Serif\" font-size=\"14.00\">class = not churned</text>\n",
       "</g>\n",
       "<!-- 1&#45;&gt;2 -->\n",
       "<g id=\"edge2\" class=\"edge\">\n",
       "<title>1&#45;&gt;2</title>\n",
       "<path fill=\"none\" stroke=\"black\" d=\"M1435.79,-595.33C1365.58,-575.29 1267.94,-547.43 1198.67,-527.66\"/>\n",
       "<polygon fill=\"black\" stroke=\"black\" points=\"1199.24,-524.18 1188.66,-524.81 1197.32,-530.92 1199.24,-524.18\"/>\n",
       "</g>\n",
       "<!-- 27 -->\n",
       "<g id=\"node28\" class=\"node\">\n",
       "<title>27</title>\n",
       "<path fill=\"#f6d1b7\" stroke=\"black\" d=\"M2106.5,-544C2106.5,-544 1951.5,-544 1951.5,-544 1945.5,-544 1939.5,-538 1939.5,-532 1939.5,-532 1939.5,-473 1939.5,-473 1939.5,-467 1945.5,-461 1951.5,-461 1951.5,-461 2106.5,-461 2106.5,-461 2112.5,-461 2118.5,-467 2118.5,-473 2118.5,-473 2118.5,-532 2118.5,-532 2118.5,-538 2112.5,-544 2106.5,-544\"/>\n",
       "<text text-anchor=\"start\" x=\"1947.5\" y=\"-528.8\" font-family=\"Helvetica,sans-Serif\" font-size=\"14.00\">VERBRUIKGAS ≤ 80092.0</text>\n",
       "<text text-anchor=\"start\" x=\"1993.5\" y=\"-513.8\" font-family=\"Helvetica,sans-Serif\" font-size=\"14.00\">gini = 0.475</text>\n",
       "<text text-anchor=\"start\" x=\"1980.5\" y=\"-498.8\" font-family=\"Helvetica,sans-Serif\" font-size=\"14.00\">samples = 1759</text>\n",
       "<text text-anchor=\"start\" x=\"1971\" y=\"-483.8\" font-family=\"Helvetica,sans-Serif\" font-size=\"14.00\">value = [1076, 683]</text>\n",
       "<text text-anchor=\"start\" x=\"1981\" y=\"-468.8\" font-family=\"Helvetica,sans-Serif\" font-size=\"14.00\">class = churned</text>\n",
       "</g>\n",
       "<!-- 1&#45;&gt;27 -->\n",
       "<g id=\"edge27\" class=\"edge\">\n",
       "<title>1&#45;&gt;27</title>\n",
       "<path fill=\"none\" stroke=\"black\" d=\"M1612,-582.84C1615.02,-581.84 1618.03,-580.89 1621,-580 1724.18,-549.16 1845.91,-528.26 1929.39,-516.2\"/>\n",
       "<polygon fill=\"black\" stroke=\"black\" points=\"1929.97,-519.65 1939.37,-514.78 1928.98,-512.72 1929.97,-519.65\"/>\n",
       "</g>\n",
       "<!-- 3 -->\n",
       "<g id=\"node4\" class=\"node\">\n",
       "<title>3</title>\n",
       "<path fill=\"#92c9f1\" stroke=\"black\" d=\"M877,-425C877,-425 725,-425 725,-425 719,-425 713,-419 713,-413 713,-413 713,-354 713,-354 713,-348 719,-342 725,-342 725,-342 877,-342 877,-342 883,-342 889,-348 889,-354 889,-354 889,-413 889,-413 889,-419 883,-425 877,-425\"/>\n",
       "<text text-anchor=\"start\" x=\"721\" y=\"-409.8\" font-family=\"Helvetica,sans-Serif\" font-size=\"14.00\">huidig_contractduur ≤ 18.0</text>\n",
       "<text text-anchor=\"start\" x=\"765.5\" y=\"-394.8\" font-family=\"Helvetica,sans-Serif\" font-size=\"14.00\">gini = 0.428</text>\n",
       "<text text-anchor=\"start\" x=\"756\" y=\"-379.8\" font-family=\"Helvetica,sans-Serif\" font-size=\"14.00\">samples = 510</text>\n",
       "<text text-anchor=\"start\" x=\"746.5\" y=\"-364.8\" font-family=\"Helvetica,sans-Serif\" font-size=\"14.00\">value = [158, 352]</text>\n",
       "<text text-anchor=\"start\" x=\"742\" y=\"-349.8\" font-family=\"Helvetica,sans-Serif\" font-size=\"14.00\">class = not churned</text>\n",
       "</g>\n",
       "<!-- 2&#45;&gt;3 -->\n",
       "<g id=\"edge3\" class=\"edge\">\n",
       "<title>2&#45;&gt;3</title>\n",
       "<path fill=\"none\" stroke=\"black\" d=\"M1039.43,-473.62C997.31,-457.88 944.16,-438.02 898.74,-421.04\"/>\n",
       "<polygon fill=\"black\" stroke=\"black\" points=\"899.77,-417.68 889.18,-417.46 897.32,-424.24 899.77,-417.68\"/>\n",
       "</g>\n",
       "<!-- 12 -->\n",
       "<g id=\"node13\" class=\"node\">\n",
       "<title>12</title>\n",
       "<path fill=\"#fefcfa\" stroke=\"black\" d=\"M1187.5,-425C1187.5,-425 1040.5,-425 1040.5,-425 1034.5,-425 1028.5,-419 1028.5,-413 1028.5,-413 1028.5,-354 1028.5,-354 1028.5,-348 1034.5,-342 1040.5,-342 1040.5,-342 1187.5,-342 1187.5,-342 1193.5,-342 1199.5,-348 1199.5,-354 1199.5,-354 1199.5,-413 1199.5,-413 1199.5,-419 1193.5,-425 1187.5,-425\"/>\n",
       "<text text-anchor=\"start\" x=\"1036.5\" y=\"-409.8\" font-family=\"Helvetica,sans-Serif\" font-size=\"14.00\">VERBRUIKGAS ≤ 3723.5</text>\n",
       "<text text-anchor=\"start\" x=\"1086\" y=\"-394.8\" font-family=\"Helvetica,sans-Serif\" font-size=\"14.00\">gini = 0.5</text>\n",
       "<text text-anchor=\"start\" x=\"1065.5\" y=\"-379.8\" font-family=\"Helvetica,sans-Serif\" font-size=\"14.00\">samples = 3696</text>\n",
       "<text text-anchor=\"start\" x=\"1052\" y=\"-364.8\" font-family=\"Helvetica,sans-Serif\" font-size=\"14.00\">value = [1872, 1824]</text>\n",
       "<text text-anchor=\"start\" x=\"1066\" y=\"-349.8\" font-family=\"Helvetica,sans-Serif\" font-size=\"14.00\">class = churned</text>\n",
       "</g>\n",
       "<!-- 2&#45;&gt;12 -->\n",
       "<g id=\"edge12\" class=\"edge\">\n",
       "<title>2&#45;&gt;12</title>\n",
       "<path fill=\"none\" stroke=\"black\" d=\"M1114,-460.91C1114,-452.65 1114,-443.86 1114,-435.3\"/>\n",
       "<polygon fill=\"black\" stroke=\"black\" points=\"1117.5,-435.02 1114,-425.02 1110.5,-435.02 1117.5,-435.02\"/>\n",
       "</g>\n",
       "<!-- 4 -->\n",
       "<g id=\"node5\" class=\"node\">\n",
       "<title>4</title>\n",
       "<path fill=\"#97cbf1\" stroke=\"black\" d=\"M500.5,-306C500.5,-306 375.5,-306 375.5,-306 369.5,-306 363.5,-300 363.5,-294 363.5,-294 363.5,-235 363.5,-235 363.5,-229 369.5,-223 375.5,-223 375.5,-223 500.5,-223 500.5,-223 506.5,-223 512.5,-229 512.5,-235 512.5,-235 512.5,-294 512.5,-294 512.5,-300 506.5,-306 500.5,-306\"/>\n",
       "<text text-anchor=\"start\" x=\"371.5\" y=\"-290.8\" font-family=\"Helvetica,sans-Serif\" font-size=\"14.00\">VERBRUIKGAS ≤ 2.5</text>\n",
       "<text text-anchor=\"start\" x=\"402.5\" y=\"-275.8\" font-family=\"Helvetica,sans-Serif\" font-size=\"14.00\">gini = 0.436</text>\n",
       "<text text-anchor=\"start\" x=\"393\" y=\"-260.8\" font-family=\"Helvetica,sans-Serif\" font-size=\"14.00\">samples = 392</text>\n",
       "<text text-anchor=\"start\" x=\"383.5\" y=\"-245.8\" font-family=\"Helvetica,sans-Serif\" font-size=\"14.00\">value = [126, 266]</text>\n",
       "<text text-anchor=\"start\" x=\"379\" y=\"-230.8\" font-family=\"Helvetica,sans-Serif\" font-size=\"14.00\">class = not churned</text>\n",
       "</g>\n",
       "<!-- 3&#45;&gt;4 -->\n",
       "<g id=\"edge4\" class=\"edge\">\n",
       "<title>3&#45;&gt;4</title>\n",
       "<path fill=\"none\" stroke=\"black\" d=\"M712.66,-354.03C654.74,-335.36 579.44,-311.09 522.33,-292.68\"/>\n",
       "<polygon fill=\"black\" stroke=\"black\" points=\"523.2,-289.29 512.61,-289.55 521.06,-295.95 523.2,-289.29\"/>\n",
       "</g>\n",
       "<!-- 11 -->\n",
       "<g id=\"node12\" class=\"node\">\n",
       "<title>11</title>\n",
       "<path fill=\"#83c1ef\" stroke=\"black\" d=\"M856,-298.5C856,-298.5 746,-298.5 746,-298.5 740,-298.5 734,-292.5 734,-286.5 734,-286.5 734,-242.5 734,-242.5 734,-236.5 740,-230.5 746,-230.5 746,-230.5 856,-230.5 856,-230.5 862,-230.5 868,-236.5 868,-242.5 868,-242.5 868,-286.5 868,-286.5 868,-292.5 862,-298.5 856,-298.5\"/>\n",
       "<text text-anchor=\"start\" x=\"765.5\" y=\"-283.3\" font-family=\"Helvetica,sans-Serif\" font-size=\"14.00\">gini = 0.395</text>\n",
       "<text text-anchor=\"start\" x=\"756.5\" y=\"-268.3\" font-family=\"Helvetica,sans-Serif\" font-size=\"14.00\">samples = 118</text>\n",
       "<text text-anchor=\"start\" x=\"754\" y=\"-253.3\" font-family=\"Helvetica,sans-Serif\" font-size=\"14.00\">value = [32, 86]</text>\n",
       "<text text-anchor=\"start\" x=\"742\" y=\"-238.3\" font-family=\"Helvetica,sans-Serif\" font-size=\"14.00\">class = not churned</text>\n",
       "</g>\n",
       "<!-- 3&#45;&gt;11 -->\n",
       "<g id=\"edge11\" class=\"edge\">\n",
       "<title>3&#45;&gt;11</title>\n",
       "<path fill=\"none\" stroke=\"black\" d=\"M801,-341.91C801,-331.2 801,-319.62 801,-308.78\"/>\n",
       "<polygon fill=\"black\" stroke=\"black\" points=\"804.5,-308.67 801,-298.67 797.5,-308.67 804.5,-308.67\"/>\n",
       "</g>\n",
       "<!-- 5 -->\n",
       "<g id=\"node6\" class=\"node\">\n",
       "<title>5</title>\n",
       "<path fill=\"#97ccf1\" stroke=\"black\" d=\"M270.5,-187C270.5,-187 145.5,-187 145.5,-187 139.5,-187 133.5,-181 133.5,-175 133.5,-175 133.5,-116 133.5,-116 133.5,-110 139.5,-104 145.5,-104 145.5,-104 270.5,-104 270.5,-104 276.5,-104 282.5,-110 282.5,-116 282.5,-116 282.5,-175 282.5,-175 282.5,-181 276.5,-187 270.5,-187\"/>\n",
       "<text text-anchor=\"start\" x=\"141.5\" y=\"-171.8\" font-family=\"Helvetica,sans-Serif\" font-size=\"14.00\">VERBRUIKGAS ≤ 0.5</text>\n",
       "<text text-anchor=\"start\" x=\"172.5\" y=\"-156.8\" font-family=\"Helvetica,sans-Serif\" font-size=\"14.00\">gini = 0.437</text>\n",
       "<text text-anchor=\"start\" x=\"163\" y=\"-141.8\" font-family=\"Helvetica,sans-Serif\" font-size=\"14.00\">samples = 387</text>\n",
       "<text text-anchor=\"start\" x=\"153.5\" y=\"-126.8\" font-family=\"Helvetica,sans-Serif\" font-size=\"14.00\">value = [125, 262]</text>\n",
       "<text text-anchor=\"start\" x=\"149\" y=\"-111.8\" font-family=\"Helvetica,sans-Serif\" font-size=\"14.00\">class = not churned</text>\n",
       "</g>\n",
       "<!-- 4&#45;&gt;5 -->\n",
       "<g id=\"edge5\" class=\"edge\">\n",
       "<title>4&#45;&gt;5</title>\n",
       "<path fill=\"none\" stroke=\"black\" d=\"M363.33,-225.51C340.51,-213.91 315.28,-201.07 291.9,-189.18\"/>\n",
       "<polygon fill=\"black\" stroke=\"black\" points=\"293.19,-185.91 282.69,-184.5 290.02,-192.15 293.19,-185.91\"/>\n",
       "</g>\n",
       "<!-- 8 -->\n",
       "<g id=\"node9\" class=\"node\">\n",
       "<title>8</title>\n",
       "<path fill=\"#6ab6ec\" stroke=\"black\" d=\"M500.5,-187C500.5,-187 375.5,-187 375.5,-187 369.5,-187 363.5,-181 363.5,-175 363.5,-175 363.5,-116 363.5,-116 363.5,-110 369.5,-104 375.5,-104 375.5,-104 500.5,-104 500.5,-104 506.5,-104 512.5,-110 512.5,-116 512.5,-116 512.5,-175 512.5,-175 512.5,-181 506.5,-187 500.5,-187\"/>\n",
       "<text text-anchor=\"start\" x=\"371.5\" y=\"-171.8\" font-family=\"Helvetica,sans-Serif\" font-size=\"14.00\">VERBRUIKGAS ≤ 4.5</text>\n",
       "<text text-anchor=\"start\" x=\"406\" y=\"-156.8\" font-family=\"Helvetica,sans-Serif\" font-size=\"14.00\">gini = 0.32</text>\n",
       "<text text-anchor=\"start\" x=\"400.5\" y=\"-141.8\" font-family=\"Helvetica,sans-Serif\" font-size=\"14.00\">samples = 5</text>\n",
       "<text text-anchor=\"start\" x=\"398.5\" y=\"-126.8\" font-family=\"Helvetica,sans-Serif\" font-size=\"14.00\">value = [1, 4]</text>\n",
       "<text text-anchor=\"start\" x=\"379\" y=\"-111.8\" font-family=\"Helvetica,sans-Serif\" font-size=\"14.00\">class = not churned</text>\n",
       "</g>\n",
       "<!-- 4&#45;&gt;8 -->\n",
       "<g id=\"edge8\" class=\"edge\">\n",
       "<title>4&#45;&gt;8</title>\n",
       "<path fill=\"none\" stroke=\"black\" d=\"M438,-222.91C438,-214.65 438,-205.86 438,-197.3\"/>\n",
       "<polygon fill=\"black\" stroke=\"black\" points=\"441.5,-197.02 438,-187.02 434.5,-197.02 441.5,-197.02\"/>\n",
       "</g>\n",
       "<!-- 6 -->\n",
       "<g id=\"node7\" class=\"node\">\n",
       "<title>6</title>\n",
       "<path fill=\"#97cbf1\" stroke=\"black\" d=\"M122,-68C122,-68 12,-68 12,-68 6,-68 0,-62 0,-56 0,-56 0,-12 0,-12 0,-6 6,0 12,0 12,0 122,0 122,0 128,0 134,-6 134,-12 134,-12 134,-56 134,-56 134,-62 128,-68 122,-68\"/>\n",
       "<text text-anchor=\"start\" x=\"31.5\" y=\"-52.8\" font-family=\"Helvetica,sans-Serif\" font-size=\"14.00\">gini = 0.436</text>\n",
       "<text text-anchor=\"start\" x=\"22\" y=\"-37.8\" font-family=\"Helvetica,sans-Serif\" font-size=\"14.00\">samples = 386</text>\n",
       "<text text-anchor=\"start\" x=\"12.5\" y=\"-22.8\" font-family=\"Helvetica,sans-Serif\" font-size=\"14.00\">value = [124, 262]</text>\n",
       "<text text-anchor=\"start\" x=\"8\" y=\"-7.8\" font-family=\"Helvetica,sans-Serif\" font-size=\"14.00\">class = not churned</text>\n",
       "</g>\n",
       "<!-- 5&#45;&gt;6 -->\n",
       "<g id=\"edge6\" class=\"edge\">\n",
       "<title>5&#45;&gt;6</title>\n",
       "<path fill=\"none\" stroke=\"black\" d=\"M155.5,-103.73C143.16,-94.15 130.05,-83.96 117.79,-74.44\"/>\n",
       "<polygon fill=\"black\" stroke=\"black\" points=\"119.92,-71.67 109.88,-68.3 115.63,-77.2 119.92,-71.67\"/>\n",
       "</g>\n",
       "<!-- 7 -->\n",
       "<g id=\"node8\" class=\"node\">\n",
       "<title>7</title>\n",
       "<path fill=\"#e58139\" stroke=\"black\" d=\"M252,-68C252,-68 164,-68 164,-68 158,-68 152,-62 152,-56 152,-56 152,-12 152,-12 152,-6 158,0 164,0 164,0 252,0 252,0 258,0 264,-6 264,-12 264,-12 264,-56 264,-56 264,-62 258,-68 252,-68\"/>\n",
       "<text text-anchor=\"start\" x=\"180\" y=\"-52.8\" font-family=\"Helvetica,sans-Serif\" font-size=\"14.00\">gini = 0.0</text>\n",
       "<text text-anchor=\"start\" x=\"170.5\" y=\"-37.8\" font-family=\"Helvetica,sans-Serif\" font-size=\"14.00\">samples = 1</text>\n",
       "<text text-anchor=\"start\" x=\"168.5\" y=\"-22.8\" font-family=\"Helvetica,sans-Serif\" font-size=\"14.00\">value = [1, 0]</text>\n",
       "<text text-anchor=\"start\" x=\"160\" y=\"-7.8\" font-family=\"Helvetica,sans-Serif\" font-size=\"14.00\">class = churned</text>\n",
       "</g>\n",
       "<!-- 5&#45;&gt;7 -->\n",
       "<g id=\"edge7\" class=\"edge\">\n",
       "<title>5&#45;&gt;7</title>\n",
       "<path fill=\"none\" stroke=\"black\" d=\"M208,-103.73C208,-95.52 208,-86.86 208,-78.56\"/>\n",
       "<polygon fill=\"black\" stroke=\"black\" points=\"211.5,-78.3 208,-68.3 204.5,-78.3 211.5,-78.3\"/>\n",
       "</g>\n",
       "<!-- 9 -->\n",
       "<g id=\"node10\" class=\"node\">\n",
       "<title>9</title>\n",
       "<path fill=\"#399de5\" stroke=\"black\" d=\"M404,-68C404,-68 294,-68 294,-68 288,-68 282,-62 282,-56 282,-56 282,-12 282,-12 282,-6 288,0 294,0 294,0 404,0 404,0 410,0 416,-6 416,-12 416,-12 416,-56 416,-56 416,-62 410,-68 404,-68\"/>\n",
       "<text text-anchor=\"start\" x=\"321\" y=\"-52.8\" font-family=\"Helvetica,sans-Serif\" font-size=\"14.00\">gini = 0.0</text>\n",
       "<text text-anchor=\"start\" x=\"311.5\" y=\"-37.8\" font-family=\"Helvetica,sans-Serif\" font-size=\"14.00\">samples = 2</text>\n",
       "<text text-anchor=\"start\" x=\"309.5\" y=\"-22.8\" font-family=\"Helvetica,sans-Serif\" font-size=\"14.00\">value = [0, 2]</text>\n",
       "<text text-anchor=\"start\" x=\"290\" y=\"-7.8\" font-family=\"Helvetica,sans-Serif\" font-size=\"14.00\">class = not churned</text>\n",
       "</g>\n",
       "<!-- 8&#45;&gt;9 -->\n",
       "<g id=\"edge9\" class=\"edge\">\n",
       "<title>8&#45;&gt;9</title>\n",
       "<path fill=\"none\" stroke=\"black\" d=\"M404.86,-103.73C397.52,-94.7 389.74,-85.12 382.39,-76.08\"/>\n",
       "<polygon fill=\"black\" stroke=\"black\" points=\"385.09,-73.85 376.07,-68.3 379.66,-78.27 385.09,-73.85\"/>\n",
       "</g>\n",
       "<!-- 10 -->\n",
       "<g id=\"node11\" class=\"node\">\n",
       "<title>10</title>\n",
       "<path fill=\"#9ccef2\" stroke=\"black\" d=\"M556,-68C556,-68 446,-68 446,-68 440,-68 434,-62 434,-56 434,-56 434,-12 434,-12 434,-6 440,0 446,0 446,0 556,0 556,0 562,0 568,-6 568,-12 568,-12 568,-56 568,-56 568,-62 562,-68 556,-68\"/>\n",
       "<text text-anchor=\"start\" x=\"465.5\" y=\"-52.8\" font-family=\"Helvetica,sans-Serif\" font-size=\"14.00\">gini = 0.444</text>\n",
       "<text text-anchor=\"start\" x=\"463.5\" y=\"-37.8\" font-family=\"Helvetica,sans-Serif\" font-size=\"14.00\">samples = 3</text>\n",
       "<text text-anchor=\"start\" x=\"461.5\" y=\"-22.8\" font-family=\"Helvetica,sans-Serif\" font-size=\"14.00\">value = [1, 2]</text>\n",
       "<text text-anchor=\"start\" x=\"442\" y=\"-7.8\" font-family=\"Helvetica,sans-Serif\" font-size=\"14.00\">class = not churned</text>\n",
       "</g>\n",
       "<!-- 8&#45;&gt;10 -->\n",
       "<g id=\"edge10\" class=\"edge\">\n",
       "<title>8&#45;&gt;10</title>\n",
       "<path fill=\"none\" stroke=\"black\" d=\"M461.46,-103.73C466.44,-95.06 471.72,-85.9 476.73,-77.18\"/>\n",
       "<polygon fill=\"black\" stroke=\"black\" points=\"479.89,-78.71 481.84,-68.3 473.82,-75.22 479.89,-78.71\"/>\n",
       "</g>\n",
       "<!-- 13 -->\n",
       "<g id=\"node14\" class=\"node\">\n",
       "<title>13</title>\n",
       "<path fill=\"#fdf3ec\" stroke=\"black\" d=\"M1120,-306C1120,-306 968,-306 968,-306 962,-306 956,-300 956,-294 956,-294 956,-235 956,-235 956,-229 962,-223 968,-223 968,-223 1120,-223 1120,-223 1126,-223 1132,-229 1132,-235 1132,-235 1132,-294 1132,-294 1132,-300 1126,-306 1120,-306\"/>\n",
       "<text text-anchor=\"start\" x=\"964\" y=\"-290.8\" font-family=\"Helvetica,sans-Serif\" font-size=\"14.00\">huidig_contractduur ≤ 18.0</text>\n",
       "<text text-anchor=\"start\" x=\"1008.5\" y=\"-275.8\" font-family=\"Helvetica,sans-Serif\" font-size=\"14.00\">gini = 0.499</text>\n",
       "<text text-anchor=\"start\" x=\"995.5\" y=\"-260.8\" font-family=\"Helvetica,sans-Serif\" font-size=\"14.00\">samples = 3397</text>\n",
       "<text text-anchor=\"start\" x=\"982\" y=\"-245.8\" font-family=\"Helvetica,sans-Serif\" font-size=\"14.00\">value = [1784, 1613]</text>\n",
       "<text text-anchor=\"start\" x=\"996\" y=\"-230.8\" font-family=\"Helvetica,sans-Serif\" font-size=\"14.00\">class = churned</text>\n",
       "</g>\n",
       "<!-- 12&#45;&gt;13 -->\n",
       "<g id=\"edge13\" class=\"edge\">\n",
       "<title>12&#45;&gt;13</title>\n",
       "<path fill=\"none\" stroke=\"black\" d=\"M1089.71,-341.91C1084.45,-333.1 1078.82,-323.7 1073.38,-314.61\"/>\n",
       "<polygon fill=\"black\" stroke=\"black\" points=\"1076.38,-312.81 1068.24,-306.02 1070.37,-316.4 1076.38,-312.81\"/>\n",
       "</g>\n",
       "<!-- 20 -->\n",
       "<g id=\"node21\" class=\"node\">\n",
       "<title>20</title>\n",
       "<path fill=\"#8cc6f0\" stroke=\"black\" d=\"M1397.5,-306C1397.5,-306 1242.5,-306 1242.5,-306 1236.5,-306 1230.5,-300 1230.5,-294 1230.5,-294 1230.5,-235 1230.5,-235 1230.5,-229 1236.5,-223 1242.5,-223 1242.5,-223 1397.5,-223 1397.5,-223 1403.5,-223 1409.5,-229 1409.5,-235 1409.5,-235 1409.5,-294 1409.5,-294 1409.5,-300 1403.5,-306 1397.5,-306\"/>\n",
       "<text text-anchor=\"start\" x=\"1238.5\" y=\"-290.8\" font-family=\"Helvetica,sans-Serif\" font-size=\"14.00\">VERBRUIKGAS ≤ 17105.5</text>\n",
       "<text text-anchor=\"start\" x=\"1284.5\" y=\"-275.8\" font-family=\"Helvetica,sans-Serif\" font-size=\"14.00\">gini = 0.415</text>\n",
       "<text text-anchor=\"start\" x=\"1275\" y=\"-260.8\" font-family=\"Helvetica,sans-Serif\" font-size=\"14.00\">samples = 299</text>\n",
       "<text text-anchor=\"start\" x=\"1270\" y=\"-245.8\" font-family=\"Helvetica,sans-Serif\" font-size=\"14.00\">value = [88, 211]</text>\n",
       "<text text-anchor=\"start\" x=\"1261\" y=\"-230.8\" font-family=\"Helvetica,sans-Serif\" font-size=\"14.00\">class = not churned</text>\n",
       "</g>\n",
       "<!-- 12&#45;&gt;20 -->\n",
       "<g id=\"edge20\" class=\"edge\">\n",
       "<title>12&#45;&gt;20</title>\n",
       "<path fill=\"none\" stroke=\"black\" d=\"M1185.47,-341.91C1203.05,-331.92 1221.98,-321.17 1239.93,-310.98\"/>\n",
       "<polygon fill=\"black\" stroke=\"black\" points=\"1241.69,-314 1248.66,-306.02 1238.23,-307.92 1241.69,-314\"/>\n",
       "</g>\n",
       "<!-- 14 -->\n",
       "<g id=\"node15\" class=\"node\">\n",
       "<title>14</title>\n",
       "<path fill=\"#fcefe5\" stroke=\"black\" d=\"M876.5,-187C876.5,-187 729.5,-187 729.5,-187 723.5,-187 717.5,-181 717.5,-175 717.5,-175 717.5,-116 717.5,-116 717.5,-110 723.5,-104 729.5,-104 729.5,-104 876.5,-104 876.5,-104 882.5,-104 888.5,-110 888.5,-116 888.5,-116 888.5,-175 888.5,-175 888.5,-181 882.5,-187 876.5,-187\"/>\n",
       "<text text-anchor=\"start\" x=\"725.5\" y=\"-171.8\" font-family=\"Helvetica,sans-Serif\" font-size=\"14.00\">VERBRUIKGAS ≤ 2003.0</text>\n",
       "<text text-anchor=\"start\" x=\"767.5\" y=\"-156.8\" font-family=\"Helvetica,sans-Serif\" font-size=\"14.00\">gini = 0.498</text>\n",
       "<text text-anchor=\"start\" x=\"754.5\" y=\"-141.8\" font-family=\"Helvetica,sans-Serif\" font-size=\"14.00\">samples = 3225</text>\n",
       "<text text-anchor=\"start\" x=\"741\" y=\"-126.8\" font-family=\"Helvetica,sans-Serif\" font-size=\"14.00\">value = [1725, 1500]</text>\n",
       "<text text-anchor=\"start\" x=\"755\" y=\"-111.8\" font-family=\"Helvetica,sans-Serif\" font-size=\"14.00\">class = churned</text>\n",
       "</g>\n",
       "<!-- 13&#45;&gt;14 -->\n",
       "<g id=\"edge14\" class=\"edge\">\n",
       "<title>13&#45;&gt;14</title>\n",
       "<path fill=\"none\" stroke=\"black\" d=\"M960.39,-222.91C939.45,-212.74 916.87,-201.78 895.53,-191.42\"/>\n",
       "<polygon fill=\"black\" stroke=\"black\" points=\"896.99,-188.24 886.47,-187.02 893.93,-194.54 896.99,-188.24\"/>\n",
       "</g>\n",
       "<!-- 17 -->\n",
       "<g id=\"node18\" class=\"node\">\n",
       "<title>17</title>\n",
       "<path fill=\"#a0d0f3\" stroke=\"black\" d=\"M1117.5,-187C1117.5,-187 970.5,-187 970.5,-187 964.5,-187 958.5,-181 958.5,-175 958.5,-175 958.5,-116 958.5,-116 958.5,-110 964.5,-104 970.5,-104 970.5,-104 1117.5,-104 1117.5,-104 1123.5,-104 1129.5,-110 1129.5,-116 1129.5,-116 1129.5,-175 1129.5,-175 1129.5,-181 1123.5,-187 1117.5,-187\"/>\n",
       "<text text-anchor=\"start\" x=\"966.5\" y=\"-171.8\" font-family=\"Helvetica,sans-Serif\" font-size=\"14.00\">VERBRUIKGAS ≤ 2235.5</text>\n",
       "<text text-anchor=\"start\" x=\"1008.5\" y=\"-156.8\" font-family=\"Helvetica,sans-Serif\" font-size=\"14.00\">gini = 0.451</text>\n",
       "<text text-anchor=\"start\" x=\"999\" y=\"-141.8\" font-family=\"Helvetica,sans-Serif\" font-size=\"14.00\">samples = 172</text>\n",
       "<text text-anchor=\"start\" x=\"994\" y=\"-126.8\" font-family=\"Helvetica,sans-Serif\" font-size=\"14.00\">value = [59, 113]</text>\n",
       "<text text-anchor=\"start\" x=\"985\" y=\"-111.8\" font-family=\"Helvetica,sans-Serif\" font-size=\"14.00\">class = not churned</text>\n",
       "</g>\n",
       "<!-- 13&#45;&gt;17 -->\n",
       "<g id=\"edge17\" class=\"edge\">\n",
       "<title>13&#45;&gt;17</title>\n",
       "<path fill=\"none\" stroke=\"black\" d=\"M1044,-222.91C1044,-214.65 1044,-205.86 1044,-197.3\"/>\n",
       "<polygon fill=\"black\" stroke=\"black\" points=\"1047.5,-197.02 1044,-187.02 1040.5,-197.02 1047.5,-197.02\"/>\n",
       "</g>\n",
       "<!-- 15 -->\n",
       "<g id=\"node16\" class=\"node\">\n",
       "<title>15</title>\n",
       "<path fill=\"#f9e3d3\" stroke=\"black\" d=\"M706,-68C706,-68 598,-68 598,-68 592,-68 586,-62 586,-56 586,-56 586,-12 586,-12 586,-6 592,0 598,0 598,0 706,0 706,0 712,0 718,-6 718,-12 718,-12 718,-56 718,-56 718,-62 712,-68 706,-68\"/>\n",
       "<text text-anchor=\"start\" x=\"616.5\" y=\"-52.8\" font-family=\"Helvetica,sans-Serif\" font-size=\"14.00\">gini = 0.492</text>\n",
       "<text text-anchor=\"start\" x=\"603.5\" y=\"-37.8\" font-family=\"Helvetica,sans-Serif\" font-size=\"14.00\">samples = 2250</text>\n",
       "<text text-anchor=\"start\" x=\"594\" y=\"-22.8\" font-family=\"Helvetica,sans-Serif\" font-size=\"14.00\">value = [1267, 983]</text>\n",
       "<text text-anchor=\"start\" x=\"604\" y=\"-7.8\" font-family=\"Helvetica,sans-Serif\" font-size=\"14.00\">class = churned</text>\n",
       "</g>\n",
       "<!-- 14&#45;&gt;15 -->\n",
       "<g id=\"edge15\" class=\"edge\">\n",
       "<title>14&#45;&gt;15</title>\n",
       "<path fill=\"none\" stroke=\"black\" d=\"M746.77,-103.73C733.44,-94.06 719.25,-83.77 706.02,-74.17\"/>\n",
       "<polygon fill=\"black\" stroke=\"black\" points=\"708.07,-71.34 697.92,-68.3 703.96,-77 708.07,-71.34\"/>\n",
       "</g>\n",
       "<!-- 16 -->\n",
       "<g id=\"node17\" class=\"node\">\n",
       "<title>16</title>\n",
       "<path fill=\"#e8f4fc\" stroke=\"black\" d=\"M858,-68C858,-68 748,-68 748,-68 742,-68 736,-62 736,-56 736,-56 736,-12 736,-12 736,-6 742,0 748,0 748,0 858,0 858,0 864,0 870,-6 870,-12 870,-12 870,-56 870,-56 870,-62 864,-68 858,-68\"/>\n",
       "<text text-anchor=\"start\" x=\"767.5\" y=\"-52.8\" font-family=\"Helvetica,sans-Serif\" font-size=\"14.00\">gini = 0.498</text>\n",
       "<text text-anchor=\"start\" x=\"758\" y=\"-37.8\" font-family=\"Helvetica,sans-Serif\" font-size=\"14.00\">samples = 975</text>\n",
       "<text text-anchor=\"start\" x=\"748.5\" y=\"-22.8\" font-family=\"Helvetica,sans-Serif\" font-size=\"14.00\">value = [458, 517]</text>\n",
       "<text text-anchor=\"start\" x=\"744\" y=\"-7.8\" font-family=\"Helvetica,sans-Serif\" font-size=\"14.00\">class = not churned</text>\n",
       "</g>\n",
       "<!-- 14&#45;&gt;16 -->\n",
       "<g id=\"edge16\" class=\"edge\">\n",
       "<title>14&#45;&gt;16</title>\n",
       "<path fill=\"none\" stroke=\"black\" d=\"M803,-103.73C803,-95.52 803,-86.86 803,-78.56\"/>\n",
       "<polygon fill=\"black\" stroke=\"black\" points=\"806.5,-78.3 803,-68.3 799.5,-78.3 806.5,-78.3\"/>\n",
       "</g>\n",
       "<!-- 18 -->\n",
       "<g id=\"node19\" class=\"node\">\n",
       "<title>18</title>\n",
       "<path fill=\"#81c1ef\" stroke=\"black\" d=\"M1010,-68C1010,-68 900,-68 900,-68 894,-68 888,-62 888,-56 888,-56 888,-12 888,-12 888,-6 894,0 900,0 900,0 1010,0 1010,0 1016,0 1022,-6 1022,-12 1022,-12 1022,-56 1022,-56 1022,-62 1016,-68 1010,-68\"/>\n",
       "<text text-anchor=\"start\" x=\"919.5\" y=\"-52.8\" font-family=\"Helvetica,sans-Serif\" font-size=\"14.00\">gini = 0.392</text>\n",
       "<text text-anchor=\"start\" x=\"910\" y=\"-37.8\" font-family=\"Helvetica,sans-Serif\" font-size=\"14.00\">samples = 127</text>\n",
       "<text text-anchor=\"start\" x=\"908\" y=\"-22.8\" font-family=\"Helvetica,sans-Serif\" font-size=\"14.00\">value = [34, 93]</text>\n",
       "<text text-anchor=\"start\" x=\"896\" y=\"-7.8\" font-family=\"Helvetica,sans-Serif\" font-size=\"14.00\">class = not churned</text>\n",
       "</g>\n",
       "<!-- 17&#45;&gt;18 -->\n",
       "<g id=\"edge18\" class=\"edge\">\n",
       "<title>17&#45;&gt;18</title>\n",
       "<path fill=\"none\" stroke=\"black\" d=\"M1010.86,-103.73C1003.52,-94.7 995.74,-85.12 988.39,-76.08\"/>\n",
       "<polygon fill=\"black\" stroke=\"black\" points=\"991.09,-73.85 982.07,-68.3 985.66,-78.27 991.09,-73.85\"/>\n",
       "</g>\n",
       "<!-- 19 -->\n",
       "<g id=\"node20\" class=\"node\">\n",
       "<title>19</title>\n",
       "<path fill=\"#fae6d7\" stroke=\"black\" d=\"M1140,-68C1140,-68 1052,-68 1052,-68 1046,-68 1040,-62 1040,-56 1040,-56 1040,-12 1040,-12 1040,-6 1046,0 1052,0 1052,0 1140,0 1140,0 1146,0 1152,-6 1152,-12 1152,-12 1152,-56 1152,-56 1152,-62 1146,-68 1140,-68\"/>\n",
       "<text text-anchor=\"start\" x=\"1060.5\" y=\"-52.8\" font-family=\"Helvetica,sans-Serif\" font-size=\"14.00\">gini = 0.494</text>\n",
       "<text text-anchor=\"start\" x=\"1055\" y=\"-37.8\" font-family=\"Helvetica,sans-Serif\" font-size=\"14.00\">samples = 45</text>\n",
       "<text text-anchor=\"start\" x=\"1049\" y=\"-22.8\" font-family=\"Helvetica,sans-Serif\" font-size=\"14.00\">value = [25, 20]</text>\n",
       "<text text-anchor=\"start\" x=\"1048\" y=\"-7.8\" font-family=\"Helvetica,sans-Serif\" font-size=\"14.00\">class = churned</text>\n",
       "</g>\n",
       "<!-- 17&#45;&gt;19 -->\n",
       "<g id=\"edge19\" class=\"edge\">\n",
       "<title>17&#45;&gt;19</title>\n",
       "<path fill=\"none\" stroke=\"black\" d=\"M1063.36,-103.73C1067.43,-95.15 1071.74,-86.09 1075.84,-77.46\"/>\n",
       "<polygon fill=\"black\" stroke=\"black\" points=\"1079.06,-78.83 1080.19,-68.3 1072.74,-75.83 1079.06,-78.83\"/>\n",
       "</g>\n",
       "<!-- 21 -->\n",
       "<g id=\"node22\" class=\"node\">\n",
       "<title>21</title>\n",
       "<path fill=\"#94caf1\" stroke=\"black\" d=\"M1393.5,-187C1393.5,-187 1246.5,-187 1246.5,-187 1240.5,-187 1234.5,-181 1234.5,-175 1234.5,-175 1234.5,-116 1234.5,-116 1234.5,-110 1240.5,-104 1246.5,-104 1246.5,-104 1393.5,-104 1393.5,-104 1399.5,-104 1405.5,-110 1405.5,-116 1405.5,-116 1405.5,-175 1405.5,-175 1405.5,-181 1399.5,-187 1393.5,-187\"/>\n",
       "<text text-anchor=\"start\" x=\"1242.5\" y=\"-171.8\" font-family=\"Helvetica,sans-Serif\" font-size=\"14.00\">VERBRUIKGAS ≤ 4159.5</text>\n",
       "<text text-anchor=\"start\" x=\"1284.5\" y=\"-156.8\" font-family=\"Helvetica,sans-Serif\" font-size=\"14.00\">gini = 0.432</text>\n",
       "<text text-anchor=\"start\" x=\"1275\" y=\"-141.8\" font-family=\"Helvetica,sans-Serif\" font-size=\"14.00\">samples = 266</text>\n",
       "<text text-anchor=\"start\" x=\"1269.5\" y=\"-126.8\" font-family=\"Helvetica,sans-Serif\" font-size=\"14.00\">value = [84, 182]</text>\n",
       "<text text-anchor=\"start\" x=\"1261\" y=\"-111.8\" font-family=\"Helvetica,sans-Serif\" font-size=\"14.00\">class = not churned</text>\n",
       "</g>\n",
       "<!-- 20&#45;&gt;21 -->\n",
       "<g id=\"edge21\" class=\"edge\">\n",
       "<title>20&#45;&gt;21</title>\n",
       "<path fill=\"none\" stroke=\"black\" d=\"M1320,-222.91C1320,-214.65 1320,-205.86 1320,-197.3\"/>\n",
       "<polygon fill=\"black\" stroke=\"black\" points=\"1323.5,-197.02 1320,-187.02 1316.5,-197.02 1323.5,-197.02\"/>\n",
       "</g>\n",
       "<!-- 24 -->\n",
       "<g id=\"node25\" class=\"node\">\n",
       "<title>24</title>\n",
       "<path fill=\"#54abe9\" stroke=\"black\" d=\"M1618.5,-187C1618.5,-187 1463.5,-187 1463.5,-187 1457.5,-187 1451.5,-181 1451.5,-175 1451.5,-175 1451.5,-116 1451.5,-116 1451.5,-110 1457.5,-104 1463.5,-104 1463.5,-104 1618.5,-104 1618.5,-104 1624.5,-104 1630.5,-110 1630.5,-116 1630.5,-116 1630.5,-175 1630.5,-175 1630.5,-181 1624.5,-187 1618.5,-187\"/>\n",
       "<text text-anchor=\"start\" x=\"1459.5\" y=\"-171.8\" font-family=\"Helvetica,sans-Serif\" font-size=\"14.00\">VERBRUIKGAS ≤ 22063.5</text>\n",
       "<text text-anchor=\"start\" x=\"1505.5\" y=\"-156.8\" font-family=\"Helvetica,sans-Serif\" font-size=\"14.00\">gini = 0.213</text>\n",
       "<text text-anchor=\"start\" x=\"1500\" y=\"-141.8\" font-family=\"Helvetica,sans-Serif\" font-size=\"14.00\">samples = 33</text>\n",
       "<text text-anchor=\"start\" x=\"1498\" y=\"-126.8\" font-family=\"Helvetica,sans-Serif\" font-size=\"14.00\">value = [4, 29]</text>\n",
       "<text text-anchor=\"start\" x=\"1482\" y=\"-111.8\" font-family=\"Helvetica,sans-Serif\" font-size=\"14.00\">class = not churned</text>\n",
       "</g>\n",
       "<!-- 20&#45;&gt;24 -->\n",
       "<g id=\"edge24\" class=\"edge\">\n",
       "<title>20&#45;&gt;24</title>\n",
       "<path fill=\"none\" stroke=\"black\" d=\"M1396.67,-222.91C1415.62,-212.88 1436.03,-202.07 1455.36,-191.84\"/>\n",
       "<polygon fill=\"black\" stroke=\"black\" points=\"1457.26,-194.79 1464.46,-187.02 1453.99,-188.61 1457.26,-194.79\"/>\n",
       "</g>\n",
       "<!-- 22 -->\n",
       "<g id=\"node23\" class=\"node\">\n",
       "<title>22</title>\n",
       "<path fill=\"#75bbed\" stroke=\"black\" d=\"M1292,-68C1292,-68 1182,-68 1182,-68 1176,-68 1170,-62 1170,-56 1170,-56 1170,-12 1170,-12 1170,-6 1176,0 1182,0 1182,0 1292,0 1292,0 1298,0 1304,-6 1304,-12 1304,-12 1304,-56 1304,-56 1304,-62 1298,-68 1292,-68\"/>\n",
       "<text text-anchor=\"start\" x=\"1201.5\" y=\"-52.8\" font-family=\"Helvetica,sans-Serif\" font-size=\"14.00\">gini = 0.357</text>\n",
       "<text text-anchor=\"start\" x=\"1196\" y=\"-37.8\" font-family=\"Helvetica,sans-Serif\" font-size=\"14.00\">samples = 73</text>\n",
       "<text text-anchor=\"start\" x=\"1190\" y=\"-22.8\" font-family=\"Helvetica,sans-Serif\" font-size=\"14.00\">value = [17, 56]</text>\n",
       "<text text-anchor=\"start\" x=\"1178\" y=\"-7.8\" font-family=\"Helvetica,sans-Serif\" font-size=\"14.00\">class = not churned</text>\n",
       "</g>\n",
       "<!-- 21&#45;&gt;22 -->\n",
       "<g id=\"edge22\" class=\"edge\">\n",
       "<title>21&#45;&gt;22</title>\n",
       "<path fill=\"none\" stroke=\"black\" d=\"M1289.09,-103.73C1282.32,-94.79 1275.14,-85.32 1268.35,-76.36\"/>\n",
       "<polygon fill=\"black\" stroke=\"black\" points=\"1271.07,-74.15 1262.24,-68.3 1265.49,-78.38 1271.07,-74.15\"/>\n",
       "</g>\n",
       "<!-- 23 -->\n",
       "<g id=\"node24\" class=\"node\">\n",
       "<title>23</title>\n",
       "<path fill=\"#a2d1f3\" stroke=\"black\" d=\"M1444,-68C1444,-68 1334,-68 1334,-68 1328,-68 1322,-62 1322,-56 1322,-56 1322,-12 1322,-12 1322,-6 1328,0 1334,0 1334,0 1444,0 1444,0 1450,0 1456,-6 1456,-12 1456,-12 1456,-56 1456,-56 1456,-62 1450,-68 1444,-68\"/>\n",
       "<text text-anchor=\"start\" x=\"1353.5\" y=\"-52.8\" font-family=\"Helvetica,sans-Serif\" font-size=\"14.00\">gini = 0.453</text>\n",
       "<text text-anchor=\"start\" x=\"1344\" y=\"-37.8\" font-family=\"Helvetica,sans-Serif\" font-size=\"14.00\">samples = 193</text>\n",
       "<text text-anchor=\"start\" x=\"1338.5\" y=\"-22.8\" font-family=\"Helvetica,sans-Serif\" font-size=\"14.00\">value = [67, 126]</text>\n",
       "<text text-anchor=\"start\" x=\"1330\" y=\"-7.8\" font-family=\"Helvetica,sans-Serif\" font-size=\"14.00\">class = not churned</text>\n",
       "</g>\n",
       "<!-- 21&#45;&gt;23 -->\n",
       "<g id=\"edge23\" class=\"edge\">\n",
       "<title>21&#45;&gt;23</title>\n",
       "<path fill=\"none\" stroke=\"black\" d=\"M1345.69,-103.73C1351.21,-94.97 1357.05,-85.7 1362.59,-76.91\"/>\n",
       "<polygon fill=\"black\" stroke=\"black\" points=\"1365.65,-78.63 1368.02,-68.3 1359.72,-74.89 1365.65,-78.63\"/>\n",
       "</g>\n",
       "<!-- 25 -->\n",
       "<g id=\"node26\" class=\"node\">\n",
       "<title>25</title>\n",
       "<path fill=\"#399de5\" stroke=\"black\" d=\"M1596,-68C1596,-68 1486,-68 1486,-68 1480,-68 1474,-62 1474,-56 1474,-56 1474,-12 1474,-12 1474,-6 1480,0 1486,0 1486,0 1596,0 1596,0 1602,0 1608,-6 1608,-12 1608,-12 1608,-56 1608,-56 1608,-62 1602,-68 1596,-68\"/>\n",
       "<text text-anchor=\"start\" x=\"1513\" y=\"-52.8\" font-family=\"Helvetica,sans-Serif\" font-size=\"14.00\">gini = 0.0</text>\n",
       "<text text-anchor=\"start\" x=\"1503.5\" y=\"-37.8\" font-family=\"Helvetica,sans-Serif\" font-size=\"14.00\">samples = 6</text>\n",
       "<text text-anchor=\"start\" x=\"1501.5\" y=\"-22.8\" font-family=\"Helvetica,sans-Serif\" font-size=\"14.00\">value = [0, 6]</text>\n",
       "<text text-anchor=\"start\" x=\"1482\" y=\"-7.8\" font-family=\"Helvetica,sans-Serif\" font-size=\"14.00\">class = not churned</text>\n",
       "</g>\n",
       "<!-- 24&#45;&gt;25 -->\n",
       "<g id=\"edge25\" class=\"edge\">\n",
       "<title>24&#45;&gt;25</title>\n",
       "<path fill=\"none\" stroke=\"black\" d=\"M1541,-103.73C1541,-95.52 1541,-86.86 1541,-78.56\"/>\n",
       "<polygon fill=\"black\" stroke=\"black\" points=\"1544.5,-78.3 1541,-68.3 1537.5,-78.3 1544.5,-78.3\"/>\n",
       "</g>\n",
       "<!-- 26 -->\n",
       "<g id=\"node27\" class=\"node\">\n",
       "<title>26</title>\n",
       "<path fill=\"#5baeea\" stroke=\"black\" d=\"M1748,-68C1748,-68 1638,-68 1638,-68 1632,-68 1626,-62 1626,-56 1626,-56 1626,-12 1626,-12 1626,-6 1632,0 1638,0 1638,0 1748,0 1748,0 1754,0 1760,-6 1760,-12 1760,-12 1760,-56 1760,-56 1760,-62 1754,-68 1748,-68\"/>\n",
       "<text text-anchor=\"start\" x=\"1657.5\" y=\"-52.8\" font-family=\"Helvetica,sans-Serif\" font-size=\"14.00\">gini = 0.252</text>\n",
       "<text text-anchor=\"start\" x=\"1652\" y=\"-37.8\" font-family=\"Helvetica,sans-Serif\" font-size=\"14.00\">samples = 27</text>\n",
       "<text text-anchor=\"start\" x=\"1650\" y=\"-22.8\" font-family=\"Helvetica,sans-Serif\" font-size=\"14.00\">value = [4, 23]</text>\n",
       "<text text-anchor=\"start\" x=\"1634\" y=\"-7.8\" font-family=\"Helvetica,sans-Serif\" font-size=\"14.00\">class = not churned</text>\n",
       "</g>\n",
       "<!-- 24&#45;&gt;26 -->\n",
       "<g id=\"edge26\" class=\"edge\">\n",
       "<title>24&#45;&gt;26</title>\n",
       "<path fill=\"none\" stroke=\"black\" d=\"M1597.6,-103.73C1611.02,-94.06 1625.31,-83.77 1638.62,-74.17\"/>\n",
       "<polygon fill=\"black\" stroke=\"black\" points=\"1640.71,-76.98 1646.78,-68.3 1636.62,-71.3 1640.71,-76.98\"/>\n",
       "</g>\n",
       "<!-- 28 -->\n",
       "<g id=\"node29\" class=\"node\">\n",
       "<title>28</title>\n",
       "<path fill=\"#f5d0b6\" stroke=\"black\" d=\"M2099,-425C2099,-425 1959,-425 1959,-425 1953,-425 1947,-419 1947,-413 1947,-413 1947,-354 1947,-354 1947,-348 1953,-342 1959,-342 1959,-342 2099,-342 2099,-342 2105,-342 2111,-348 2111,-354 2111,-354 2111,-413 2111,-413 2111,-419 2105,-425 2099,-425\"/>\n",
       "<text text-anchor=\"start\" x=\"1955\" y=\"-409.8\" font-family=\"Helvetica,sans-Serif\" font-size=\"14.00\">VERBRUIKGAS ≤ 592.5</text>\n",
       "<text text-anchor=\"start\" x=\"1993.5\" y=\"-394.8\" font-family=\"Helvetica,sans-Serif\" font-size=\"14.00\">gini = 0.474</text>\n",
       "<text text-anchor=\"start\" x=\"1980.5\" y=\"-379.8\" font-family=\"Helvetica,sans-Serif\" font-size=\"14.00\">samples = 1754</text>\n",
       "<text text-anchor=\"start\" x=\"1971\" y=\"-364.8\" font-family=\"Helvetica,sans-Serif\" font-size=\"14.00\">value = [1076, 678]</text>\n",
       "<text text-anchor=\"start\" x=\"1981\" y=\"-349.8\" font-family=\"Helvetica,sans-Serif\" font-size=\"14.00\">class = churned</text>\n",
       "</g>\n",
       "<!-- 27&#45;&gt;28 -->\n",
       "<g id=\"edge28\" class=\"edge\">\n",
       "<title>27&#45;&gt;28</title>\n",
       "<path fill=\"none\" stroke=\"black\" d=\"M2029,-460.91C2029,-452.65 2029,-443.86 2029,-435.3\"/>\n",
       "<polygon fill=\"black\" stroke=\"black\" points=\"2032.5,-435.02 2029,-425.02 2025.5,-435.02 2032.5,-435.02\"/>\n",
       "</g>\n",
       "<!-- 43 -->\n",
       "<g id=\"node44\" class=\"node\">\n",
       "<title>43</title>\n",
       "<path fill=\"#399de5\" stroke=\"black\" d=\"M2251,-417.5C2251,-417.5 2141,-417.5 2141,-417.5 2135,-417.5 2129,-411.5 2129,-405.5 2129,-405.5 2129,-361.5 2129,-361.5 2129,-355.5 2135,-349.5 2141,-349.5 2141,-349.5 2251,-349.5 2251,-349.5 2257,-349.5 2263,-355.5 2263,-361.5 2263,-361.5 2263,-405.5 2263,-405.5 2263,-411.5 2257,-417.5 2251,-417.5\"/>\n",
       "<text text-anchor=\"start\" x=\"2168\" y=\"-402.3\" font-family=\"Helvetica,sans-Serif\" font-size=\"14.00\">gini = 0.0</text>\n",
       "<text text-anchor=\"start\" x=\"2158.5\" y=\"-387.3\" font-family=\"Helvetica,sans-Serif\" font-size=\"14.00\">samples = 5</text>\n",
       "<text text-anchor=\"start\" x=\"2156.5\" y=\"-372.3\" font-family=\"Helvetica,sans-Serif\" font-size=\"14.00\">value = [0, 5]</text>\n",
       "<text text-anchor=\"start\" x=\"2137\" y=\"-357.3\" font-family=\"Helvetica,sans-Serif\" font-size=\"14.00\">class = not churned</text>\n",
       "</g>\n",
       "<!-- 27&#45;&gt;43 -->\n",
       "<g id=\"edge43\" class=\"edge\">\n",
       "<title>27&#45;&gt;43</title>\n",
       "<path fill=\"none\" stroke=\"black\" d=\"M2086.94,-460.91C2104.26,-448.77 2123.21,-435.49 2140.39,-423.46\"/>\n",
       "<polygon fill=\"black\" stroke=\"black\" points=\"2142.48,-426.27 2148.66,-417.67 2138.46,-420.54 2142.48,-426.27\"/>\n",
       "</g>\n",
       "<!-- 29 -->\n",
       "<g id=\"node30\" class=\"node\">\n",
       "<title>29</title>\n",
       "<path fill=\"#f0b48a\" stroke=\"black\" d=\"M2099,-306C2099,-306 1959,-306 1959,-306 1953,-306 1947,-300 1947,-294 1947,-294 1947,-235 1947,-235 1947,-229 1953,-223 1959,-223 1959,-223 2099,-223 2099,-223 2105,-223 2111,-229 2111,-235 2111,-235 2111,-294 2111,-294 2111,-300 2105,-306 2099,-306\"/>\n",
       "<text text-anchor=\"start\" x=\"1955\" y=\"-290.8\" font-family=\"Helvetica,sans-Serif\" font-size=\"14.00\">VERBRUIKGAS ≤ 507.5</text>\n",
       "<text text-anchor=\"start\" x=\"1994\" y=\"-275.8\" font-family=\"Helvetica,sans-Serif\" font-size=\"14.00\">gini = 0.411</text>\n",
       "<text text-anchor=\"start\" x=\"1984\" y=\"-260.8\" font-family=\"Helvetica,sans-Serif\" font-size=\"14.00\">samples = 159</text>\n",
       "<text text-anchor=\"start\" x=\"1979\" y=\"-245.8\" font-family=\"Helvetica,sans-Serif\" font-size=\"14.00\">value = [113, 46]</text>\n",
       "<text text-anchor=\"start\" x=\"1981\" y=\"-230.8\" font-family=\"Helvetica,sans-Serif\" font-size=\"14.00\">class = churned</text>\n",
       "</g>\n",
       "<!-- 28&#45;&gt;29 -->\n",
       "<g id=\"edge29\" class=\"edge\">\n",
       "<title>28&#45;&gt;29</title>\n",
       "<path fill=\"none\" stroke=\"black\" d=\"M2029,-341.91C2029,-333.65 2029,-324.86 2029,-316.3\"/>\n",
       "<polygon fill=\"black\" stroke=\"black\" points=\"2032.5,-316.02 2029,-306.02 2025.5,-316.02 2032.5,-316.02\"/>\n",
       "</g>\n",
       "<!-- 36 -->\n",
       "<g id=\"node37\" class=\"node\">\n",
       "<title>36</title>\n",
       "<path fill=\"#f6d4bb\" stroke=\"black\" d=\"M2490,-306C2490,-306 2350,-306 2350,-306 2344,-306 2338,-300 2338,-294 2338,-294 2338,-235 2338,-235 2338,-229 2344,-223 2350,-223 2350,-223 2490,-223 2490,-223 2496,-223 2502,-229 2502,-235 2502,-235 2502,-294 2502,-294 2502,-300 2496,-306 2490,-306\"/>\n",
       "<text text-anchor=\"start\" x=\"2346\" y=\"-290.8\" font-family=\"Helvetica,sans-Serif\" font-size=\"14.00\">VERBRUIKGAS ≤ 664.0</text>\n",
       "<text text-anchor=\"start\" x=\"2384.5\" y=\"-275.8\" font-family=\"Helvetica,sans-Serif\" font-size=\"14.00\">gini = 0.478</text>\n",
       "<text text-anchor=\"start\" x=\"2371.5\" y=\"-260.8\" font-family=\"Helvetica,sans-Serif\" font-size=\"14.00\">samples = 1595</text>\n",
       "<text text-anchor=\"start\" x=\"2365.5\" y=\"-245.8\" font-family=\"Helvetica,sans-Serif\" font-size=\"14.00\">value = [963, 632]</text>\n",
       "<text text-anchor=\"start\" x=\"2372\" y=\"-230.8\" font-family=\"Helvetica,sans-Serif\" font-size=\"14.00\">class = churned</text>\n",
       "</g>\n",
       "<!-- 28&#45;&gt;36 -->\n",
       "<g id=\"edge36\" class=\"edge\">\n",
       "<title>28&#45;&gt;36</title>\n",
       "<path fill=\"none\" stroke=\"black\" d=\"M2111.09,-345.22C2114.08,-344.1 2117.06,-343.02 2120,-342 2188.42,-318.24 2267.93,-298.3 2327.9,-284.74\"/>\n",
       "<polygon fill=\"black\" stroke=\"black\" points=\"2328.74,-288.14 2337.73,-282.53 2327.2,-281.31 2328.74,-288.14\"/>\n",
       "</g>\n",
       "<!-- 30 -->\n",
       "<g id=\"node31\" class=\"node\">\n",
       "<title>30</title>\n",
       "<path fill=\"#f1bb94\" stroke=\"black\" d=\"M2006,-187C2006,-187 1874,-187 1874,-187 1868,-187 1862,-181 1862,-175 1862,-175 1862,-116 1862,-116 1862,-110 1868,-104 1874,-104 1874,-104 2006,-104 2006,-104 2012,-104 2018,-110 2018,-116 2018,-116 2018,-175 2018,-175 2018,-181 2012,-187 2006,-187\"/>\n",
       "<text text-anchor=\"start\" x=\"1870\" y=\"-171.8\" font-family=\"Helvetica,sans-Serif\" font-size=\"14.00\">VERBRUIKGAS ≤ 40.0</text>\n",
       "<text text-anchor=\"start\" x=\"1904.5\" y=\"-156.8\" font-family=\"Helvetica,sans-Serif\" font-size=\"14.00\">gini = 0.431</text>\n",
       "<text text-anchor=\"start\" x=\"1895\" y=\"-141.8\" font-family=\"Helvetica,sans-Serif\" font-size=\"14.00\">samples = 143</text>\n",
       "<text text-anchor=\"start\" x=\"1893\" y=\"-126.8\" font-family=\"Helvetica,sans-Serif\" font-size=\"14.00\">value = [98, 45]</text>\n",
       "<text text-anchor=\"start\" x=\"1892\" y=\"-111.8\" font-family=\"Helvetica,sans-Serif\" font-size=\"14.00\">class = churned</text>\n",
       "</g>\n",
       "<!-- 29&#45;&gt;30 -->\n",
       "<g id=\"edge30\" class=\"edge\">\n",
       "<title>29&#45;&gt;30</title>\n",
       "<path fill=\"none\" stroke=\"black\" d=\"M1998.12,-222.91C1991.29,-213.92 1983.98,-204.32 1976.93,-195.05\"/>\n",
       "<polygon fill=\"black\" stroke=\"black\" points=\"1979.66,-192.86 1970.82,-187.02 1974.09,-197.1 1979.66,-192.86\"/>\n",
       "</g>\n",
       "<!-- 33 -->\n",
       "<g id=\"node34\" class=\"node\">\n",
       "<title>33</title>\n",
       "<path fill=\"#e78946\" stroke=\"black\" d=\"M2188,-187C2188,-187 2048,-187 2048,-187 2042,-187 2036,-181 2036,-175 2036,-175 2036,-116 2036,-116 2036,-110 2042,-104 2048,-104 2048,-104 2188,-104 2188,-104 2194,-104 2200,-110 2200,-116 2200,-116 2200,-175 2200,-175 2200,-181 2194,-187 2188,-187\"/>\n",
       "<text text-anchor=\"start\" x=\"2044\" y=\"-171.8\" font-family=\"Helvetica,sans-Serif\" font-size=\"14.00\">VERBRUIKGAS ≤ 577.0</text>\n",
       "<text text-anchor=\"start\" x=\"2083\" y=\"-156.8\" font-family=\"Helvetica,sans-Serif\" font-size=\"14.00\">gini = 0.117</text>\n",
       "<text text-anchor=\"start\" x=\"2077\" y=\"-141.8\" font-family=\"Helvetica,sans-Serif\" font-size=\"14.00\">samples = 16</text>\n",
       "<text text-anchor=\"start\" x=\"2075\" y=\"-126.8\" font-family=\"Helvetica,sans-Serif\" font-size=\"14.00\">value = [15, 1]</text>\n",
       "<text text-anchor=\"start\" x=\"2070\" y=\"-111.8\" font-family=\"Helvetica,sans-Serif\" font-size=\"14.00\">class = churned</text>\n",
       "</g>\n",
       "<!-- 29&#45;&gt;33 -->\n",
       "<g id=\"edge33\" class=\"edge\">\n",
       "<title>29&#45;&gt;33</title>\n",
       "<path fill=\"none\" stroke=\"black\" d=\"M2059.88,-222.91C2066.71,-213.92 2074.02,-204.32 2081.07,-195.05\"/>\n",
       "<polygon fill=\"black\" stroke=\"black\" points=\"2083.91,-197.1 2087.18,-187.02 2078.34,-192.86 2083.91,-197.1\"/>\n",
       "</g>\n",
       "<!-- 31 -->\n",
       "<g id=\"node32\" class=\"node\">\n",
       "<title>31</title>\n",
       "<path fill=\"#edaa7a\" stroke=\"black\" d=\"M1878,-68C1878,-68 1790,-68 1790,-68 1784,-68 1778,-62 1778,-56 1778,-56 1778,-12 1778,-12 1778,-6 1784,0 1790,0 1790,0 1878,0 1878,0 1884,0 1890,-6 1890,-12 1890,-12 1890,-56 1890,-56 1890,-62 1884,-68 1878,-68\"/>\n",
       "<text text-anchor=\"start\" x=\"1798.5\" y=\"-52.8\" font-family=\"Helvetica,sans-Serif\" font-size=\"14.00\">gini = 0.371</text>\n",
       "<text text-anchor=\"start\" x=\"1793\" y=\"-37.8\" font-family=\"Helvetica,sans-Serif\" font-size=\"14.00\">samples = 65</text>\n",
       "<text text-anchor=\"start\" x=\"1787\" y=\"-22.8\" font-family=\"Helvetica,sans-Serif\" font-size=\"14.00\">value = [49, 16]</text>\n",
       "<text text-anchor=\"start\" x=\"1786\" y=\"-7.8\" font-family=\"Helvetica,sans-Serif\" font-size=\"14.00\">class = churned</text>\n",
       "</g>\n",
       "<!-- 30&#45;&gt;31 -->\n",
       "<g id=\"edge31\" class=\"edge\">\n",
       "<title>30&#45;&gt;31</title>\n",
       "<path fill=\"none\" stroke=\"black\" d=\"M1900.53,-103.73C1891.61,-94.51 1882.15,-84.74 1873.24,-75.53\"/>\n",
       "<polygon fill=\"black\" stroke=\"black\" points=\"1875.71,-73.05 1866.24,-68.3 1870.68,-77.92 1875.71,-73.05\"/>\n",
       "</g>\n",
       "<!-- 32 -->\n",
       "<g id=\"node33\" class=\"node\">\n",
       "<title>32</title>\n",
       "<path fill=\"#f4ccae\" stroke=\"black\" d=\"M2008,-68C2008,-68 1920,-68 1920,-68 1914,-68 1908,-62 1908,-56 1908,-56 1908,-12 1908,-12 1908,-6 1914,0 1920,0 1920,0 2008,0 2008,0 2014,0 2020,-6 2020,-12 2020,-12 2020,-56 2020,-56 2020,-62 2014,-68 2008,-68\"/>\n",
       "<text text-anchor=\"start\" x=\"1928.5\" y=\"-52.8\" font-family=\"Helvetica,sans-Serif\" font-size=\"14.00\">gini = 0.467</text>\n",
       "<text text-anchor=\"start\" x=\"1923\" y=\"-37.8\" font-family=\"Helvetica,sans-Serif\" font-size=\"14.00\">samples = 78</text>\n",
       "<text text-anchor=\"start\" x=\"1917\" y=\"-22.8\" font-family=\"Helvetica,sans-Serif\" font-size=\"14.00\">value = [49, 29]</text>\n",
       "<text text-anchor=\"start\" x=\"1916\" y=\"-7.8\" font-family=\"Helvetica,sans-Serif\" font-size=\"14.00\">class = churned</text>\n",
       "</g>\n",
       "<!-- 30&#45;&gt;32 -->\n",
       "<g id=\"edge32\" class=\"edge\">\n",
       "<title>30&#45;&gt;32</title>\n",
       "<path fill=\"none\" stroke=\"black\" d=\"M1948.94,-103.73C1950.76,-95.43 1952.68,-86.67 1954.51,-78.28\"/>\n",
       "<polygon fill=\"black\" stroke=\"black\" points=\"1957.98,-78.82 1956.7,-68.3 1951.14,-77.32 1957.98,-78.82\"/>\n",
       "</g>\n",
       "<!-- 34 -->\n",
       "<g id=\"node35\" class=\"node\">\n",
       "<title>34</title>\n",
       "<path fill=\"#e58139\" stroke=\"black\" d=\"M2138,-68C2138,-68 2050,-68 2050,-68 2044,-68 2038,-62 2038,-56 2038,-56 2038,-12 2038,-12 2038,-6 2044,0 2050,0 2050,0 2138,0 2138,0 2144,0 2150,-6 2150,-12 2150,-12 2150,-56 2150,-56 2150,-62 2144,-68 2138,-68\"/>\n",
       "<text text-anchor=\"start\" x=\"2066\" y=\"-52.8\" font-family=\"Helvetica,sans-Serif\" font-size=\"14.00\">gini = 0.0</text>\n",
       "<text text-anchor=\"start\" x=\"2053\" y=\"-37.8\" font-family=\"Helvetica,sans-Serif\" font-size=\"14.00\">samples = 13</text>\n",
       "<text text-anchor=\"start\" x=\"2051\" y=\"-22.8\" font-family=\"Helvetica,sans-Serif\" font-size=\"14.00\">value = [13, 0]</text>\n",
       "<text text-anchor=\"start\" x=\"2046\" y=\"-7.8\" font-family=\"Helvetica,sans-Serif\" font-size=\"14.00\">class = churned</text>\n",
       "</g>\n",
       "<!-- 33&#45;&gt;34 -->\n",
       "<g id=\"edge34\" class=\"edge\">\n",
       "<title>33&#45;&gt;34</title>\n",
       "<path fill=\"none\" stroke=\"black\" d=\"M2109.06,-103.73C2107.24,-95.43 2105.32,-86.67 2103.49,-78.28\"/>\n",
       "<polygon fill=\"black\" stroke=\"black\" points=\"2106.86,-77.32 2101.3,-68.3 2100.02,-78.82 2106.86,-77.32\"/>\n",
       "</g>\n",
       "<!-- 35 -->\n",
       "<g id=\"node36\" class=\"node\">\n",
       "<title>35</title>\n",
       "<path fill=\"#f2c09c\" stroke=\"black\" d=\"M2268,-68C2268,-68 2180,-68 2180,-68 2174,-68 2168,-62 2168,-56 2168,-56 2168,-12 2168,-12 2168,-6 2174,0 2180,0 2180,0 2268,0 2268,0 2274,0 2280,-6 2280,-12 2280,-12 2280,-56 2280,-56 2280,-62 2274,-68 2268,-68\"/>\n",
       "<text text-anchor=\"start\" x=\"2188.5\" y=\"-52.8\" font-family=\"Helvetica,sans-Serif\" font-size=\"14.00\">gini = 0.444</text>\n",
       "<text text-anchor=\"start\" x=\"2186.5\" y=\"-37.8\" font-family=\"Helvetica,sans-Serif\" font-size=\"14.00\">samples = 3</text>\n",
       "<text text-anchor=\"start\" x=\"2184.5\" y=\"-22.8\" font-family=\"Helvetica,sans-Serif\" font-size=\"14.00\">value = [2, 1]</text>\n",
       "<text text-anchor=\"start\" x=\"2176\" y=\"-7.8\" font-family=\"Helvetica,sans-Serif\" font-size=\"14.00\">class = churned</text>\n",
       "</g>\n",
       "<!-- 33&#45;&gt;35 -->\n",
       "<g id=\"edge35\" class=\"edge\">\n",
       "<title>33&#45;&gt;35</title>\n",
       "<path fill=\"none\" stroke=\"black\" d=\"M2157.47,-103.73C2166.39,-94.51 2175.85,-84.74 2184.76,-75.53\"/>\n",
       "<polygon fill=\"black\" stroke=\"black\" points=\"2187.32,-77.92 2191.76,-68.3 2182.29,-73.05 2187.32,-77.92\"/>\n",
       "</g>\n",
       "<!-- 37 -->\n",
       "<g id=\"node38\" class=\"node\">\n",
       "<title>37</title>\n",
       "<path fill=\"#8bc6f0\" stroke=\"black\" d=\"M2490,-187C2490,-187 2350,-187 2350,-187 2344,-187 2338,-181 2338,-175 2338,-175 2338,-116 2338,-116 2338,-110 2344,-104 2350,-104 2350,-104 2490,-104 2490,-104 2496,-104 2502,-110 2502,-116 2502,-116 2502,-175 2502,-175 2502,-181 2496,-187 2490,-187\"/>\n",
       "<text text-anchor=\"start\" x=\"2346\" y=\"-171.8\" font-family=\"Helvetica,sans-Serif\" font-size=\"14.00\">VERBRUIKGAS ≤ 659.0</text>\n",
       "<text text-anchor=\"start\" x=\"2384.5\" y=\"-156.8\" font-family=\"Helvetica,sans-Serif\" font-size=\"14.00\">gini = 0.415</text>\n",
       "<text text-anchor=\"start\" x=\"2379\" y=\"-141.8\" font-family=\"Helvetica,sans-Serif\" font-size=\"14.00\">samples = 17</text>\n",
       "<text text-anchor=\"start\" x=\"2377\" y=\"-126.8\" font-family=\"Helvetica,sans-Serif\" font-size=\"14.00\">value = [5, 12]</text>\n",
       "<text text-anchor=\"start\" x=\"2361\" y=\"-111.8\" font-family=\"Helvetica,sans-Serif\" font-size=\"14.00\">class = not churned</text>\n",
       "</g>\n",
       "<!-- 36&#45;&gt;37 -->\n",
       "<g id=\"edge37\" class=\"edge\">\n",
       "<title>36&#45;&gt;37</title>\n",
       "<path fill=\"none\" stroke=\"black\" d=\"M2420,-222.91C2420,-214.65 2420,-205.86 2420,-197.3\"/>\n",
       "<polygon fill=\"black\" stroke=\"black\" points=\"2423.5,-197.02 2420,-187.02 2416.5,-197.02 2423.5,-197.02\"/>\n",
       "</g>\n",
       "<!-- 40 -->\n",
       "<g id=\"node41\" class=\"node\">\n",
       "<title>40</title>\n",
       "<path fill=\"#f6d3b9\" stroke=\"black\" d=\"M2728,-187C2728,-187 2588,-187 2588,-187 2582,-187 2576,-181 2576,-175 2576,-175 2576,-116 2576,-116 2576,-110 2582,-104 2588,-104 2588,-104 2728,-104 2728,-104 2734,-104 2740,-110 2740,-116 2740,-116 2740,-175 2740,-175 2740,-181 2734,-187 2728,-187\"/>\n",
       "<text text-anchor=\"start\" x=\"2584\" y=\"-171.8\" font-family=\"Helvetica,sans-Serif\" font-size=\"14.00\">VERBRUIKGAS ≤ 714.5</text>\n",
       "<text text-anchor=\"start\" x=\"2622.5\" y=\"-156.8\" font-family=\"Helvetica,sans-Serif\" font-size=\"14.00\">gini = 0.477</text>\n",
       "<text text-anchor=\"start\" x=\"2609.5\" y=\"-141.8\" font-family=\"Helvetica,sans-Serif\" font-size=\"14.00\">samples = 1578</text>\n",
       "<text text-anchor=\"start\" x=\"2603.5\" y=\"-126.8\" font-family=\"Helvetica,sans-Serif\" font-size=\"14.00\">value = [958, 620]</text>\n",
       "<text text-anchor=\"start\" x=\"2610\" y=\"-111.8\" font-family=\"Helvetica,sans-Serif\" font-size=\"14.00\">class = churned</text>\n",
       "</g>\n",
       "<!-- 36&#45;&gt;40 -->\n",
       "<g id=\"edge40\" class=\"edge\">\n",
       "<title>36&#45;&gt;40</title>\n",
       "<path fill=\"none\" stroke=\"black\" d=\"M2502.24,-223.07C2523.05,-212.84 2545.52,-201.79 2566.75,-191.36\"/>\n",
       "<polygon fill=\"black\" stroke=\"black\" points=\"2568.33,-194.48 2575.76,-186.93 2565.24,-188.2 2568.33,-194.48\"/>\n",
       "</g>\n",
       "<!-- 38 -->\n",
       "<g id=\"node39\" class=\"node\">\n",
       "<title>38</title>\n",
       "<path fill=\"#b5daf5\" stroke=\"black\" d=\"M2420,-68C2420,-68 2310,-68 2310,-68 2304,-68 2298,-62 2298,-56 2298,-56 2298,-12 2298,-12 2298,-6 2304,0 2310,0 2310,0 2420,0 2420,0 2426,0 2432,-6 2432,-12 2432,-12 2432,-56 2432,-56 2432,-62 2426,-68 2420,-68\"/>\n",
       "<text text-anchor=\"start\" x=\"2329.5\" y=\"-52.8\" font-family=\"Helvetica,sans-Serif\" font-size=\"14.00\">gini = 0.473</text>\n",
       "<text text-anchor=\"start\" x=\"2324\" y=\"-37.8\" font-family=\"Helvetica,sans-Serif\" font-size=\"14.00\">samples = 13</text>\n",
       "<text text-anchor=\"start\" x=\"2325.5\" y=\"-22.8\" font-family=\"Helvetica,sans-Serif\" font-size=\"14.00\">value = [5, 8]</text>\n",
       "<text text-anchor=\"start\" x=\"2306\" y=\"-7.8\" font-family=\"Helvetica,sans-Serif\" font-size=\"14.00\">class = not churned</text>\n",
       "</g>\n",
       "<!-- 37&#45;&gt;38 -->\n",
       "<g id=\"edge38\" class=\"edge\">\n",
       "<title>37&#45;&gt;38</title>\n",
       "<path fill=\"none\" stroke=\"black\" d=\"M2399.52,-103.73C2395.21,-95.15 2390.66,-86.09 2386.32,-77.46\"/>\n",
       "<polygon fill=\"black\" stroke=\"black\" points=\"2389.34,-75.66 2381.73,-68.3 2383.09,-78.81 2389.34,-75.66\"/>\n",
       "</g>\n",
       "<!-- 39 -->\n",
       "<g id=\"node40\" class=\"node\">\n",
       "<title>39</title>\n",
       "<path fill=\"#399de5\" stroke=\"black\" d=\"M2572,-68C2572,-68 2462,-68 2462,-68 2456,-68 2450,-62 2450,-56 2450,-56 2450,-12 2450,-12 2450,-6 2456,0 2462,0 2462,0 2572,0 2572,0 2578,0 2584,-6 2584,-12 2584,-12 2584,-56 2584,-56 2584,-62 2578,-68 2572,-68\"/>\n",
       "<text text-anchor=\"start\" x=\"2489\" y=\"-52.8\" font-family=\"Helvetica,sans-Serif\" font-size=\"14.00\">gini = 0.0</text>\n",
       "<text text-anchor=\"start\" x=\"2479.5\" y=\"-37.8\" font-family=\"Helvetica,sans-Serif\" font-size=\"14.00\">samples = 4</text>\n",
       "<text text-anchor=\"start\" x=\"2477.5\" y=\"-22.8\" font-family=\"Helvetica,sans-Serif\" font-size=\"14.00\">value = [0, 4]</text>\n",
       "<text text-anchor=\"start\" x=\"2458\" y=\"-7.8\" font-family=\"Helvetica,sans-Serif\" font-size=\"14.00\">class = not churned</text>\n",
       "</g>\n",
       "<!-- 37&#45;&gt;39 -->\n",
       "<g id=\"edge39\" class=\"edge\">\n",
       "<title>37&#45;&gt;39</title>\n",
       "<path fill=\"none\" stroke=\"black\" d=\"M2456.12,-103.73C2464.2,-94.61 2472.77,-84.93 2480.85,-75.81\"/>\n",
       "<polygon fill=\"black\" stroke=\"black\" points=\"2483.49,-78.11 2487.5,-68.3 2478.25,-73.46 2483.49,-78.11\"/>\n",
       "</g>\n",
       "<!-- 41 -->\n",
       "<g id=\"node42\" class=\"node\">\n",
       "<title>41</title>\n",
       "<path fill=\"#ea9c63\" stroke=\"black\" d=\"M2702,-68C2702,-68 2614,-68 2614,-68 2608,-68 2602,-62 2602,-56 2602,-56 2602,-12 2602,-12 2602,-6 2608,0 2614,0 2614,0 2702,0 2702,0 2708,0 2714,-6 2714,-12 2714,-12 2714,-56 2714,-56 2714,-62 2708,-68 2702,-68\"/>\n",
       "<text text-anchor=\"start\" x=\"2622.5\" y=\"-52.8\" font-family=\"Helvetica,sans-Serif\" font-size=\"14.00\">gini = 0.287</text>\n",
       "<text text-anchor=\"start\" x=\"2617\" y=\"-37.8\" font-family=\"Helvetica,sans-Serif\" font-size=\"14.00\">samples = 23</text>\n",
       "<text text-anchor=\"start\" x=\"2615\" y=\"-22.8\" font-family=\"Helvetica,sans-Serif\" font-size=\"14.00\">value = [19, 4]</text>\n",
       "<text text-anchor=\"start\" x=\"2610\" y=\"-7.8\" font-family=\"Helvetica,sans-Serif\" font-size=\"14.00\">class = churned</text>\n",
       "</g>\n",
       "<!-- 40&#45;&gt;41 -->\n",
       "<g id=\"edge41\" class=\"edge\">\n",
       "<title>40&#45;&gt;41</title>\n",
       "<path fill=\"none\" stroke=\"black\" d=\"M2658,-103.73C2658,-95.52 2658,-86.86 2658,-78.56\"/>\n",
       "<polygon fill=\"black\" stroke=\"black\" points=\"2661.5,-78.3 2658,-68.3 2654.5,-78.3 2661.5,-78.3\"/>\n",
       "</g>\n",
       "<!-- 42 -->\n",
       "<g id=\"node43\" class=\"node\">\n",
       "<title>42</title>\n",
       "<path fill=\"#f6d4bb\" stroke=\"black\" d=\"M2845.5,-68C2845.5,-68 2744.5,-68 2744.5,-68 2738.5,-68 2732.5,-62 2732.5,-56 2732.5,-56 2732.5,-12 2732.5,-12 2732.5,-6 2738.5,0 2744.5,0 2744.5,0 2845.5,0 2845.5,0 2851.5,0 2857.5,-6 2857.5,-12 2857.5,-12 2857.5,-56 2857.5,-56 2857.5,-62 2851.5,-68 2845.5,-68\"/>\n",
       "<text text-anchor=\"start\" x=\"2759.5\" y=\"-52.8\" font-family=\"Helvetica,sans-Serif\" font-size=\"14.00\">gini = 0.478</text>\n",
       "<text text-anchor=\"start\" x=\"2746.5\" y=\"-37.8\" font-family=\"Helvetica,sans-Serif\" font-size=\"14.00\">samples = 1555</text>\n",
       "<text text-anchor=\"start\" x=\"2740.5\" y=\"-22.8\" font-family=\"Helvetica,sans-Serif\" font-size=\"14.00\">value = [939, 616]</text>\n",
       "<text text-anchor=\"start\" x=\"2747\" y=\"-7.8\" font-family=\"Helvetica,sans-Serif\" font-size=\"14.00\">class = churned</text>\n",
       "</g>\n",
       "<!-- 40&#45;&gt;42 -->\n",
       "<g id=\"edge42\" class=\"edge\">\n",
       "<title>40&#45;&gt;42</title>\n",
       "<path fill=\"none\" stroke=\"black\" d=\"M2709.01,-103.73C2720.88,-94.24 2733.5,-84.16 2745.31,-74.72\"/>\n",
       "<polygon fill=\"black\" stroke=\"black\" points=\"2747.71,-77.28 2753.34,-68.3 2743.34,-71.81 2747.71,-77.28\"/>\n",
       "</g>\n",
       "</g>\n",
       "</svg>\n"
      ],
      "text/plain": [
       "<graphviz.sources.Source at 0x2c14a995280>"
      ]
     },
     "execution_count": 42,
     "metadata": {},
     "output_type": "execute_result"
    }
   ],
   "source": [
    "plot_tree(dt3, featuresModel2)"
   ]
  },
  {
   "cell_type": "markdown",
   "metadata": {},
   "source": [
    "## Decision trees summary\n",
    "\n",
    "Pro:\n",
    "- Human readable and easy to understand\n",
    "- The training algorithm scales very well with the number of rows and number of features. Time complexity for building a decision tree is `O(#rows*log(#rows)*#features)`.\n",
    "\n",
    "Con:\n",
    "- Prone to overfitting. Limit the depth of the tree (or prune the tree) to mitigate this issue.\n",
    "- Can not learn as complex hypotheses as more advanced models like Neural Networks and Random Forests"
   ]
  },
  {
   "cell_type": "markdown",
   "metadata": {},
   "source": [
    "## Random forests"
   ]
  },
  {
   "cell_type": "markdown",
   "metadata": {},
   "source": [
    "![](http://res.cloudinary.com/dyd911kmh/image/upload/f_auto,q_auto:best/v1526467744/voting_dnjweq.jpg)"
   ]
  },
  {
   "cell_type": "code",
   "execution_count": 43,
   "metadata": {},
   "outputs": [
    {
     "name": "stdout",
     "output_type": "stream",
     "text": [
      "Result on trainset:\n",
      "0.8026686936068423\n",
      "\n",
      "Result on testset:\n",
      "0.8004415994381416\n"
     ]
    },
    {
     "data": {
      "image/png": "[encoded data removed]",
      "text/plain": [
       "<Figure size 432x288 with 1 Axes>"
      ]
     },
     "metadata": {
      "needs_background": "light"
     },
     "output_type": "display_data"
    },
    {
     "data": {
      "text/plain": [
       "(0.8026686936068423, 0.8004415994381416)"
      ]
     },
     "execution_count": 43,
     "metadata": {},
     "output_type": "execute_result"
    }
   ],
   "source": [
    "from sklearn.ensemble import RandomForestClassifier\n",
    "\n",
    "featuresModelRF = ['huidig_contractduur', 'Door 2 Door', 'Inbound', 'Online', 'Prijsvergelijker',\n",
    "       'Speciale sales acties', 'Telemarketing', 'vaste_prijs', 'groene_stroom'] \n",
    "forest = RandomForestClassifier(n_estimators=200, random_state = 123)\n",
    "forest.fit(df_train[featuresModelRF], df_train['churned'])\n",
    "\n",
    "apply_model(forest, featuresModelRF, show_auroc=True)"
   ]
  },
  {
   "cell_type": "code",
   "execution_count": 44,
   "metadata": {},
   "outputs": [
    {
     "data": {
      "image/png": "[encoded data removed]",
      "text/plain": [
       "<Figure size 432x288 with 1 Axes>"
      ]
     },
     "metadata": {
      "needs_background": "light"
     },
     "output_type": "display_data"
    }
   ],
   "source": [
    "AUC_train = []\n",
    "AUC_test = []\n",
    "n_trees = range(1, 50)\n",
    "\n",
    "for n_tree in n_trees:\n",
    "    rf = RandomForestClassifier(n_estimators=n_tree, random_state = 123)\n",
    "    rf.fit(df_train[featuresModelRF], df_train['churned'])\n",
    "    AUC_train_i, AUC_test_i = apply_model(rf, featuresModelRF, print_to_screen=False)\n",
    "    AUC_train.append(AUC_train_i)\n",
    "    AUC_test.append(AUC_test_i)\n",
    "    \n",
    "plt.plot(n_trees, AUC_train, label='train')\n",
    "plt.plot(n_trees, AUC_test, label='test')\n",
    "plt.legend()\n",
    "plt.xlabel('n trees')\n",
    "plt.ylabel('AUC-score')\n",
    "plt.show()"
   ]
  },
  {
   "cell_type": "code",
   "execution_count": 45,
   "metadata": {},
   "outputs": [
    {
     "data": {
      "text/plain": [
       "array([0.66202906, 0.02404669, 0.0075789 , 0.01429681, 0.02482483,\n",
       "       0.03103036, 0.02009746, 0.12078736, 0.09530852])"
      ]
     },
     "execution_count": 45,
     "metadata": {},
     "output_type": "execute_result"
    }
   ],
   "source": [
    "forest.feature_importances_"
   ]
  },
  {
   "cell_type": "code",
   "execution_count": 47,
   "metadata": {},
   "outputs": [
    {
     "name": "stdout",
     "output_type": "stream",
     "text": [
      "Feature ranking:\n",
      "1. feature 0 huidig_contractduur (0.662029)\n",
      "2. feature 7 Door 2 Door (0.120787)\n",
      "3. feature 8 Inbound (0.095309)\n",
      "4. feature 5 Online (0.031030)\n",
      "5. feature 4 Prijsvergelijker (0.024825)\n",
      "6. feature 1 Speciale sales acties (0.024047)\n",
      "7. feature 6 Telemarketing (0.020097)\n",
      "8. feature 3 vaste_prijs (0.014297)\n",
      "9. feature 2 groene_stroom (0.007579)\n"
     ]
    },
    {
     "data": {
      "image/png": "[encoded data removed]",
      "text/plain": [
       "<Figure size 432x288 with 1 Axes>"
      ]
     },
     "metadata": {
      "needs_background": "light"
     },
     "output_type": "display_data"
    }
   ],
   "source": [
    "importances = forest.feature_importances_\n",
    "std = np.std([tree.feature_importances_ for tree in forest.estimators_],\n",
    "             axis=0)\n",
    "indices = np.argsort(importances)[::-1]\n",
    "features = pd.Series(featuresModelRF)\n",
    "\n",
    "# Print the feature ranking\n",
    "print(\"Feature ranking:\")\n",
    "\n",
    "index_features=[]\n",
    "for f in range(len(featuresModelRF)):\n",
    "    index_features.append(f)\n",
    "    print(\"%d. feature %d %s (%f)\" % (f + 1, indices[f], features[f], importances[indices[f]]))\n",
    "\n",
    "# Plot the impurity-based feature importances of the forest\n",
    "plt.figure()\n",
    "plt.title(\"Feature importances\")\n",
    "plt.bar(range(len(featuresModelRF)), importances[indices],\n",
    "        color=\"r\", yerr=std[indices], align=\"center\")\n",
    "plt.xticks(range(len(featuresModelRF)), features[index_features], rotation = 90)\n",
    "plt.xlim([-1, len(featuresModelRF)])\n",
    "plt.show()"
   ]
  },
  {
   "cell_type": "markdown",
   "metadata": {},
   "source": [
    "## Random forest summary:\n",
    "\n",
    "Pro:\n",
    "- Can learn complex hypotheses compared to models like decision trees, linear and logistic regression\n",
    "- Can rank features based on important. Can be used for feature selection.\n",
    "- Does not need a test set to be evaluated. Can use [Out Of Bag error](https://stackoverflow.com/questions/18541923/what-is-out-of-bag-error-in-random-forests) instead. \n",
    "- The training algorithm scales very well with the number of rows and number of features. Time complexity for building a random forest is `O(#rows*log(#rows)*#features*#trees)`.\n",
    "\n",
    "Con:\n",
    "- Loses the readability and interpretability that decision trees have."
   ]
  },
  {
   "cell_type": "markdown",
   "metadata": {},
   "source": [
    "## Task\n",
    "- Finish your univariate and bivariate analysis on Titanic mini-project.\n",
    "- **Split the data into a train and test set.**\n",
    "- Choose an evaluation metric.\n",
    "- Create a decision tree with the train set and evaluate the model with the test set.\n",
    "- Create a random forest with the train set and evaluate the model with the test set.\n",
    "- Present (a summary) of your results at the end of the day."
   ]
  },
  {
   "cell_type": "code",
   "execution_count": null,
   "metadata": {},
   "outputs": [],
   "source": []
  }
 ],
 "metadata": {
  "kernelspec": {
   "display_name": "Python 3 (ipykernel)",
   "language": "python",
   "name": "python3"
  },
  "language_info": {
   "codemirror_mode": {
    "name": "ipython",
    "version": 3
   },
   "file_extension": ".py",
   "mimetype": "text/x-python",
   "name": "python",
   "nbconvert_exporter": "python",
   "pygments_lexer": "ipython3",
   "version": "3.9.12"
  }
 },
 "nbformat": 4,
 "nbformat_minor": 2
}
